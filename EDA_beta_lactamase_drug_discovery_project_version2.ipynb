{
  "nbformat": 4,
  "nbformat_minor": 0,
  "metadata": {
    "colab": {
      "name": "EDA_beta_lactamase_drug_discovery_project.ipynb",
      "provenance": [],
      "collapsed_sections": [
        "0DGMYrNmOuUK",
        "KV3_fLkMOuUQ"
      ],
      "include_colab_link": true
    },
    "interpreter": {
      "hash": "e20e3b0b51f3143b7c97dbfc5299eec6802759c0a1249a4161be00143a606520"
    },
    "kernelspec": {
      "display_name": "Python 3.8.11 64-bit ('ml-zoomcamp': conda)",
      "name": "python3"
    },
    "language_info": {
      "codemirror_mode": {
        "name": "ipython",
        "version": 3
      },
      "file_extension": ".py",
      "mimetype": "text/x-python",
      "name": "python",
      "nbconvert_exporter": "python",
      "pygments_lexer": "ipython3",
      "version": "3.8.11"
    }
  },
  "cells": [
    {
      "cell_type": "markdown",
      "metadata": {
        "id": "view-in-github",
        "colab_type": "text"
      },
      "source": [
        "<a href=\"https://colab.research.google.com/github/sayalaruano/MidtermProject-MLZoomCamp/blob/main/EDA_beta_lactamase_drug_discovery_project_version2.ipynb\" target=\"_parent\"><img src=\"https://colab.research.google.com/assets/colab-badge.svg\" alt=\"Open In Colab\"/></a>"
      ]
    },
    {
      "cell_type": "markdown",
      "metadata": {
        "id": "uOXYIR2P5bUi"
      },
      "source": [
        "# **EDA of Beta-Lactamases drug discovery project**\n",
        "\n",
        "Sebastián Ayala Ruano\n",
        "\n",
        "This [video](https://youtu.be/_GtEgiWWyK4) has more information about the project and how to collaborate in it."
      ]
    },
    {
      "cell_type": "markdown",
      "metadata": {
        "id": "kup4AmgvO1BV"
      },
      "source": [
        "## **Installation of libraries and mounting drive**"
      ]
    },
    {
      "cell_type": "code",
      "metadata": {
        "colab": {
          "base_uri": "https://localhost:8080/"
        },
        "id": "_e5CAQuOO0mu",
        "outputId": "80c2a7da-74d2-470b-fcf2-832f4fad91aa"
      },
      "source": [
        "# Load the Drive helper and mount\n",
        "from google.colab import drive\n",
        "drive.mount('/content/drive')"
      ],
      "execution_count": 2,
      "outputs": [
        {
          "output_type": "stream",
          "name": "stdout",
          "text": [
            "Drive already mounted at /content/drive; to attempt to forcibly remount, call drive.mount(\"/content/drive\", force_remount=True).\n"
          ]
        }
      ]
    },
    {
      "cell_type": "code",
      "metadata": {
        "id": "iPVN4PSo1Gxb"
      },
      "source": [
        "import os\n",
        "os.chdir(\"drive/MyDrive/MLZoomcamp/MidtermProject-MLZoomCamp-main\")"
      ],
      "execution_count": 2,
      "outputs": []
    },
    {
      "cell_type": "code",
      "metadata": {
        "colab": {
          "base_uri": "https://localhost:8080/"
        },
        "id": "y3ged1891a2Q",
        "outputId": "c072e3e8-d795-4129-d692-f628e4ba417f"
      },
      "source": [
        "!pip install padelpy"
      ],
      "execution_count": 3,
      "outputs": [
        {
          "output_type": "stream",
          "name": "stdout",
          "text": [
            "Requirement already satisfied: padelpy in /usr/local/lib/python3.7/dist-packages (0.1.10)\n"
          ]
        }
      ]
    },
    {
      "cell_type": "code",
      "metadata": {
        "id": "_JojOLz49Rus",
        "colab": {
          "base_uri": "https://localhost:8080/"
        },
        "outputId": "e783ec64-5c5f-4f39-f53c-0bd7e2411f73"
      },
      "source": [
        "! pip install scikit-learn==1"
      ],
      "execution_count": 4,
      "outputs": [
        {
          "output_type": "stream",
          "name": "stdout",
          "text": [
            "Requirement already satisfied: scikit-learn==1 in /usr/local/lib/python3.7/dist-packages (1.0)\n",
            "Requirement already satisfied: joblib>=0.11 in /usr/local/lib/python3.7/dist-packages (from scikit-learn==1) (1.0.1)\n",
            "Requirement already satisfied: numpy>=1.14.6 in /usr/local/lib/python3.7/dist-packages (from scikit-learn==1) (1.19.5)\n",
            "Requirement already satisfied: threadpoolctl>=2.0.0 in /usr/local/lib/python3.7/dist-packages (from scikit-learn==1) (3.0.0)\n",
            "Requirement already satisfied: scipy>=1.1.0 in /usr/local/lib/python3.7/dist-packages (from scikit-learn==1) (1.4.1)\n"
          ]
        }
      ]
    },
    {
      "cell_type": "markdown",
      "metadata": {
        "id": "jUeYL80AOuTw"
      },
      "source": [
        "## **Imports and data obtention**"
      ]
    },
    {
      "cell_type": "code",
      "metadata": {
        "id": "YCY2I0X9OuTx"
      },
      "source": [
        "# Import libraries\n",
        "import zipfile\n",
        "import pandas as pd\n",
        "import numpy as np\n",
        "import matplotlib.pyplot as plt\n",
        "import glob\n",
        "from padelpy import padeldescriptor\n",
        "from scipy.stats import mannwhitneyu\n",
        "from sklearn.feature_selection import VarianceThreshold\n",
        "from sklearn.model_selection import train_test_split\n",
        "from sklearn.linear_model import LogisticRegression\n",
        "from sklearn.model_selection import GridSearchCV\n",
        "from sklearn.svm import SVC\n",
        "from sklearn.ensemble import RandomForestClassifier\n",
        "from sklearn.metrics import roc_auc_score, accuracy_score, precision_score, recall_score, f1_score\n",
        "import seaborn as sns"
      ],
      "execution_count": 83,
      "outputs": []
    },
    {
      "cell_type": "code",
      "metadata": {
        "colab": {
          "base_uri": "https://localhost:8080/"
        },
        "id": "qsH_hHB45UCK",
        "outputId": "5be383fe-fb41-4038-ac70-dd2e56248de1"
      },
      "source": [
        "# Download data\n",
        "! mkdir Data \n",
        "! wget https://github.com/dataprofessor/beta-lactamase/raw/main/beta_lactamase_CHEMBL29.zip --directory ./Data"
      ],
      "execution_count": null,
      "outputs": [
        {
          "name": "stdout",
          "output_type": "stream",
          "text": [
            "--2021-10-22 16:49:42--  https://github.com/dataprofessor/beta-lactamase/raw/main/beta_lactamase_CHEMBL29.zip\n",
            "Resolving github.com (github.com)... 140.82.114.4\n",
            "Connecting to github.com (github.com)|140.82.114.4|:443... connected.\n",
            "HTTP request sent, awaiting response... 302 Found\n",
            "Location: https://raw.githubusercontent.com/dataprofessor/beta-lactamase/main/beta_lactamase_CHEMBL29.zip [following]\n",
            "--2021-10-22 16:49:43--  https://raw.githubusercontent.com/dataprofessor/beta-lactamase/main/beta_lactamase_CHEMBL29.zip\n",
            "Resolving raw.githubusercontent.com (raw.githubusercontent.com)... 185.199.108.133, 185.199.109.133, 185.199.110.133, ...\n",
            "Connecting to raw.githubusercontent.com (raw.githubusercontent.com)|185.199.108.133|:443... connected.\n",
            "HTTP request sent, awaiting response... 200 OK\n",
            "Length: 1416390 (1.4M) [application/zip]\n",
            "Saving to: ‘./Data/beta_lactamase_CHEMBL29.zip’\n",
            "\n",
            "beta_lactamase_CHEM 100%[===================>]   1.35M  3.69MB/s    in 0.4s    \n",
            "\n",
            "2021-10-22 16:49:43 (3.69 MB/s) - ‘./Data/beta_lactamase_CHEMBL29.zip’ saved [1416390/1416390]\n",
            "\n"
          ]
        }
      ]
    },
    {
      "cell_type": "code",
      "metadata": {
        "id": "rcSbHGZf96Er"
      },
      "source": [
        "# Concatenate all cv files from zip file into a single unified dataframe\n",
        "zf = zipfile.ZipFile(\"Data/beta_lactamase_CHEMBL29.zip\", \"r\")\n",
        "df = pd.concat( (pd.read_csv( zf.open(f) ) for f in zf.namelist() ) )"
      ],
      "execution_count": 6,
      "outputs": []
    },
    {
      "cell_type": "code",
      "metadata": {
        "colab": {
          "base_uri": "https://localhost:8080/",
          "height": 704
        },
        "id": "IOKQXs0H7MkY",
        "outputId": "f8fcb855-0bfd-48a0-a392-c6f95c234fe3"
      },
      "source": [
        "# Take a look at the dataframe\n",
        "df"
      ],
      "execution_count": 7,
      "outputs": [
        {
          "output_type": "execute_result",
          "data": {
            "text/html": [
              "<div>\n",
              "<style scoped>\n",
              "    .dataframe tbody tr th:only-of-type {\n",
              "        vertical-align: middle;\n",
              "    }\n",
              "\n",
              "    .dataframe tbody tr th {\n",
              "        vertical-align: top;\n",
              "    }\n",
              "\n",
              "    .dataframe thead th {\n",
              "        text-align: right;\n",
              "    }\n",
              "</style>\n",
              "<table border=\"1\" class=\"dataframe\">\n",
              "  <thead>\n",
              "    <tr style=\"text-align: right;\">\n",
              "      <th></th>\n",
              "      <th>molecule_chembl_id</th>\n",
              "      <th>canonical_smiles</th>\n",
              "      <th>standard_relation</th>\n",
              "      <th>standard_value</th>\n",
              "      <th>standard_units</th>\n",
              "      <th>standard_type</th>\n",
              "      <th>pchembl_value</th>\n",
              "      <th>target_pref_name</th>\n",
              "      <th>bao_label</th>\n",
              "    </tr>\n",
              "  </thead>\n",
              "  <tbody>\n",
              "    <tr>\n",
              "      <th>0</th>\n",
              "      <td>CHEMBL1730</td>\n",
              "      <td>CO/N=C(\\C(=O)N[C@@H]1C(=O)N2C(C(=O)O)=C(COC(C)...</td>\n",
              "      <td>=</td>\n",
              "      <td>10.0</td>\n",
              "      <td>/mM/s</td>\n",
              "      <td>Kcat/Km</td>\n",
              "      <td>NaN</td>\n",
              "      <td>Gil1</td>\n",
              "      <td>assay format</td>\n",
              "    </tr>\n",
              "    <tr>\n",
              "      <th>1</th>\n",
              "      <td>CHEMBL996</td>\n",
              "      <td>CO[C@@]1(NC(=O)Cc2cccs2)C(=O)N2C(C(=O)O)=C(COC...</td>\n",
              "      <td>NaN</td>\n",
              "      <td>NaN</td>\n",
              "      <td>NaN</td>\n",
              "      <td>Kcat/Km</td>\n",
              "      <td>NaN</td>\n",
              "      <td>Gil1</td>\n",
              "      <td>assay format</td>\n",
              "    </tr>\n",
              "    <tr>\n",
              "      <th>2</th>\n",
              "      <td>CHEMBL617</td>\n",
              "      <td>CC(=O)OCC1=C(C(=O)O)N2C(=O)[C@@H](NC(=O)Cc3ccc...</td>\n",
              "      <td>=</td>\n",
              "      <td>598.0</td>\n",
              "      <td>/mM/s</td>\n",
              "      <td>Kcat/Km</td>\n",
              "      <td>NaN</td>\n",
              "      <td>Gil1</td>\n",
              "      <td>assay format</td>\n",
              "    </tr>\n",
              "    <tr>\n",
              "      <th>3</th>\n",
              "      <td>CHEMBL702</td>\n",
              "      <td>CCN1CCN(C(=O)N[C@@H](C(=O)N[C@@H]2C(=O)N3[C@@H...</td>\n",
              "      <td>=</td>\n",
              "      <td>3400.0</td>\n",
              "      <td>/mM/s</td>\n",
              "      <td>Kcat/Km</td>\n",
              "      <td>NaN</td>\n",
              "      <td>Gil1</td>\n",
              "      <td>assay format</td>\n",
              "    </tr>\n",
              "    <tr>\n",
              "      <th>4</th>\n",
              "      <td>CHEMBL1449</td>\n",
              "      <td>CC1(C)S[C@@H]2[C@H](NC(=O)[C@H](C(=O)O)c3ccsc3...</td>\n",
              "      <td>=</td>\n",
              "      <td>10000.0</td>\n",
              "      <td>/mM/s</td>\n",
              "      <td>Kcat/Km</td>\n",
              "      <td>NaN</td>\n",
              "      <td>Gil1</td>\n",
              "      <td>assay format</td>\n",
              "    </tr>\n",
              "    <tr>\n",
              "      <th>...</th>\n",
              "      <td>...</td>\n",
              "      <td>...</td>\n",
              "      <td>...</td>\n",
              "      <td>...</td>\n",
              "      <td>...</td>\n",
              "      <td>...</td>\n",
              "      <td>...</td>\n",
              "      <td>...</td>\n",
              "      <td>...</td>\n",
              "    </tr>\n",
              "    <tr>\n",
              "      <th>13</th>\n",
              "      <td>CHEMBL561555</td>\n",
              "      <td>COC(=O)CC(N)(CC(=O)OC)C(=O)OCc1ccccc1</td>\n",
              "      <td>NaN</td>\n",
              "      <td>NaN</td>\n",
              "      <td>NaN</td>\n",
              "      <td>Inhibition</td>\n",
              "      <td>NaN</td>\n",
              "      <td>Beta-lactamase VIM-4</td>\n",
              "      <td>single protein format</td>\n",
              "    </tr>\n",
              "    <tr>\n",
              "      <th>14</th>\n",
              "      <td>CHEMBL561821</td>\n",
              "      <td>NC(CC(=O)OCc1ccccc1)(CC(=O)OCc1ccccc1)C(=O)OCc...</td>\n",
              "      <td>NaN</td>\n",
              "      <td>NaN</td>\n",
              "      <td>NaN</td>\n",
              "      <td>Inhibition</td>\n",
              "      <td>NaN</td>\n",
              "      <td>Beta-lactamase VIM-4</td>\n",
              "      <td>single protein format</td>\n",
              "    </tr>\n",
              "    <tr>\n",
              "      <th>15</th>\n",
              "      <td>CHEMBL561896</td>\n",
              "      <td>COC(=O)CC(CC(=O)OC)(NC(=O)Cc1ccccc1)C(=O)OC</td>\n",
              "      <td>NaN</td>\n",
              "      <td>NaN</td>\n",
              "      <td>NaN</td>\n",
              "      <td>Inhibition</td>\n",
              "      <td>NaN</td>\n",
              "      <td>Beta-lactamase VIM-4</td>\n",
              "      <td>single protein format</td>\n",
              "    </tr>\n",
              "    <tr>\n",
              "      <th>16</th>\n",
              "      <td>CHEMBL563044</td>\n",
              "      <td>COC(=O)C(CC(=O)OCc1ccccc1)(CC(=O)OCc1ccccc1)NC...</td>\n",
              "      <td>NaN</td>\n",
              "      <td>NaN</td>\n",
              "      <td>NaN</td>\n",
              "      <td>Inhibition</td>\n",
              "      <td>NaN</td>\n",
              "      <td>Beta-lactamase VIM-4</td>\n",
              "      <td>single protein format</td>\n",
              "    </tr>\n",
              "    <tr>\n",
              "      <th>17</th>\n",
              "      <td>CHEMBL553476</td>\n",
              "      <td>O=C(COc1ccccc1)NC(CC(=O)OCc1ccccc1)(CC(=O)OCc1...</td>\n",
              "      <td>NaN</td>\n",
              "      <td>NaN</td>\n",
              "      <td>NaN</td>\n",
              "      <td>Inhibition</td>\n",
              "      <td>NaN</td>\n",
              "      <td>Beta-lactamase VIM-4</td>\n",
              "      <td>single protein format</td>\n",
              "    </tr>\n",
              "  </tbody>\n",
              "</table>\n",
              "<p>71973 rows × 9 columns</p>\n",
              "</div>"
            ],
            "text/plain": [
              "   molecule_chembl_id  ...              bao_label\n",
              "0          CHEMBL1730  ...           assay format\n",
              "1           CHEMBL996  ...           assay format\n",
              "2           CHEMBL617  ...           assay format\n",
              "3           CHEMBL702  ...           assay format\n",
              "4          CHEMBL1449  ...           assay format\n",
              "..                ...  ...                    ...\n",
              "13       CHEMBL561555  ...  single protein format\n",
              "14       CHEMBL561821  ...  single protein format\n",
              "15       CHEMBL561896  ...  single protein format\n",
              "16       CHEMBL563044  ...  single protein format\n",
              "17       CHEMBL553476  ...  single protein format\n",
              "\n",
              "[71973 rows x 9 columns]"
            ]
          },
          "metadata": {},
          "execution_count": 7
        }
      ]
    },
    {
      "cell_type": "markdown",
      "metadata": {
        "id": "zPuapcbWOuT3"
      },
      "source": [
        "## **Exploratory Data Analysis**"
      ]
    },
    {
      "cell_type": "code",
      "metadata": {
        "colab": {
          "base_uri": "https://localhost:8080/"
        },
        "id": "KU2-Am6dOuT4",
        "outputId": "a3bd4d4c-c674-4fe0-e4ae-8208b22a811c"
      },
      "source": [
        "# General measurements of the dataset \n",
        "df.info()"
      ],
      "execution_count": 8,
      "outputs": [
        {
          "output_type": "stream",
          "name": "stdout",
          "text": [
            "<class 'pandas.core.frame.DataFrame'>\n",
            "Int64Index: 71973 entries, 0 to 17\n",
            "Data columns (total 9 columns):\n",
            " #   Column              Non-Null Count  Dtype  \n",
            "---  ------              --------------  -----  \n",
            " 0   molecule_chembl_id  71973 non-null  object \n",
            " 1   canonical_smiles    71937 non-null  object \n",
            " 2   standard_relation   70934 non-null  object \n",
            " 3   standard_value      71185 non-null  float64\n",
            " 4   standard_units      70521 non-null  object \n",
            " 5   standard_type       71969 non-null  object \n",
            " 6   pchembl_value       64424 non-null  float64\n",
            " 7   target_pref_name    71973 non-null  object \n",
            " 8   bao_label           71973 non-null  object \n",
            "dtypes: float64(2), object(7)\n",
            "memory usage: 5.5+ MB\n"
          ]
        }
      ]
    },
    {
      "cell_type": "markdown",
      "metadata": {
        "id": "r9PgWE3wOuT5"
      },
      "source": [
        "### **Target variable: pCHEMBL value**"
      ]
    },
    {
      "cell_type": "code",
      "metadata": {
        "colab": {
          "base_uri": "https://localhost:8080/",
          "height": 323
        },
        "id": "loeDWobu_crw",
        "outputId": "85001286-e506-4775-ea7c-7d2980502412"
      },
      "source": [
        "# Bar plot of Missing vs Non-Missing Data of pCHEMBL values\n",
        "\n",
        "# Data\n",
        "missing = df.pchembl_value.isnull().sum()\n",
        "nonmissing = df.pchembl_value.notnull().sum()\n",
        "\n",
        "x = ['Missing', 'Non-Missing']\n",
        "y = [missing, nonmissing]\n",
        "\n",
        "# Setup plot\n",
        "fig, ax = plt.subplots()\n",
        "\n",
        "# Make bar plot\n",
        "p = ax.bar(x, y, color = ['#F8766D', '#00BFC4'], ec = 'black')\n",
        "\n",
        "ax.set_title('pChEMBL Missing Data', fontsize=14, fontweight='bold', pad=15)\n",
        "#ax.set_xticklabels(x, fontweight='bold')\n",
        "\n",
        "ax.set_ylim(0,70000)\n",
        "plt.xticks(fontsize=14)\n",
        "plt.yticks(fontsize=14)\n",
        "\n",
        "# Label above bar\n",
        "for index, data in enumerate(y):\n",
        "    plt.text(x=index-0.1 , y =data+1000 , s=f\"{data}\" , fontdict=dict(fontsize=14))\n",
        "\n",
        "fig.set_size_inches(5,4.5)\n",
        "plt.show()"
      ],
      "execution_count": 9,
      "outputs": [
        {
          "output_type": "display_data",
          "data": {
            "image/png": "[encoded data removed]",
            "text/plain": [
              "<Figure size 360x324 with 1 Axes>"
            ]
          },
          "metadata": {
            "needs_background": "light"
          }
        }
      ]
    },
    {
      "cell_type": "code",
      "metadata": {
        "id": "y1D_ifqDIRjS"
      },
      "source": [
        "# Dataset with non-missing pChEMBL values\n",
        "df2 = df[df.pchembl_value.notnull()]"
      ],
      "execution_count": 10,
      "outputs": []
    },
    {
      "cell_type": "code",
      "metadata": {
        "colab": {
          "base_uri": "https://localhost:8080/"
        },
        "id": "TswS1UK4OuT_",
        "outputId": "f7fd5fd1-a571-4948-f4a7-8030f9998c80"
      },
      "source": [
        "df2.info()"
      ],
      "execution_count": 11,
      "outputs": [
        {
          "output_type": "stream",
          "name": "stdout",
          "text": [
            "<class 'pandas.core.frame.DataFrame'>\n",
            "Int64Index: 64424 entries, 47 to 109\n",
            "Data columns (total 9 columns):\n",
            " #   Column              Non-Null Count  Dtype  \n",
            "---  ------              --------------  -----  \n",
            " 0   molecule_chembl_id  64424 non-null  object \n",
            " 1   canonical_smiles    64408 non-null  object \n",
            " 2   standard_relation   64424 non-null  object \n",
            " 3   standard_value      64424 non-null  float64\n",
            " 4   standard_units      64424 non-null  object \n",
            " 5   standard_type       64424 non-null  object \n",
            " 6   pchembl_value       64424 non-null  float64\n",
            " 7   target_pref_name    64424 non-null  object \n",
            " 8   bao_label           64424 non-null  object \n",
            "dtypes: float64(2), object(7)\n",
            "memory usage: 4.9+ MB\n"
          ]
        }
      ]
    },
    {
      "cell_type": "code",
      "metadata": {
        "colab": {
          "base_uri": "https://localhost:8080/"
        },
        "id": "hP97aURkOuUA",
        "outputId": "96f3d0de-d529-4eb6-ab22-589e69ab62f6"
      },
      "source": [
        "# Verify duplicated molecules by ChEMBL ID\n",
        "print('Number of unique ChEMBL ID:', str(len(df2.molecule_chembl_id.unique()) )  )\n",
        "print('Total number of ChEMBL ID: ', str(len(df2)))"
      ],
      "execution_count": 12,
      "outputs": [
        {
          "output_type": "stream",
          "name": "stdout",
          "text": [
            "Number of unique ChEMBL ID: 63038\n",
            "Total number of ChEMBL ID:  64424\n"
          ]
        }
      ]
    },
    {
      "cell_type": "markdown",
      "metadata": {
        "id": "x-Epwh1DOuUB"
      },
      "source": [
        "I will use a function to replace duplicated molecules by one single row with mean of standard_value and pchembl_value of duplicated rows. The replacement is applied only if standard deviation of pchembl_value is lower than 2."
      ]
    },
    {
      "cell_type": "code",
      "metadata": {
        "id": "7bGiuZOkOuUB"
      },
      "source": [
        "def combine_molecule_duplicates(dataset):\n",
        "    '''\n",
        "    Function to replace duplicated molecules by one single row with mean of standard_value and \n",
        "    pchembl_value of duplicated rows. The replacement is applied only if standard deviation of \n",
        "    pchembl_value is lower than 2.\n",
        "\n",
        "        Parameters:\n",
        "            dataset (DataFrame): A pandas DataFrame with duplicated molecules\n",
        "        \n",
        "        Returns: \n",
        "            dataset (DataFrame): A pandas DataFrame without duplicated molecules\n",
        "    '''\n",
        "    # Calculate standard deviation of all molecules\n",
        "    std_by_uniqueID = dataset.groupby(\"molecule_chembl_id\").std()\n",
        "\n",
        "    # Filter standard deviation of duplicated molecules lower than 2\n",
        "    std_by_uniqueID = std_by_uniqueID[std_by_uniqueID.pchembl_value < 2]\n",
        "\n",
        "    # Calculate mean of all molecules\n",
        "    mean_by_uniqueID = dataset.groupby(\"molecule_chembl_id\").mean()\n",
        "    \n",
        "    # Filter mean of duplicated molecules that have standard deviation lower than 2\n",
        "    mean_by_uniqueID = mean_by_uniqueID.filter(items = std_by_uniqueID.index, axis=0)\n",
        "\n",
        "    # Create a dictionary of rows with mean values of standard_value and pchembl_value\n",
        "    new_rows = {}\n",
        "\n",
        "    for i in mean_by_uniqueID.index:\n",
        "        rows = dataset.loc[dataset.molecule_chembl_id == i].copy()\n",
        "        row = rows.iloc[0].copy()\n",
        "        row.standard_value = mean_by_uniqueID.loc[i].standard_value\n",
        "        row.pchembl_value = mean_by_uniqueID.loc[i].pchembl_value\n",
        "        new_rows[i] = row\n",
        "    \n",
        "    # Convert dictionary to dataframa\n",
        "    df_new_rows = pd.DataFrame(new_rows).T\n",
        "    \n",
        "    # Delete duplicated molecules from the original dataset\n",
        "    dataset = dataset.drop_duplicates(subset=[\"molecule_chembl_id\"], keep=False)\n",
        "\n",
        "    # Add new rows to the original dataset\n",
        "    dataset = pd.concat([dataset, df_new_rows], axis=0).reset_index(drop=True)\n",
        "\n",
        "    return dataset"
      ],
      "execution_count": 13,
      "outputs": []
    },
    {
      "cell_type": "code",
      "metadata": {
        "id": "8oYblQx6OuUC"
      },
      "source": [
        "# Replace duplicated molecules by mean of their standard_value and pchembl_value\n",
        "df2_non_duplic = combine_molecule_duplicates(df2)"
      ],
      "execution_count": 14,
      "outputs": []
    },
    {
      "cell_type": "code",
      "metadata": {
        "id": "Afybe1EbOuUD"
      },
      "source": [
        "# Cast pchembl and standard values from object to float \n",
        "cast_types = {'standard_value': np.float, 'pchembl_value': np.float}\n",
        "\n",
        "df2_non_duplic = df2_non_duplic.astype(cast_types)"
      ],
      "execution_count": 15,
      "outputs": []
    },
    {
      "cell_type": "code",
      "metadata": {
        "colab": {
          "base_uri": "https://localhost:8080/"
        },
        "id": "tTE7HyC2OuUE",
        "outputId": "fbadb0e9-6e0b-4282-d0de-6fce78d30957"
      },
      "source": [
        "df2_non_duplic.info()"
      ],
      "execution_count": 16,
      "outputs": [
        {
          "output_type": "stream",
          "name": "stdout",
          "text": [
            "<class 'pandas.core.frame.DataFrame'>\n",
            "RangeIndex: 63030 entries, 0 to 63029\n",
            "Data columns (total 9 columns):\n",
            " #   Column              Non-Null Count  Dtype  \n",
            "---  ------              --------------  -----  \n",
            " 0   molecule_chembl_id  63030 non-null  object \n",
            " 1   canonical_smiles    63014 non-null  object \n",
            " 2   standard_relation   63030 non-null  object \n",
            " 3   standard_value      63030 non-null  float64\n",
            " 4   standard_units      63030 non-null  object \n",
            " 5   standard_type       63030 non-null  object \n",
            " 6   pchembl_value       63030 non-null  float64\n",
            " 7   target_pref_name    63030 non-null  object \n",
            " 8   bao_label           63030 non-null  object \n",
            "dtypes: float64(2), object(7)\n",
            "memory usage: 4.3+ MB\n"
          ]
        }
      ]
    },
    {
      "cell_type": "code",
      "metadata": {
        "colab": {
          "base_uri": "https://localhost:8080/"
        },
        "id": "f0raC39kOuUE",
        "outputId": "d4fb4422-4f70-4a44-c62c-c8b9cb19eea5"
      },
      "source": [
        "# Verify that duplicates were deleted \n",
        "print('Number of unique ChEMBL ID:', str(len(df2_non_duplic.molecule_chembl_id.unique()) )  )\n",
        "print('Total number of ChEMBL ID: ', str(len(df2_non_duplic)) )"
      ],
      "execution_count": 17,
      "outputs": [
        {
          "output_type": "stream",
          "name": "stdout",
          "text": [
            "Number of unique ChEMBL ID: 63030\n",
            "Total number of ChEMBL ID:  63030\n"
          ]
        }
      ]
    },
    {
      "cell_type": "code",
      "metadata": {
        "colab": {
          "base_uri": "https://localhost:8080/",
          "height": 294
        },
        "id": "V36I6GC7OuUE",
        "outputId": "e119379b-a23f-491a-f0e0-93e417d171af"
      },
      "source": [
        "# Distribution of pchembl_values\n",
        "df2_non_duplic.pchembl_value.hist(bins=40, figsize=(8,4), color='#00BFC4', ec='black')\n",
        "\n",
        "plt.title('Histogram of pChEMBL values', fontsize=14, fontweight='black', pad=15)\n",
        "plt.xticks(fontsize=12)\n",
        "plt.yticks(fontsize=12)\n",
        "plt.show()"
      ],
      "execution_count": 18,
      "outputs": [
        {
          "output_type": "display_data",
          "data": {
            "image/png": "[encoded data removed]",
            "text/plain": [
              "<Figure size 576x288 with 1 Axes>"
            ]
          },
          "metadata": {
            "needs_background": "light"
          }
        }
      ]
    },
    {
      "cell_type": "markdown",
      "metadata": {
        "id": "mcCjzZKiOuUF"
      },
      "source": [
        "The histogram shows that distribution of this variable has a normal shape, which is because the formula of this coefficient includes log10, so there is no need to apply a transformation in this feature."
      ]
    },
    {
      "cell_type": "code",
      "metadata": {
        "id": "ofWBInVBOuUF"
      },
      "source": [
        "# Convert pchembl values to binary \n",
        "# 0 means that molecules are inactive and 1 that they are active \n",
        "df2_non_duplic[\"pchembl_bin\"] = (df2_non_duplic[\"pchembl_value\"] >= 5).astype(int)"
      ],
      "execution_count": 19,
      "outputs": []
    },
    {
      "cell_type": "code",
      "metadata": {
        "colab": {
          "base_uri": "https://localhost:8080/",
          "height": 323
        },
        "id": "J1xML1HNOuUF",
        "outputId": "9c72a313-6763-487d-a76a-e6cce10f32b0"
      },
      "source": [
        "# Bar plot of active and inactive molecules considering pCHEMBL values\n",
        "\n",
        "# Data\n",
        "active = len(df2_non_duplic[df2_non_duplic.pchembl_bin == 1])\n",
        "inactive = len(df2_non_duplic[df2_non_duplic.pchembl_bin == 0])\n",
        "\n",
        "x = ['Active', 'Inactive']\n",
        "y = [active, inactive]\n",
        "\n",
        "# Setup plot\n",
        "fig, ax = plt.subplots()\n",
        "\n",
        "# Make bar plot\n",
        "p = ax.bar(x, y, color = ['#F8766D', '#00BFC4'], ec = 'black')\n",
        "\n",
        "ax.set_title('pChEMBL activity', fontsize=14, fontweight='bold', pad=15)\n",
        "#ax.set_xticklabels(x, fontweight='bold')\n",
        "\n",
        "ax.set_ylim(0,70000)\n",
        "plt.xticks(fontsize=14)\n",
        "plt.yticks(fontsize=14)\n",
        "\n",
        "# Label above bar\n",
        "for index, data in enumerate(y):\n",
        "    plt.text(x=index-0.1 , y =data+1000 , s=f\"{data}\" , fontdict=dict(fontsize=14))\n",
        "\n",
        "fig.set_size_inches(5,4.5)\n",
        "plt.show()"
      ],
      "execution_count": 20,
      "outputs": [
        {
          "output_type": "display_data",
          "data": {
            "image/png": "[encoded data removed]",
            "text/plain": [
              "<Figure size 360x324 with 1 Axes>"
            ]
          },
          "metadata": {
            "needs_background": "light"
          }
        }
      ]
    },
    {
      "cell_type": "markdown",
      "metadata": {
        "id": "9HiAT1E2OuUG"
      },
      "source": [
        "We observed that the dataset is not unbalanced regarding pchemb_bin values\n",
        "\n",
        "Also, I will use a modified version of the function to calculate Mann-Whitney U Test provided by data professor in [this notebook](https://github.com/dataprofessor/code/blob/master/python/CDD_ML_Part_2_Exploratory_Data_Analysis.ipynb). This test will be used for calculating if there are statistical significance differences between active and inactive categories regarding pchembl value."
      ]
    },
    {
      "cell_type": "code",
      "metadata": {
        "id": "JoNT6aFDOuUG"
      },
      "source": [
        "# Statistical analysis | Mann-Whitney U Test\n",
        "def mannwhitney(descriptor, dataset, verbose=False):\n",
        "  # https://machinelearningmastery.com/nonparametric-statistical-significance-tests-in-python/\n",
        "\n",
        "# seed the random number generator\n",
        "  np.random.seed(1)\n",
        "\n",
        "# actives and inactives\n",
        "  selection = [descriptor, 'pchembl_bin']\n",
        "  df = dataset[selection]\n",
        "  active = df[df.pchembl_bin == 1]\n",
        "  active = active[descriptor]\n",
        "\n",
        "  inactive = df[df.pchembl_bin == 0]\n",
        "  inactive = inactive[descriptor]\n",
        "\n",
        "# compare samples\n",
        "  stat, p = mannwhitneyu(active, inactive)\n",
        "  #print('Statistics=%.3f, p=%.3f' % (stat, p))\n",
        "\n",
        "# interpret\n",
        "  alpha = 0.05\n",
        "  if p > alpha:\n",
        "    interpretation = 'Same distribution (fail to reject H0)'\n",
        "  else:\n",
        "    interpretation = 'Different distribution (reject H0)'\n",
        "  \n",
        "  results = pd.DataFrame({'Descriptor':descriptor,\n",
        "                          'Statistics':stat,\n",
        "                          'p':p,\n",
        "                          'alpha':alpha,\n",
        "                          'Interpretation':interpretation}, index=[0])\n",
        "\n",
        "  return results"
      ],
      "execution_count": 21,
      "outputs": []
    },
    {
      "cell_type": "code",
      "metadata": {
        "colab": {
          "base_uri": "https://localhost:8080/",
          "height": 81
        },
        "id": "ItocpoqBOuUG",
        "outputId": "98784142-f77d-4674-eb19-e216160e700b"
      },
      "source": [
        "mannwhitney('pchembl_value', df2_non_duplic)"
      ],
      "execution_count": 22,
      "outputs": [
        {
          "output_type": "execute_result",
          "data": {
            "text/html": [
              "<div>\n",
              "<style scoped>\n",
              "    .dataframe tbody tr th:only-of-type {\n",
              "        vertical-align: middle;\n",
              "    }\n",
              "\n",
              "    .dataframe tbody tr th {\n",
              "        vertical-align: top;\n",
              "    }\n",
              "\n",
              "    .dataframe thead th {\n",
              "        text-align: right;\n",
              "    }\n",
              "</style>\n",
              "<table border=\"1\" class=\"dataframe\">\n",
              "  <thead>\n",
              "    <tr style=\"text-align: right;\">\n",
              "      <th></th>\n",
              "      <th>Descriptor</th>\n",
              "      <th>Statistics</th>\n",
              "      <th>p</th>\n",
              "      <th>alpha</th>\n",
              "      <th>Interpretation</th>\n",
              "    </tr>\n",
              "  </thead>\n",
              "  <tbody>\n",
              "    <tr>\n",
              "      <th>0</th>\n",
              "      <td>pchembl_value</td>\n",
              "      <td>0.0</td>\n",
              "      <td>0.0</td>\n",
              "      <td>0.05</td>\n",
              "      <td>Different distribution (reject H0)</td>\n",
              "    </tr>\n",
              "  </tbody>\n",
              "</table>\n",
              "</div>"
            ],
            "text/plain": [
              "      Descriptor  Statistics    p  alpha                      Interpretation\n",
              "0  pchembl_value         0.0  0.0   0.05  Different distribution (reject H0)"
            ]
          },
          "metadata": {},
          "execution_count": 22
        }
      ]
    },
    {
      "cell_type": "markdown",
      "metadata": {
        "id": "wwBFG9CcOuUH"
      },
      "source": [
        "We observed that distributions of active and inactive compounds in terms of pchembl value are statistically different."
      ]
    },
    {
      "cell_type": "markdown",
      "metadata": {
        "id": "DbTbmxKxOuUH"
      },
      "source": [
        "### **Other features**"
      ]
    },
    {
      "cell_type": "code",
      "metadata": {
        "id": "gexps2DEOuUH"
      },
      "source": [
        "# Get rid of molecules without canonical simles \n",
        "df3 = df2_non_duplic[df2_non_duplic.canonical_smiles.notnull()]"
      ],
      "execution_count": 23,
      "outputs": []
    },
    {
      "cell_type": "code",
      "metadata": {
        "colab": {
          "base_uri": "https://localhost:8080/"
        },
        "id": "U87ntXjHOuUH",
        "outputId": "ffe90785-b715-417a-eba2-6ceb9ce7aada"
      },
      "source": [
        "df3.info()"
      ],
      "execution_count": 24,
      "outputs": [
        {
          "output_type": "stream",
          "name": "stdout",
          "text": [
            "<class 'pandas.core.frame.DataFrame'>\n",
            "Int64Index: 63014 entries, 0 to 63029\n",
            "Data columns (total 10 columns):\n",
            " #   Column              Non-Null Count  Dtype  \n",
            "---  ------              --------------  -----  \n",
            " 0   molecule_chembl_id  63014 non-null  object \n",
            " 1   canonical_smiles    63014 non-null  object \n",
            " 2   standard_relation   63014 non-null  object \n",
            " 3   standard_value      63014 non-null  float64\n",
            " 4   standard_units      63014 non-null  object \n",
            " 5   standard_type       63014 non-null  object \n",
            " 6   pchembl_value       63014 non-null  float64\n",
            " 7   target_pref_name    63014 non-null  object \n",
            " 8   bao_label           63014 non-null  object \n",
            " 9   pchembl_bin         63014 non-null  int64  \n",
            "dtypes: float64(2), int64(1), object(7)\n",
            "memory usage: 5.3+ MB\n"
          ]
        }
      ]
    },
    {
      "cell_type": "code",
      "metadata": {
        "colab": {
          "base_uri": "https://localhost:8080/",
          "height": 412
        },
        "id": "vlLAssw-OuUH",
        "outputId": "f7d67ee8-9ef1-49cc-e7e7-354feace6f66"
      },
      "source": [
        "# Distribution of target proteins  \n",
        "df3.target_pref_name.value_counts()[0:50].plot.bar(figsize=(24,4), color='#00BFC4', ec='black')\n",
        "\n",
        "plt.title('Top 50 Targets', fontsize=14, fontweight='black', pad=15)\n",
        "plt.show()"
      ],
      "execution_count": 25,
      "outputs": [
        {
          "output_type": "display_data",
          "data": {
            "image/png": "[encoded data removed]",
            "text/plain": [
              "<Figure size 1728x288 with 1 Axes>"
            ]
          },
          "metadata": {
            "needs_background": "light"
          }
        }
      ]
    },
    {
      "cell_type": "code",
      "metadata": {
        "id": "7OKnwPiKOuUI"
      },
      "source": [
        "# Filter only molecules tested on Beta-lactamase AmpC\n",
        "df4 = df3[df3.target_pref_name == \"Beta-lactamase AmpC\"].reset_index(drop=True)\n",
        "df4 = df4.sort_values(\"molecule_chembl_id\").reset_index(drop=True)"
      ],
      "execution_count": 26,
      "outputs": []
    },
    {
      "cell_type": "code",
      "metadata": {
        "id": "0ouWXQ-d_LWV"
      },
      "source": [
        "# Delete CHEMBL412073 moecule because it is not possible to calculate fingerprints of it \n",
        "df4 = df4.drop(labels = [61151])"
      ],
      "execution_count": 27,
      "outputs": []
    },
    {
      "cell_type": "code",
      "metadata": {
        "colab": {
          "base_uri": "https://localhost:8080/"
        },
        "id": "a1x1B4flOuUI",
        "outputId": "d24a9d72-e24e-4279-821a-609ad00ad529"
      },
      "source": [
        "df4.info()"
      ],
      "execution_count": 28,
      "outputs": [
        {
          "output_type": "stream",
          "name": "stdout",
          "text": [
            "<class 'pandas.core.frame.DataFrame'>\n",
            "Int64Index: 61736 entries, 0 to 61736\n",
            "Data columns (total 10 columns):\n",
            " #   Column              Non-Null Count  Dtype  \n",
            "---  ------              --------------  -----  \n",
            " 0   molecule_chembl_id  61736 non-null  object \n",
            " 1   canonical_smiles    61736 non-null  object \n",
            " 2   standard_relation   61736 non-null  object \n",
            " 3   standard_value      61736 non-null  float64\n",
            " 4   standard_units      61736 non-null  object \n",
            " 5   standard_type       61736 non-null  object \n",
            " 6   pchembl_value       61736 non-null  float64\n",
            " 7   target_pref_name    61736 non-null  object \n",
            " 8   bao_label           61736 non-null  object \n",
            " 9   pchembl_bin         61736 non-null  int64  \n",
            "dtypes: float64(2), int64(1), object(7)\n",
            "memory usage: 5.2+ MB\n"
          ]
        }
      ]
    },
    {
      "cell_type": "markdown",
      "metadata": {
        "id": "pr-o_IkQOuUI"
      },
      "source": [
        "We observed that there are not null values in any feature of the dataset"
      ]
    },
    {
      "cell_type": "code",
      "metadata": {
        "colab": {
          "base_uri": "https://localhost:8080/",
          "height": 323
        },
        "id": "XNGGiM1YOuUI",
        "outputId": "f36d7b9d-c73f-4dc1-8f65-26eda31328d9"
      },
      "source": [
        "# Bar plot of active and inactive molecules considering pCHEMBL values of Beta-lactamase AmpC target\n",
        "\n",
        "# Data\n",
        "active = len(df4[df4.pchembl_bin == 1])\n",
        "inactive = len(df4[df4.pchembl_bin == 0])\n",
        "\n",
        "x = ['Active', 'Inactive']\n",
        "y = [active, inactive]\n",
        "\n",
        "# Setup plot\n",
        "fig, ax = plt.subplots()\n",
        "\n",
        "# Make bar plot\n",
        "p = ax.bar(x, y, color = ['#F8766D', '#00BFC4'], ec = 'black')\n",
        "\n",
        "ax.set_title('pChEMBL activity', fontsize=14, fontweight='bold', pad=15)\n",
        "#ax.set_xticklabels(x, fontweight='bold')\n",
        "\n",
        "ax.set_ylim(0,70000)\n",
        "plt.xticks(fontsize=14)\n",
        "plt.yticks(fontsize=14)\n",
        "\n",
        "# Label above bar\n",
        "for index, data in enumerate(y):\n",
        "    plt.text(x=index-0.1 , y =data+1000 , s=f\"{data}\" , fontdict=dict(fontsize=14))\n",
        "\n",
        "fig.set_size_inches(5,4.5)\n",
        "plt.show()"
      ],
      "execution_count": 29,
      "outputs": [
        {
          "output_type": "display_data",
          "data": {
            "image/png": "[encoded data removed]",
            "text/plain": [
              "<Figure size 360x324 with 1 Axes>"
            ]
          },
          "metadata": {
            "needs_background": "light"
          }
        }
      ]
    },
    {
      "cell_type": "markdown",
      "metadata": {
        "id": "jBz-_oPVOuUJ"
      },
      "source": [
        "We observed that the balance proportion was maintained after filtering molecules that bind to Beta-lactamase AmpC"
      ]
    },
    {
      "cell_type": "code",
      "metadata": {
        "colab": {
          "base_uri": "https://localhost:8080/",
          "height": 321
        },
        "id": "fl1ykWbNKOJz",
        "outputId": "1b9427ce-d0fa-472b-cb08-360423f8c4f3"
      },
      "source": [
        "# Top 10 activity types \n",
        "df4.standard_type.value_counts()[:10].plot.bar(figsize=(8,4), color='#00BFC4', ec='black')\n",
        "\n",
        "plt.title('Top 10 activity types ', fontsize=14, fontweight='black', pad=15)\n",
        "plt.show()"
      ],
      "execution_count": 30,
      "outputs": [
        {
          "output_type": "display_data",
          "data": {
            "image/png": "[encoded data removed]",
            "text/plain": [
              "<Figure size 576x288 with 1 Axes>"
            ]
          },
          "metadata": {
            "needs_background": "light"
          }
        }
      ]
    },
    {
      "cell_type": "code",
      "metadata": {
        "colab": {
          "base_uri": "https://localhost:8080/",
          "height": 408
        },
        "id": "pQ2fxUGVSeNn",
        "outputId": "45de8b0e-81c2-40eb-ec42-bb6a8ee4f458"
      },
      "source": [
        "# Histogram of BioAssay Ontology\n",
        "bao_labels = df4.bao_label.value_counts()\n",
        "bao_labels.plot.bar(figsize=(8,4), color='#00BFC4', ec='black')\n",
        "\n",
        "plt.title('Histogram of BioAssay Ontology', fontsize=14, fontweight='black', pad=15)\n",
        "plt.xticks(fontsize=12)\n",
        "plt.yticks(fontsize=12)\n",
        "plt.show()"
      ],
      "execution_count": 31,
      "outputs": [
        {
          "output_type": "display_data",
          "data": {
            "image/png": "[encoded data removed]",
            "text/plain": [
              "<Figure size 576x288 with 1 Axes>"
            ]
          },
          "metadata": {
            "needs_background": "light"
          }
        }
      ]
    },
    {
      "cell_type": "markdown",
      "metadata": {
        "id": "Wezjdv6VOuUK"
      },
      "source": [
        "### **Calculation of molecular descriptors from SMILES with PaDEL**"
      ]
    },
    {
      "cell_type": "markdown",
      "metadata": {
        "id": "0DGMYrNmOuUK"
      },
      "source": [
        "#### **Preparation of files to calculate molecular descriptors**\n",
        "To make this step yo need to install Padelpy library with pip, as follows: \n",
        "\n",
        "```python\n",
        "pip install padelpy\n",
        "\n",
        "```"
      ]
    },
    {
      "cell_type": "code",
      "metadata": {
        "id": "rYPZC5bEOuUK",
        "outputId": "b0a7922e-f5a8-438a-eca4-895655a63c23"
      },
      "source": [
        "# Download and unzip fingerprint XML files\n",
        "! mkdir Data/MolFingerprints\n",
        "! wget https://github.com/dataprofessor/padel/raw/main/fingerprints_xml.zip --directory ./Data/MolFingerprints\n",
        "! unzip Data/MolFingerprints/fingerprints_xml.zip -d Data/MolFingerprints"
      ],
      "execution_count": null,
      "outputs": [
        {
          "name": "stdout",
          "output_type": "stream",
          "text": [
            "mkdir: cannot create directory ‘Data/MolFingerprints’: File exists\n",
            "--2021-10-23 15:12:56--  https://github.com/dataprofessor/padel/raw/main/fingerprints_xml.zip\n",
            "Resolving github.com (github.com)... 140.82.112.3\n",
            "Connecting to github.com (github.com)|140.82.112.3|:443... connected.\n",
            "HTTP request sent, awaiting response... 302 Found\n",
            "Location: https://raw.githubusercontent.com/dataprofessor/padel/main/fingerprints_xml.zip [following]\n",
            "--2021-10-23 15:12:57--  https://raw.githubusercontent.com/dataprofessor/padel/main/fingerprints_xml.zip\n",
            "Resolving raw.githubusercontent.com (raw.githubusercontent.com)... 185.199.108.133, 185.199.109.133, 185.199.110.133, ...\n",
            "Connecting to raw.githubusercontent.com (raw.githubusercontent.com)|185.199.108.133|:443... connected.\n",
            "HTTP request sent, awaiting response... 200 OK\n",
            "Length: 10871 (11K) [application/zip]\n",
            "Saving to: ‘./Data/MolFingerprints/fingerprints_xml.zip.1’\n",
            "\n",
            "fingerprints_xml.zi 100%[===================>]  10.62K  --.-KB/s    in 0.002s  \n",
            "\n",
            "2021-10-23 15:12:57 (5.43 MB/s) - ‘./Data/MolFingerprints/fingerprints_xml.zip.1’ saved [10871/10871]\n",
            "\n",
            "Archive:  Data/MolFingerprints/fingerprints_xml.zip\n",
            "  inflating: Data/MolFingerprints/AtomPairs2DFingerprintCount.xml  \n",
            "  inflating: Data/MolFingerprints/AtomPairs2DFingerprinter.xml  \n",
            "  inflating: Data/MolFingerprints/EStateFingerprinter.xml  \n",
            "  inflating: Data/MolFingerprints/ExtendedFingerprinter.xml  \n",
            "  inflating: Data/MolFingerprints/Fingerprinter.xml  \n",
            "  inflating: Data/MolFingerprints/GraphOnlyFingerprinter.xml  \n",
            "  inflating: Data/MolFingerprints/KlekotaRothFingerprintCount.xml  \n",
            "  inflating: Data/MolFingerprints/KlekotaRothFingerprinter.xml  \n",
            "  inflating: Data/MolFingerprints/MACCSFingerprinter.xml  \n",
            "  inflating: Data/MolFingerprints/PubchemFingerprinter.xml  \n",
            "  inflating: Data/MolFingerprints/SubstructureFingerprintCount.xml  \n",
            "  inflating: Data/MolFingerprints/SubstructureFingerprinter.xml  \n"
          ]
        }
      ]
    },
    {
      "cell_type": "code",
      "metadata": {
        "id": "ne6czeZoOuUL",
        "outputId": "480d6962-11cc-4e53-c33a-edcba6857540"
      },
      "source": [
        "# List and sort fingerprint XML files\n",
        "xml_files = glob.glob(\"Data/MolFingerprints/*.xml\")\n",
        "xml_files.sort()\n",
        "xml_files.remove(\"Data/MolFingerprints/KlekotaRothFingerprintCount.xml\")\n",
        "xml_files.remove(\"Data/MolFingerprints/KlekotaRothFingerprinter.xml\")\n",
        "xml_files"
      ],
      "execution_count": null,
      "outputs": [
        {
          "data": {
            "text/plain": [
              "['Data/MolFingerprints/AtomPairs2DFingerprintCount.xml',\n",
              " 'Data/MolFingerprints/AtomPairs2DFingerprinter.xml',\n",
              " 'Data/MolFingerprints/EStateFingerprinter.xml',\n",
              " 'Data/MolFingerprints/ExtendedFingerprinter.xml',\n",
              " 'Data/MolFingerprints/Fingerprinter.xml',\n",
              " 'Data/MolFingerprints/GraphOnlyFingerprinter.xml',\n",
              " 'Data/MolFingerprints/MACCSFingerprinter.xml',\n",
              " 'Data/MolFingerprints/PubchemFingerprinter.xml',\n",
              " 'Data/MolFingerprints/SubstructureFingerprintCount.xml',\n",
              " 'Data/MolFingerprints/SubstructureFingerprinter.xml']"
            ]
          },
          "execution_count": 103,
          "metadata": {},
          "output_type": "execute_result"
        }
      ]
    },
    {
      "cell_type": "code",
      "metadata": {
        "id": "wOafSmnqOuUM"
      },
      "source": [
        "# Create a list with shorten names of xml files\n",
        "FP_list = ['AtomPairs2DCount',\n",
        " 'AtomPairs2D',\n",
        " 'EState',\n",
        " 'CDKextended',\n",
        " 'CDK',\n",
        " 'CDKgraphonly',\n",
        " 'MACCS',\n",
        " 'PubChem',\n",
        " 'SubstructureCount',\n",
        " 'Substructure']"
      ],
      "execution_count": null,
      "outputs": []
    },
    {
      "cell_type": "code",
      "metadata": {
        "id": "eccEBy_xOuUO",
        "outputId": "6ac4723b-e8ce-4e68-bbc1-685eba8c115f"
      },
      "source": [
        "# Create a dictionary with shorten names as keys and xml file names as values\n",
        "fp = dict(zip(FP_list, xml_files))\n",
        "fp"
      ],
      "execution_count": null,
      "outputs": [
        {
          "data": {
            "text/plain": [
              "{'AtomPairs2DCount': 'Data/MolFingerprints/AtomPairs2DFingerprintCount.xml',\n",
              " 'AtomPairs2D': 'Data/MolFingerprints/AtomPairs2DFingerprinter.xml',\n",
              " 'EState': 'Data/MolFingerprints/EStateFingerprinter.xml',\n",
              " 'CDKextended': 'Data/MolFingerprints/ExtendedFingerprinter.xml',\n",
              " 'CDK': 'Data/MolFingerprints/Fingerprinter.xml',\n",
              " 'CDKgraphonly': 'Data/MolFingerprints/GraphOnlyFingerprinter.xml',\n",
              " 'KlekotaRothCount': 'Data/MolFingerprints/KlekotaRothFingerprintCount.xml',\n",
              " 'KlekotaRoth': 'Data/MolFingerprints/KlekotaRothFingerprinter.xml',\n",
              " 'MACCS': 'Data/MolFingerprints/MACCSFingerprinter.xml',\n",
              " 'PubChem': 'Data/MolFingerprints/PubchemFingerprinter.xml',\n",
              " 'SubstructureCount': 'Data/MolFingerprints/SubstructureFingerprintCount.xml',\n",
              " 'Substructure': 'Data/MolFingerprints/SubstructureFingerprinter.xml'}"
            ]
          },
          "execution_count": 101,
          "metadata": {},
          "output_type": "execute_result"
        }
      ]
    },
    {
      "cell_type": "code",
      "metadata": {
        "id": "w0S7JbN-OuUP",
        "outputId": "4a269680-78bc-4a04-fa5d-57ca0c447bc7"
      },
      "source": [
        "# Prepare data subset as input to PaDELpy\n",
        "df_padelpy = pd.concat( [df4['canonical_smiles'], df4['molecule_chembl_id']], axis=1 )\n",
        "df_padelpy.to_csv('molecule.smi', sep='\\t', index=False, header=False)\n",
        "df_padelpy"
      ],
      "execution_count": null,
      "outputs": [
        {
          "data": {
            "text/html": [
              "<div>\n",
              "<style scoped>\n",
              "    .dataframe tbody tr th:only-of-type {\n",
              "        vertical-align: middle;\n",
              "    }\n",
              "\n",
              "    .dataframe tbody tr th {\n",
              "        vertical-align: top;\n",
              "    }\n",
              "\n",
              "    .dataframe thead th {\n",
              "        text-align: right;\n",
              "    }\n",
              "</style>\n",
              "<table border=\"1\" class=\"dataframe\">\n",
              "  <thead>\n",
              "    <tr style=\"text-align: right;\">\n",
              "      <th></th>\n",
              "      <th>canonical_smiles</th>\n",
              "      <th>molecule_chembl_id</th>\n",
              "    </tr>\n",
              "  </thead>\n",
              "  <tbody>\n",
              "    <tr>\n",
              "      <th>295</th>\n",
              "      <td>COC1=CC2CC(=O)N(C2)C1C(=O)OCc1ccc([N+](=O)[O-]...</td>\n",
              "      <td>CHEMBL606647</td>\n",
              "    </tr>\n",
              "    <tr>\n",
              "      <th>296</th>\n",
              "      <td>CC1(C)S[C@@H]2[C@@H](CO)C(=O)N2[C@H]1C(=O)O</td>\n",
              "      <td>CHEMBL277857</td>\n",
              "    </tr>\n",
              "    <tr>\n",
              "      <th>297</th>\n",
              "      <td>CC[C@@H]1C(=O)N2C[C@@H]1CC(OC)=C2C(=O)O</td>\n",
              "      <td>CHEMBL84953</td>\n",
              "    </tr>\n",
              "    <tr>\n",
              "      <th>298</th>\n",
              "      <td>C[C@H](O)[C@H]1C(=O)N2[C@@H](C(=O)[O-])C(C)(C)...</td>\n",
              "      <td>CHEMBL177772</td>\n",
              "    </tr>\n",
              "    <tr>\n",
              "      <th>299</th>\n",
              "      <td>C[C@H](O)[C@@H]1C(=O)N2[C@@H](C(=O)[O-])C(C)(C...</td>\n",
              "      <td>CHEMBL175189</td>\n",
              "    </tr>\n",
              "    <tr>\n",
              "      <th>...</th>\n",
              "      <td>...</td>\n",
              "      <td>...</td>\n",
              "    </tr>\n",
              "    <tr>\n",
              "      <th>63006</th>\n",
              "      <td>C[C@]1(Cn2ccnn2)[C@H](C(=O)[O-])N2C(=O)[C@@H](...</td>\n",
              "      <td>CHEMBL6533</td>\n",
              "    </tr>\n",
              "    <tr>\n",
              "      <th>63007</th>\n",
              "      <td>CO/N=C/[C@@]1(C)[C@H](C(=O)[O-])N2C(=O)[C@@H](...</td>\n",
              "      <td>CHEMBL6678</td>\n",
              "    </tr>\n",
              "    <tr>\n",
              "      <th>63013</th>\n",
              "      <td>O=C(O)c1ccccn1</td>\n",
              "      <td>CHEMBL72628</td>\n",
              "    </tr>\n",
              "    <tr>\n",
              "      <th>63017</th>\n",
              "      <td>O=C(O)c1ccc(B(O)O)cc1</td>\n",
              "      <td>CHEMBL82324</td>\n",
              "    </tr>\n",
              "    <tr>\n",
              "      <th>63020</th>\n",
              "      <td>C[C@]12CC[C@H]3[C@@H](CC[C@@H]4C[C@H](O)CC[C@]...</td>\n",
              "      <td>CHEMBL85799</td>\n",
              "    </tr>\n",
              "  </tbody>\n",
              "</table>\n",
              "<p>61737 rows × 2 columns</p>\n",
              "</div>"
            ],
            "text/plain": [
              "                                        canonical_smiles molecule_chembl_id\n",
              "295    COC1=CC2CC(=O)N(C2)C1C(=O)OCc1ccc([N+](=O)[O-]...       CHEMBL606647\n",
              "296          CC1(C)S[C@@H]2[C@@H](CO)C(=O)N2[C@H]1C(=O)O       CHEMBL277857\n",
              "297              CC[C@@H]1C(=O)N2C[C@@H]1CC(OC)=C2C(=O)O        CHEMBL84953\n",
              "298    C[C@H](O)[C@H]1C(=O)N2[C@@H](C(=O)[O-])C(C)(C)...       CHEMBL177772\n",
              "299    C[C@H](O)[C@@H]1C(=O)N2[C@@H](C(=O)[O-])C(C)(C...       CHEMBL175189\n",
              "...                                                  ...                ...\n",
              "63006  C[C@]1(Cn2ccnn2)[C@H](C(=O)[O-])N2C(=O)[C@@H](...         CHEMBL6533\n",
              "63007  CO/N=C/[C@@]1(C)[C@H](C(=O)[O-])N2C(=O)[C@@H](...         CHEMBL6678\n",
              "63013                                     O=C(O)c1ccccn1        CHEMBL72628\n",
              "63017                              O=C(O)c1ccc(B(O)O)cc1        CHEMBL82324\n",
              "63020  C[C@]12CC[C@H]3[C@@H](CC[C@@H]4C[C@H](O)CC[C@]...        CHEMBL85799\n",
              "\n",
              "[61737 rows x 2 columns]"
            ]
          },
          "execution_count": 102,
          "metadata": {},
          "output_type": "execute_result"
        }
      ]
    },
    {
      "cell_type": "markdown",
      "metadata": {
        "id": "KV3_fLkMOuUQ"
      },
      "source": [
        "#### **Calculate descriptors**\n",
        "We calculated only 10 descriptors. KlekotaRoth and KlekotaRothCount fingerprints were excluded because they required a long time to be obtained. The output data si available at `Data/MolFingerprints/Results/` folder."
      ]
    },
    {
      "cell_type": "code",
      "metadata": {
        "id": "LSEQvBQ4OuUQ",
        "outputId": "ee04350f-724e-423e-d26d-364b5cfe3b5b"
      },
      "source": [
        "for i in fp:\n",
        "    path = \"Data/MolFingerprints/Results/Original\"\n",
        "    fingerprint = i\n",
        "    fingerprint_output_file_path = ''.join([path,fingerprint]) \n",
        "    fingerprint_output_file = ''.join([fingerprint_output_file_path,'.csv']) \n",
        "    fingerprint_descriptortypes = fp[fingerprint]\n",
        "\n",
        "    padeldescriptor(mol_dir='molecule.smi', \n",
        "                    d_file=fingerprint_output_file, \n",
        "                    descriptortypes= fingerprint_descriptortypes,\n",
        "                    detectaromaticity=True,\n",
        "                    standardizenitro=True,\n",
        "                    standardizetautomers=True,\n",
        "                    threads=2,\n",
        "                    removesalt=True,\n",
        "                    log=True,\n",
        "                    fingerprints=True)"
      ],
      "execution_count": null,
      "outputs": [
        {
          "ename": "KeyboardInterrupt",
          "evalue": "",
          "output_type": "error",
          "traceback": [
            "\u001b[0;31m---------------------------------------------------------------------------\u001b[0m",
            "\u001b[0;31mKeyboardInterrupt\u001b[0m                         Traceback (most recent call last)",
            "\u001b[0;32m/tmp/ipykernel_20388/2832425780.py\u001b[0m in \u001b[0;36m<module>\u001b[0;34m\u001b[0m\n\u001b[1;32m      6\u001b[0m     \u001b[0mfingerprint_descriptortypes\u001b[0m \u001b[0;34m=\u001b[0m \u001b[0mfp\u001b[0m\u001b[0;34m[\u001b[0m\u001b[0mfingerprint\u001b[0m\u001b[0;34m]\u001b[0m\u001b[0;34m\u001b[0m\u001b[0;34m\u001b[0m\u001b[0m\n\u001b[1;32m      7\u001b[0m \u001b[0;34m\u001b[0m\u001b[0m\n\u001b[0;32m----> 8\u001b[0;31m     padeldescriptor(mol_dir='molecule.smi', \n\u001b[0m\u001b[1;32m      9\u001b[0m                     \u001b[0md_file\u001b[0m\u001b[0;34m=\u001b[0m\u001b[0mfingerprint_output_file\u001b[0m\u001b[0;34m,\u001b[0m\u001b[0;34m\u001b[0m\u001b[0;34m\u001b[0m\u001b[0m\n\u001b[1;32m     10\u001b[0m                     \u001b[0mdescriptortypes\u001b[0m\u001b[0;34m=\u001b[0m \u001b[0mfingerprint_descriptortypes\u001b[0m\u001b[0;34m,\u001b[0m\u001b[0;34m\u001b[0m\u001b[0;34m\u001b[0m\u001b[0m\n",
            "\u001b[0;32m~/anaconda3/envs/ml-zoomcamp/lib/python3.8/site-packages/padelpy/wrapper.py\u001b[0m in \u001b[0;36mpadeldescriptor\u001b[0;34m(maxruntime, waitingjobs, threads, d_2d, d_3d, config, convert3d, descriptortypes, detectaromaticity, mol_dir, d_file, fingerprints, log, maxcpdperfile, removesalt, retain3d, retainorder, standardizenitro, standardizetautomers, tautomerlist, usefilenameasmolname, sp_timeout, headless)\u001b[0m\n\u001b[1;32m    149\u001b[0m         \u001b[0mcommand\u001b[0m \u001b[0;34m+=\u001b[0m \u001b[0;34m' -usefilenameasmolname'\u001b[0m\u001b[0;34m\u001b[0m\u001b[0;34m\u001b[0m\u001b[0m\n\u001b[1;32m    150\u001b[0m \u001b[0;34m\u001b[0m\u001b[0m\n\u001b[0;32m--> 151\u001b[0;31m     \u001b[0m_\u001b[0m\u001b[0;34m,\u001b[0m \u001b[0merr\u001b[0m \u001b[0;34m=\u001b[0m \u001b[0m_popen_timeout\u001b[0m\u001b[0;34m(\u001b[0m\u001b[0mcommand\u001b[0m\u001b[0;34m,\u001b[0m \u001b[0msp_timeout\u001b[0m\u001b[0;34m)\u001b[0m\u001b[0;34m\u001b[0m\u001b[0;34m\u001b[0m\u001b[0m\n\u001b[0m\u001b[1;32m    152\u001b[0m     \u001b[0;32mif\u001b[0m \u001b[0merr\u001b[0m \u001b[0;34m!=\u001b[0m \u001b[0;34mb''\u001b[0m\u001b[0;34m:\u001b[0m\u001b[0;34m\u001b[0m\u001b[0;34m\u001b[0m\u001b[0m\n\u001b[1;32m    153\u001b[0m         raise RuntimeError('PaDEL-Descriptor encountered an error: {}'.format(\n",
            "\u001b[0;32m~/anaconda3/envs/ml-zoomcamp/lib/python3.8/site-packages/padelpy/wrapper.py\u001b[0m in \u001b[0;36m_popen_timeout\u001b[0;34m(command, timeout)\u001b[0m\n\u001b[1;32m     43\u001b[0m         \u001b[0;32mreturn\u001b[0m \u001b[0;34m(\u001b[0m\u001b[0;34m-\u001b[0m\u001b[0;36m1\u001b[0m\u001b[0;34m,\u001b[0m \u001b[0;34mb'PaDEL-Descriptor timed out during subprocess call'\u001b[0m\u001b[0;34m)\u001b[0m\u001b[0;34m\u001b[0m\u001b[0;34m\u001b[0m\u001b[0m\n\u001b[1;32m     44\u001b[0m     \u001b[0;32melse\u001b[0m\u001b[0;34m:\u001b[0m\u001b[0;34m\u001b[0m\u001b[0;34m\u001b[0m\u001b[0m\n\u001b[0;32m---> 45\u001b[0;31m         \u001b[0;32mreturn\u001b[0m \u001b[0mp\u001b[0m\u001b[0;34m.\u001b[0m\u001b[0mcommunicate\u001b[0m\u001b[0;34m(\u001b[0m\u001b[0;34m)\u001b[0m\u001b[0;34m\u001b[0m\u001b[0;34m\u001b[0m\u001b[0m\n\u001b[0m\u001b[1;32m     46\u001b[0m \u001b[0;34m\u001b[0m\u001b[0m\n\u001b[1;32m     47\u001b[0m \u001b[0;34m\u001b[0m\u001b[0m\n",
            "\u001b[0;32m~/anaconda3/envs/ml-zoomcamp/lib/python3.8/subprocess.py\u001b[0m in \u001b[0;36mcommunicate\u001b[0;34m(self, input, timeout)\u001b[0m\n\u001b[1;32m   1026\u001b[0m \u001b[0;34m\u001b[0m\u001b[0m\n\u001b[1;32m   1027\u001b[0m             \u001b[0;32mtry\u001b[0m\u001b[0;34m:\u001b[0m\u001b[0;34m\u001b[0m\u001b[0;34m\u001b[0m\u001b[0m\n\u001b[0;32m-> 1028\u001b[0;31m                 \u001b[0mstdout\u001b[0m\u001b[0;34m,\u001b[0m \u001b[0mstderr\u001b[0m \u001b[0;34m=\u001b[0m \u001b[0mself\u001b[0m\u001b[0;34m.\u001b[0m\u001b[0m_communicate\u001b[0m\u001b[0;34m(\u001b[0m\u001b[0minput\u001b[0m\u001b[0;34m,\u001b[0m \u001b[0mendtime\u001b[0m\u001b[0;34m,\u001b[0m \u001b[0mtimeout\u001b[0m\u001b[0;34m)\u001b[0m\u001b[0;34m\u001b[0m\u001b[0;34m\u001b[0m\u001b[0m\n\u001b[0m\u001b[1;32m   1029\u001b[0m             \u001b[0;32mexcept\u001b[0m \u001b[0mKeyboardInterrupt\u001b[0m\u001b[0;34m:\u001b[0m\u001b[0;34m\u001b[0m\u001b[0;34m\u001b[0m\u001b[0m\n\u001b[1;32m   1030\u001b[0m                 \u001b[0;31m# https://bugs.python.org/issue25942\u001b[0m\u001b[0;34m\u001b[0m\u001b[0;34m\u001b[0m\u001b[0;34m\u001b[0m\u001b[0m\n",
            "\u001b[0;32m~/anaconda3/envs/ml-zoomcamp/lib/python3.8/subprocess.py\u001b[0m in \u001b[0;36m_communicate\u001b[0;34m(self, input, endtime, orig_timeout)\u001b[0m\n\u001b[1;32m   1866\u001b[0m                             'failed to raise TimeoutExpired.')\n\u001b[1;32m   1867\u001b[0m \u001b[0;34m\u001b[0m\u001b[0m\n\u001b[0;32m-> 1868\u001b[0;31m                     \u001b[0mready\u001b[0m \u001b[0;34m=\u001b[0m \u001b[0mselector\u001b[0m\u001b[0;34m.\u001b[0m\u001b[0mselect\u001b[0m\u001b[0;34m(\u001b[0m\u001b[0mtimeout\u001b[0m\u001b[0;34m)\u001b[0m\u001b[0;34m\u001b[0m\u001b[0;34m\u001b[0m\u001b[0m\n\u001b[0m\u001b[1;32m   1869\u001b[0m                     \u001b[0mself\u001b[0m\u001b[0;34m.\u001b[0m\u001b[0m_check_timeout\u001b[0m\u001b[0;34m(\u001b[0m\u001b[0mendtime\u001b[0m\u001b[0;34m,\u001b[0m \u001b[0morig_timeout\u001b[0m\u001b[0;34m,\u001b[0m \u001b[0mstdout\u001b[0m\u001b[0;34m,\u001b[0m \u001b[0mstderr\u001b[0m\u001b[0;34m)\u001b[0m\u001b[0;34m\u001b[0m\u001b[0;34m\u001b[0m\u001b[0m\n\u001b[1;32m   1870\u001b[0m \u001b[0;34m\u001b[0m\u001b[0m\n",
            "\u001b[0;32m~/anaconda3/envs/ml-zoomcamp/lib/python3.8/selectors.py\u001b[0m in \u001b[0;36mselect\u001b[0;34m(self, timeout)\u001b[0m\n\u001b[1;32m    413\u001b[0m         \u001b[0mready\u001b[0m \u001b[0;34m=\u001b[0m \u001b[0;34m[\u001b[0m\u001b[0;34m]\u001b[0m\u001b[0;34m\u001b[0m\u001b[0;34m\u001b[0m\u001b[0m\n\u001b[1;32m    414\u001b[0m         \u001b[0;32mtry\u001b[0m\u001b[0;34m:\u001b[0m\u001b[0;34m\u001b[0m\u001b[0;34m\u001b[0m\u001b[0m\n\u001b[0;32m--> 415\u001b[0;31m             \u001b[0mfd_event_list\u001b[0m \u001b[0;34m=\u001b[0m \u001b[0mself\u001b[0m\u001b[0;34m.\u001b[0m\u001b[0m_selector\u001b[0m\u001b[0;34m.\u001b[0m\u001b[0mpoll\u001b[0m\u001b[0;34m(\u001b[0m\u001b[0mtimeout\u001b[0m\u001b[0;34m)\u001b[0m\u001b[0;34m\u001b[0m\u001b[0;34m\u001b[0m\u001b[0m\n\u001b[0m\u001b[1;32m    416\u001b[0m         \u001b[0;32mexcept\u001b[0m \u001b[0mInterruptedError\u001b[0m\u001b[0;34m:\u001b[0m\u001b[0;34m\u001b[0m\u001b[0;34m\u001b[0m\u001b[0m\n\u001b[1;32m    417\u001b[0m             \u001b[0;32mreturn\u001b[0m \u001b[0mready\u001b[0m\u001b[0;34m\u001b[0m\u001b[0;34m\u001b[0m\u001b[0m\n",
            "\u001b[0;31mKeyboardInterrupt\u001b[0m: "
          ]
        }
      ]
    },
    {
      "cell_type": "markdown",
      "metadata": {
        "id": "KVTTbqr9OuUR"
      },
      "source": [
        "### **Load molecular descriptors and remove low variance features**"
      ]
    },
    {
      "cell_type": "code",
      "metadata": {
        "id": "BmtOHly-RHtI"
      },
      "source": [
        "# Create a list with shorten names of xml files\n",
        "FP_list = ['AtomPairs2DCount',\n",
        " 'AtomPairs2D',\n",
        " 'EState',\n",
        " 'CDKextended',\n",
        " 'CDK',\n",
        " 'CDKgraphonly',\n",
        " 'MACCS',\n",
        " 'PubChem',\n",
        " 'SubstructureCount',\n",
        " 'Substructure']"
      ],
      "execution_count": 34,
      "outputs": []
    },
    {
      "cell_type": "code",
      "metadata": {
        "colab": {
          "base_uri": "https://localhost:8080/"
        },
        "id": "lzl8X6H0OuUR",
        "outputId": "7243aba7-c0ab-453e-e4bf-89add297c8a7"
      },
      "source": [
        "# Load original descriptors \n",
        "descriptors = {}\n",
        "\n",
        "for i in FP_list:\n",
        "    path = \"Data/MolFingerprints/Results/Original/\"\n",
        "    fingerprint_file_path = ''.join([path,i])\n",
        "    \n",
        "    descriptor_name_csv = ''.join([fingerprint_file_path,'.csv'])\n",
        "\n",
        "    print(descriptor_name_csv)\n",
        "\n",
        "    descriptors[str(i)] = pd.read_csv(descriptor_name_csv)\n",
        "\n",
        "    descriptors[str(i)] = descriptors[str(i)].sort_values(\"Name\").reset_index(drop=True)"
      ],
      "execution_count": 39,
      "outputs": [
        {
          "output_type": "stream",
          "name": "stdout",
          "text": [
            "Data/MolFingerprints/Results/Original/AtomPairs2DCount.csv\n",
            "Data/MolFingerprints/Results/Original/AtomPairs2D.csv\n",
            "Data/MolFingerprints/Results/Original/EState.csv\n",
            "Data/MolFingerprints/Results/Original/CDKextended.csv\n",
            "Data/MolFingerprints/Results/Original/CDK.csv\n",
            "Data/MolFingerprints/Results/Original/CDKgraphonly.csv\n",
            "Data/MolFingerprints/Results/Original/MACCS.csv\n",
            "Data/MolFingerprints/Results/Original/PubChem.csv\n",
            "Data/MolFingerprints/Results/Original/SubstructureCount.csv\n",
            "Data/MolFingerprints/Results/Original/Substructure.csv\n"
          ]
        }
      ]
    },
    {
      "cell_type": "code",
      "metadata": {
        "id": "mGuDo92rOuUT"
      },
      "source": [
        "# Function to remove low variance features\n",
        "def remove_low_variance(input_data, threshold=0.1):\n",
        "    selection = VarianceThreshold(threshold)\n",
        "    selection.fit(input_data)\n",
        "    return input_data[input_data.columns[selection.get_support(indices=True)]]"
      ],
      "execution_count": 40,
      "outputs": []
    },
    {
      "cell_type": "code",
      "metadata": {
        "id": "PhdnMVCcOuUT"
      },
      "source": [
        "low_var_descriptors = {}\n",
        "\n",
        "for i,j in descriptors.items():\n",
        "  temp = j.drop('Name', axis=1)\n",
        "  low_var_descriptors[i] = remove_low_variance(temp, threshold=(.8*(1-.8)))"
      ],
      "execution_count": 41,
      "outputs": []
    },
    {
      "cell_type": "code",
      "metadata": {
        "colab": {
          "base_uri": "https://localhost:8080/"
        },
        "id": "gEqLqAhzXjH1",
        "outputId": "831b0e0b-aaf4-4304-ac88-151d52854c09"
      },
      "source": [
        "for i, j in low_var_descriptors.items():\n",
        "    path = \"Data/MolFingerprints/Results/Low_variance/\"\n",
        "    fingerprint_file_path = ''.join([path,i])\n",
        "    \n",
        "    descriptor_name_csv = ''.join([fingerprint_file_path,'.csv'])\n",
        "\n",
        "    print(descriptor_name_csv)\n",
        "\n",
        "    j.to_csv(descriptor_name_csv)"
      ],
      "execution_count": 47,
      "outputs": [
        {
          "output_type": "stream",
          "name": "stdout",
          "text": [
            "Data/MolFingerprints/Results/Low_variance/AtomPairs2DCount.csv\n",
            "Data/MolFingerprints/Results/Low_variance/AtomPairs2D.csv\n",
            "Data/MolFingerprints/Results/Low_variance/EState.csv\n",
            "Data/MolFingerprints/Results/Low_variance/CDKextended.csv\n",
            "Data/MolFingerprints/Results/Low_variance/CDK.csv\n",
            "Data/MolFingerprints/Results/Low_variance/CDKgraphonly.csv\n",
            "Data/MolFingerprints/Results/Low_variance/MACCS.csv\n",
            "Data/MolFingerprints/Results/Low_variance/PubChem.csv\n",
            "Data/MolFingerprints/Results/Low_variance/SubstructureCount.csv\n",
            "Data/MolFingerprints/Results/Low_variance/Substructure.csv\n"
          ]
        }
      ]
    },
    {
      "cell_type": "code",
      "metadata": {
        "id": "JRhA8YrW9isS"
      },
      "source": [
        "corr_feat_target =pd.DataFrame()\n",
        "for i,j in low_var_descriptors.items():\n",
        "\n",
        "    corr_feat = pd.DataFrame(j.corrwith(df4.pchembl_bin), \n",
        "                                       columns = [\"Corr\"]).sort_values(by=['Corr'],\n",
        "                                                                       ascending=False)\n",
        "\n",
        "    temp = j[corr_feat.head(20).index]\n",
        "    \n",
        "    corr_feat_target = pd.concat([corr_feat_target, temp], axis=1)\n",
        "\n",
        "    # We considered the correlation between numerical features and target variable \n",
        "\n",
        "    # Set figure and axes\n",
        "    #fig, ax = plt.subplots()\n",
        "\n",
        "    # Figure size \n",
        "    #fig.set_size_inches(20,20)\n",
        "\n",
        "    #plt.barh(y=corr_df.index, width=corr_df.Corr)\n",
        "\n",
        "    # Add title\n",
        "    #plt.title('Correlation between features and target variable')"
      ],
      "execution_count": 48,
      "outputs": []
    },
    {
      "cell_type": "code",
      "metadata": {
        "colab": {
          "base_uri": "https://localhost:8080/",
          "height": 444
        },
        "id": "D8oD0Svsb1P3",
        "outputId": "60afb234-1d7d-49e1-aa0b-7607c4d7a6fc"
      },
      "source": [
        "corr_feat_target"
      ],
      "execution_count": 49,
      "outputs": [
        {
          "output_type": "execute_result",
          "data": {
            "text/html": [
              "<div>\n",
              "<style scoped>\n",
              "    .dataframe tbody tr th:only-of-type {\n",
              "        vertical-align: middle;\n",
              "    }\n",
              "\n",
              "    .dataframe tbody tr th {\n",
              "        vertical-align: top;\n",
              "    }\n",
              "\n",
              "    .dataframe thead th {\n",
              "        text-align: right;\n",
              "    }\n",
              "</style>\n",
              "<table border=\"1\" class=\"dataframe\">\n",
              "  <thead>\n",
              "    <tr style=\"text-align: right;\">\n",
              "      <th></th>\n",
              "      <th>APC2D2_N_O</th>\n",
              "      <th>APC2D1_C_N</th>\n",
              "      <th>APC2D1_O_S</th>\n",
              "      <th>APC2D3_C_O</th>\n",
              "      <th>APC2D4_O_O</th>\n",
              "      <th>APC2D8_N_N</th>\n",
              "      <th>APC2D5_N_O</th>\n",
              "      <th>APC2D2_C_S</th>\n",
              "      <th>APC2D10_C_O</th>\n",
              "      <th>APC2D1_N_S</th>\n",
              "      <th>APC2D10_C_N</th>\n",
              "      <th>APC2D2_C_N</th>\n",
              "      <th>APC2D4_C_O</th>\n",
              "      <th>APC2D9_C_O</th>\n",
              "      <th>APC2D8_N_O</th>\n",
              "      <th>APC2D9_C_N</th>\n",
              "      <th>APC2D3_N_N</th>\n",
              "      <th>APC2D5_O_O</th>\n",
              "      <th>APC2D10_N_O</th>\n",
              "      <th>APC2D7_O_O</th>\n",
              "      <th>AD2D258</th>\n",
              "      <th>AD2D326</th>\n",
              "      <th>AD2D560</th>\n",
              "      <th>AD2D705</th>\n",
              "      <th>AD2D169</th>\n",
              "      <th>AD2D492</th>\n",
              "      <th>AD2D82</th>\n",
              "      <th>AD2D626</th>\n",
              "      <th>AD2D704</th>\n",
              "      <th>AD2D247</th>\n",
              "      <th>AD2D102</th>\n",
              "      <th>AD2D482</th>\n",
              "      <th>AD2D706</th>\n",
              "      <th>AD2D403</th>\n",
              "      <th>AD2D91</th>\n",
              "      <th>AD2D325</th>\n",
              "      <th>AD2D714</th>\n",
              "      <th>AD2D638</th>\n",
              "      <th>AD2D570</th>\n",
              "      <th>AD2D238</th>\n",
              "      <th>...</th>\n",
              "      <th>PubchemFP611</th>\n",
              "      <th>PubchemFP451</th>\n",
              "      <th>PubchemFP569</th>\n",
              "      <th>PubchemFP383</th>\n",
              "      <th>PubchemFP531</th>\n",
              "      <th>PubchemFP521</th>\n",
              "      <th>PubchemFP145</th>\n",
              "      <th>PubchemFP596</th>\n",
              "      <th>PubchemFP519</th>\n",
              "      <th>SubFPC295</th>\n",
              "      <th>SubFPC301</th>\n",
              "      <th>SubFPC300</th>\n",
              "      <th>SubFPC2</th>\n",
              "      <th>SubFPC275</th>\n",
              "      <th>SubFPC180</th>\n",
              "      <th>SubFPC88</th>\n",
              "      <th>SubFPC302</th>\n",
              "      <th>SubFPC3</th>\n",
              "      <th>SubFPC287</th>\n",
              "      <th>SubFPC100</th>\n",
              "      <th>SubFPC23</th>\n",
              "      <th>SubFPC135</th>\n",
              "      <th>SubFPC184</th>\n",
              "      <th>SubFPC181</th>\n",
              "      <th>SubFPC1</th>\n",
              "      <th>SubFPC18</th>\n",
              "      <th>SubFPC171</th>\n",
              "      <th>SubFPC307</th>\n",
              "      <th>SubFPC137</th>\n",
              "      <th>SubFP2</th>\n",
              "      <th>SubFP180</th>\n",
              "      <th>SubFP100</th>\n",
              "      <th>SubFP88</th>\n",
              "      <th>SubFP181</th>\n",
              "      <th>SubFP18</th>\n",
              "      <th>SubFP1</th>\n",
              "      <th>SubFP184</th>\n",
              "      <th>SubFP135</th>\n",
              "      <th>SubFP287</th>\n",
              "      <th>SubFP137</th>\n",
              "    </tr>\n",
              "  </thead>\n",
              "  <tbody>\n",
              "    <tr>\n",
              "      <th>0</th>\n",
              "      <td>0.0</td>\n",
              "      <td>0.0</td>\n",
              "      <td>0.0</td>\n",
              "      <td>4.0</td>\n",
              "      <td>0.0</td>\n",
              "      <td>0.0</td>\n",
              "      <td>0.0</td>\n",
              "      <td>0.0</td>\n",
              "      <td>2.0</td>\n",
              "      <td>0.0</td>\n",
              "      <td>0.0</td>\n",
              "      <td>0.0</td>\n",
              "      <td>2.0</td>\n",
              "      <td>4.0</td>\n",
              "      <td>0.0</td>\n",
              "      <td>0.0</td>\n",
              "      <td>0.0</td>\n",
              "      <td>0.0</td>\n",
              "      <td>0.0</td>\n",
              "      <td>0.0</td>\n",
              "      <td>0</td>\n",
              "      <td>0</td>\n",
              "      <td>0</td>\n",
              "      <td>1</td>\n",
              "      <td>0</td>\n",
              "      <td>0</td>\n",
              "      <td>0</td>\n",
              "      <td>0</td>\n",
              "      <td>0</td>\n",
              "      <td>0</td>\n",
              "      <td>0</td>\n",
              "      <td>0</td>\n",
              "      <td>0</td>\n",
              "      <td>0</td>\n",
              "      <td>0</td>\n",
              "      <td>0</td>\n",
              "      <td>0</td>\n",
              "      <td>0</td>\n",
              "      <td>0</td>\n",
              "      <td>0</td>\n",
              "      <td>...</td>\n",
              "      <td>0.0</td>\n",
              "      <td>0.0</td>\n",
              "      <td>0.0</td>\n",
              "      <td>0.0</td>\n",
              "      <td>0.0</td>\n",
              "      <td>0.0</td>\n",
              "      <td>0.0</td>\n",
              "      <td>0.0</td>\n",
              "      <td>0.0</td>\n",
              "      <td>2.0</td>\n",
              "      <td>4.0</td>\n",
              "      <td>4.0</td>\n",
              "      <td>0.0</td>\n",
              "      <td>0.0</td>\n",
              "      <td>0.0</td>\n",
              "      <td>0.0</td>\n",
              "      <td>3.0</td>\n",
              "      <td>0.0</td>\n",
              "      <td>5.0</td>\n",
              "      <td>0.0</td>\n",
              "      <td>0.0</td>\n",
              "      <td>0.0</td>\n",
              "      <td>0.0</td>\n",
              "      <td>0.0</td>\n",
              "      <td>2.0</td>\n",
              "      <td>0.0</td>\n",
              "      <td>0.0</td>\n",
              "      <td>16.0</td>\n",
              "      <td>0.0</td>\n",
              "      <td>0.0</td>\n",
              "      <td>0.0</td>\n",
              "      <td>0.0</td>\n",
              "      <td>0.0</td>\n",
              "      <td>0.0</td>\n",
              "      <td>0.0</td>\n",
              "      <td>1.0</td>\n",
              "      <td>0.0</td>\n",
              "      <td>0.0</td>\n",
              "      <td>1.0</td>\n",
              "      <td>0.0</td>\n",
              "    </tr>\n",
              "    <tr>\n",
              "      <th>1</th>\n",
              "      <td>4.0</td>\n",
              "      <td>3.0</td>\n",
              "      <td>0.0</td>\n",
              "      <td>7.0</td>\n",
              "      <td>0.0</td>\n",
              "      <td>0.0</td>\n",
              "      <td>0.0</td>\n",
              "      <td>0.0</td>\n",
              "      <td>0.0</td>\n",
              "      <td>0.0</td>\n",
              "      <td>0.0</td>\n",
              "      <td>3.0</td>\n",
              "      <td>5.0</td>\n",
              "      <td>0.0</td>\n",
              "      <td>0.0</td>\n",
              "      <td>0.0</td>\n",
              "      <td>0.0</td>\n",
              "      <td>0.0</td>\n",
              "      <td>0.0</td>\n",
              "      <td>0.0</td>\n",
              "      <td>0</td>\n",
              "      <td>0</td>\n",
              "      <td>0</td>\n",
              "      <td>0</td>\n",
              "      <td>0</td>\n",
              "      <td>0</td>\n",
              "      <td>0</td>\n",
              "      <td>0</td>\n",
              "      <td>0</td>\n",
              "      <td>0</td>\n",
              "      <td>1</td>\n",
              "      <td>0</td>\n",
              "      <td>0</td>\n",
              "      <td>0</td>\n",
              "      <td>1</td>\n",
              "      <td>0</td>\n",
              "      <td>0</td>\n",
              "      <td>0</td>\n",
              "      <td>0</td>\n",
              "      <td>0</td>\n",
              "      <td>...</td>\n",
              "      <td>0.0</td>\n",
              "      <td>0.0</td>\n",
              "      <td>0.0</td>\n",
              "      <td>0.0</td>\n",
              "      <td>0.0</td>\n",
              "      <td>0.0</td>\n",
              "      <td>0.0</td>\n",
              "      <td>0.0</td>\n",
              "      <td>0.0</td>\n",
              "      <td>4.0</td>\n",
              "      <td>12.0</td>\n",
              "      <td>12.0</td>\n",
              "      <td>1.0</td>\n",
              "      <td>3.0</td>\n",
              "      <td>0.0</td>\n",
              "      <td>0.0</td>\n",
              "      <td>4.0</td>\n",
              "      <td>0.0</td>\n",
              "      <td>0.0</td>\n",
              "      <td>0.0</td>\n",
              "      <td>0.0</td>\n",
              "      <td>0.0</td>\n",
              "      <td>0.0</td>\n",
              "      <td>0.0</td>\n",
              "      <td>0.0</td>\n",
              "      <td>0.0</td>\n",
              "      <td>0.0</td>\n",
              "      <td>2.0</td>\n",
              "      <td>0.0</td>\n",
              "      <td>1.0</td>\n",
              "      <td>0.0</td>\n",
              "      <td>0.0</td>\n",
              "      <td>0.0</td>\n",
              "      <td>0.0</td>\n",
              "      <td>0.0</td>\n",
              "      <td>0.0</td>\n",
              "      <td>0.0</td>\n",
              "      <td>0.0</td>\n",
              "      <td>0.0</td>\n",
              "      <td>0.0</td>\n",
              "    </tr>\n",
              "    <tr>\n",
              "      <th>2</th>\n",
              "      <td>1.0</td>\n",
              "      <td>4.0</td>\n",
              "      <td>0.0</td>\n",
              "      <td>1.0</td>\n",
              "      <td>0.0</td>\n",
              "      <td>0.0</td>\n",
              "      <td>0.0</td>\n",
              "      <td>0.0</td>\n",
              "      <td>0.0</td>\n",
              "      <td>0.0</td>\n",
              "      <td>0.0</td>\n",
              "      <td>5.0</td>\n",
              "      <td>3.0</td>\n",
              "      <td>0.0</td>\n",
              "      <td>0.0</td>\n",
              "      <td>0.0</td>\n",
              "      <td>1.0</td>\n",
              "      <td>0.0</td>\n",
              "      <td>0.0</td>\n",
              "      <td>0.0</td>\n",
              "      <td>0</td>\n",
              "      <td>0</td>\n",
              "      <td>0</td>\n",
              "      <td>0</td>\n",
              "      <td>1</td>\n",
              "      <td>0</td>\n",
              "      <td>0</td>\n",
              "      <td>0</td>\n",
              "      <td>0</td>\n",
              "      <td>0</td>\n",
              "      <td>0</td>\n",
              "      <td>0</td>\n",
              "      <td>0</td>\n",
              "      <td>0</td>\n",
              "      <td>0</td>\n",
              "      <td>0</td>\n",
              "      <td>0</td>\n",
              "      <td>0</td>\n",
              "      <td>0</td>\n",
              "      <td>0</td>\n",
              "      <td>...</td>\n",
              "      <td>1.0</td>\n",
              "      <td>1.0</td>\n",
              "      <td>1.0</td>\n",
              "      <td>0.0</td>\n",
              "      <td>0.0</td>\n",
              "      <td>0.0</td>\n",
              "      <td>0.0</td>\n",
              "      <td>0.0</td>\n",
              "      <td>0.0</td>\n",
              "      <td>5.0</td>\n",
              "      <td>8.0</td>\n",
              "      <td>8.0</td>\n",
              "      <td>0.0</td>\n",
              "      <td>0.0</td>\n",
              "      <td>0.0</td>\n",
              "      <td>1.0</td>\n",
              "      <td>5.0</td>\n",
              "      <td>0.0</td>\n",
              "      <td>0.0</td>\n",
              "      <td>1.0</td>\n",
              "      <td>0.0</td>\n",
              "      <td>0.0</td>\n",
              "      <td>0.0</td>\n",
              "      <td>0.0</td>\n",
              "      <td>3.0</td>\n",
              "      <td>0.0</td>\n",
              "      <td>0.0</td>\n",
              "      <td>9.0</td>\n",
              "      <td>0.0</td>\n",
              "      <td>0.0</td>\n",
              "      <td>0.0</td>\n",
              "      <td>1.0</td>\n",
              "      <td>1.0</td>\n",
              "      <td>0.0</td>\n",
              "      <td>0.0</td>\n",
              "      <td>1.0</td>\n",
              "      <td>0.0</td>\n",
              "      <td>0.0</td>\n",
              "      <td>0.0</td>\n",
              "      <td>0.0</td>\n",
              "    </tr>\n",
              "    <tr>\n",
              "      <th>3</th>\n",
              "      <td>0.0</td>\n",
              "      <td>3.0</td>\n",
              "      <td>0.0</td>\n",
              "      <td>7.0</td>\n",
              "      <td>0.0</td>\n",
              "      <td>0.0</td>\n",
              "      <td>1.0</td>\n",
              "      <td>0.0</td>\n",
              "      <td>4.0</td>\n",
              "      <td>0.0</td>\n",
              "      <td>0.0</td>\n",
              "      <td>3.0</td>\n",
              "      <td>5.0</td>\n",
              "      <td>2.0</td>\n",
              "      <td>0.0</td>\n",
              "      <td>0.0</td>\n",
              "      <td>0.0</td>\n",
              "      <td>0.0</td>\n",
              "      <td>0.0</td>\n",
              "      <td>0.0</td>\n",
              "      <td>0</td>\n",
              "      <td>1</td>\n",
              "      <td>0</td>\n",
              "      <td>1</td>\n",
              "      <td>0</td>\n",
              "      <td>0</td>\n",
              "      <td>0</td>\n",
              "      <td>0</td>\n",
              "      <td>0</td>\n",
              "      <td>0</td>\n",
              "      <td>0</td>\n",
              "      <td>0</td>\n",
              "      <td>0</td>\n",
              "      <td>0</td>\n",
              "      <td>0</td>\n",
              "      <td>0</td>\n",
              "      <td>1</td>\n",
              "      <td>0</td>\n",
              "      <td>0</td>\n",
              "      <td>0</td>\n",
              "      <td>...</td>\n",
              "      <td>0.0</td>\n",
              "      <td>0.0</td>\n",
              "      <td>0.0</td>\n",
              "      <td>0.0</td>\n",
              "      <td>0.0</td>\n",
              "      <td>0.0</td>\n",
              "      <td>0.0</td>\n",
              "      <td>0.0</td>\n",
              "      <td>0.0</td>\n",
              "      <td>5.0</td>\n",
              "      <td>13.0</td>\n",
              "      <td>13.0</td>\n",
              "      <td>4.0</td>\n",
              "      <td>1.0</td>\n",
              "      <td>0.0</td>\n",
              "      <td>0.0</td>\n",
              "      <td>6.0</td>\n",
              "      <td>0.0</td>\n",
              "      <td>0.0</td>\n",
              "      <td>0.0</td>\n",
              "      <td>1.0</td>\n",
              "      <td>0.0</td>\n",
              "      <td>0.0</td>\n",
              "      <td>0.0</td>\n",
              "      <td>0.0</td>\n",
              "      <td>0.0</td>\n",
              "      <td>1.0</td>\n",
              "      <td>15.0</td>\n",
              "      <td>0.0</td>\n",
              "      <td>1.0</td>\n",
              "      <td>0.0</td>\n",
              "      <td>0.0</td>\n",
              "      <td>0.0</td>\n",
              "      <td>0.0</td>\n",
              "      <td>0.0</td>\n",
              "      <td>0.0</td>\n",
              "      <td>0.0</td>\n",
              "      <td>0.0</td>\n",
              "      <td>0.0</td>\n",
              "      <td>0.0</td>\n",
              "    </tr>\n",
              "    <tr>\n",
              "      <th>4</th>\n",
              "      <td>0.0</td>\n",
              "      <td>5.0</td>\n",
              "      <td>0.0</td>\n",
              "      <td>0.0</td>\n",
              "      <td>0.0</td>\n",
              "      <td>0.0</td>\n",
              "      <td>0.0</td>\n",
              "      <td>0.0</td>\n",
              "      <td>0.0</td>\n",
              "      <td>0.0</td>\n",
              "      <td>0.0</td>\n",
              "      <td>5.0</td>\n",
              "      <td>0.0</td>\n",
              "      <td>0.0</td>\n",
              "      <td>0.0</td>\n",
              "      <td>0.0</td>\n",
              "      <td>0.0</td>\n",
              "      <td>0.0</td>\n",
              "      <td>0.0</td>\n",
              "      <td>0.0</td>\n",
              "      <td>0</td>\n",
              "      <td>0</td>\n",
              "      <td>0</td>\n",
              "      <td>0</td>\n",
              "      <td>0</td>\n",
              "      <td>0</td>\n",
              "      <td>0</td>\n",
              "      <td>0</td>\n",
              "      <td>0</td>\n",
              "      <td>0</td>\n",
              "      <td>0</td>\n",
              "      <td>0</td>\n",
              "      <td>0</td>\n",
              "      <td>0</td>\n",
              "      <td>1</td>\n",
              "      <td>0</td>\n",
              "      <td>0</td>\n",
              "      <td>0</td>\n",
              "      <td>0</td>\n",
              "      <td>0</td>\n",
              "      <td>...</td>\n",
              "      <td>1.0</td>\n",
              "      <td>0.0</td>\n",
              "      <td>1.0</td>\n",
              "      <td>0.0</td>\n",
              "      <td>0.0</td>\n",
              "      <td>1.0</td>\n",
              "      <td>1.0</td>\n",
              "      <td>1.0</td>\n",
              "      <td>1.0</td>\n",
              "      <td>5.0</td>\n",
              "      <td>0.0</td>\n",
              "      <td>0.0</td>\n",
              "      <td>0.0</td>\n",
              "      <td>2.0</td>\n",
              "      <td>1.0</td>\n",
              "      <td>0.0</td>\n",
              "      <td>4.0</td>\n",
              "      <td>0.0</td>\n",
              "      <td>0.0</td>\n",
              "      <td>0.0</td>\n",
              "      <td>0.0</td>\n",
              "      <td>0.0</td>\n",
              "      <td>2.0</td>\n",
              "      <td>1.0</td>\n",
              "      <td>0.0</td>\n",
              "      <td>0.0</td>\n",
              "      <td>1.0</td>\n",
              "      <td>23.0</td>\n",
              "      <td>0.0</td>\n",
              "      <td>0.0</td>\n",
              "      <td>1.0</td>\n",
              "      <td>0.0</td>\n",
              "      <td>0.0</td>\n",
              "      <td>1.0</td>\n",
              "      <td>0.0</td>\n",
              "      <td>0.0</td>\n",
              "      <td>1.0</td>\n",
              "      <td>0.0</td>\n",
              "      <td>0.0</td>\n",
              "      <td>0.0</td>\n",
              "    </tr>\n",
              "    <tr>\n",
              "      <th>...</th>\n",
              "      <td>...</td>\n",
              "      <td>...</td>\n",
              "      <td>...</td>\n",
              "      <td>...</td>\n",
              "      <td>...</td>\n",
              "      <td>...</td>\n",
              "      <td>...</td>\n",
              "      <td>...</td>\n",
              "      <td>...</td>\n",
              "      <td>...</td>\n",
              "      <td>...</td>\n",
              "      <td>...</td>\n",
              "      <td>...</td>\n",
              "      <td>...</td>\n",
              "      <td>...</td>\n",
              "      <td>...</td>\n",
              "      <td>...</td>\n",
              "      <td>...</td>\n",
              "      <td>...</td>\n",
              "      <td>...</td>\n",
              "      <td>...</td>\n",
              "      <td>...</td>\n",
              "      <td>...</td>\n",
              "      <td>...</td>\n",
              "      <td>...</td>\n",
              "      <td>...</td>\n",
              "      <td>...</td>\n",
              "      <td>...</td>\n",
              "      <td>...</td>\n",
              "      <td>...</td>\n",
              "      <td>...</td>\n",
              "      <td>...</td>\n",
              "      <td>...</td>\n",
              "      <td>...</td>\n",
              "      <td>...</td>\n",
              "      <td>...</td>\n",
              "      <td>...</td>\n",
              "      <td>...</td>\n",
              "      <td>...</td>\n",
              "      <td>...</td>\n",
              "      <td>...</td>\n",
              "      <td>...</td>\n",
              "      <td>...</td>\n",
              "      <td>...</td>\n",
              "      <td>...</td>\n",
              "      <td>...</td>\n",
              "      <td>...</td>\n",
              "      <td>...</td>\n",
              "      <td>...</td>\n",
              "      <td>...</td>\n",
              "      <td>...</td>\n",
              "      <td>...</td>\n",
              "      <td>...</td>\n",
              "      <td>...</td>\n",
              "      <td>...</td>\n",
              "      <td>...</td>\n",
              "      <td>...</td>\n",
              "      <td>...</td>\n",
              "      <td>...</td>\n",
              "      <td>...</td>\n",
              "      <td>...</td>\n",
              "      <td>...</td>\n",
              "      <td>...</td>\n",
              "      <td>...</td>\n",
              "      <td>...</td>\n",
              "      <td>...</td>\n",
              "      <td>...</td>\n",
              "      <td>...</td>\n",
              "      <td>...</td>\n",
              "      <td>...</td>\n",
              "      <td>...</td>\n",
              "      <td>...</td>\n",
              "      <td>...</td>\n",
              "      <td>...</td>\n",
              "      <td>...</td>\n",
              "      <td>...</td>\n",
              "      <td>...</td>\n",
              "      <td>...</td>\n",
              "      <td>...</td>\n",
              "      <td>...</td>\n",
              "      <td>...</td>\n",
              "    </tr>\n",
              "    <tr>\n",
              "      <th>61731</th>\n",
              "      <td>0.0</td>\n",
              "      <td>6.0</td>\n",
              "      <td>0.0</td>\n",
              "      <td>0.0</td>\n",
              "      <td>0.0</td>\n",
              "      <td>0.0</td>\n",
              "      <td>0.0</td>\n",
              "      <td>2.0</td>\n",
              "      <td>0.0</td>\n",
              "      <td>0.0</td>\n",
              "      <td>0.0</td>\n",
              "      <td>4.0</td>\n",
              "      <td>0.0</td>\n",
              "      <td>0.0</td>\n",
              "      <td>0.0</td>\n",
              "      <td>0.0</td>\n",
              "      <td>0.0</td>\n",
              "      <td>0.0</td>\n",
              "      <td>0.0</td>\n",
              "      <td>0.0</td>\n",
              "      <td>0</td>\n",
              "      <td>0</td>\n",
              "      <td>0</td>\n",
              "      <td>0</td>\n",
              "      <td>0</td>\n",
              "      <td>0</td>\n",
              "      <td>1</td>\n",
              "      <td>0</td>\n",
              "      <td>0</td>\n",
              "      <td>0</td>\n",
              "      <td>0</td>\n",
              "      <td>0</td>\n",
              "      <td>0</td>\n",
              "      <td>0</td>\n",
              "      <td>0</td>\n",
              "      <td>1</td>\n",
              "      <td>0</td>\n",
              "      <td>0</td>\n",
              "      <td>0</td>\n",
              "      <td>1</td>\n",
              "      <td>...</td>\n",
              "      <td>0.0</td>\n",
              "      <td>0.0</td>\n",
              "      <td>0.0</td>\n",
              "      <td>0.0</td>\n",
              "      <td>0.0</td>\n",
              "      <td>0.0</td>\n",
              "      <td>0.0</td>\n",
              "      <td>0.0</td>\n",
              "      <td>0.0</td>\n",
              "      <td>10.0</td>\n",
              "      <td>8.0</td>\n",
              "      <td>8.0</td>\n",
              "      <td>0.0</td>\n",
              "      <td>0.0</td>\n",
              "      <td>0.0</td>\n",
              "      <td>0.0</td>\n",
              "      <td>9.0</td>\n",
              "      <td>0.0</td>\n",
              "      <td>0.0</td>\n",
              "      <td>0.0</td>\n",
              "      <td>0.0</td>\n",
              "      <td>0.0</td>\n",
              "      <td>0.0</td>\n",
              "      <td>0.0</td>\n",
              "      <td>4.0</td>\n",
              "      <td>0.0</td>\n",
              "      <td>0.0</td>\n",
              "      <td>4.0</td>\n",
              "      <td>0.0</td>\n",
              "      <td>0.0</td>\n",
              "      <td>0.0</td>\n",
              "      <td>0.0</td>\n",
              "      <td>0.0</td>\n",
              "      <td>0.0</td>\n",
              "      <td>0.0</td>\n",
              "      <td>1.0</td>\n",
              "      <td>0.0</td>\n",
              "      <td>0.0</td>\n",
              "      <td>0.0</td>\n",
              "      <td>0.0</td>\n",
              "    </tr>\n",
              "    <tr>\n",
              "      <th>61732</th>\n",
              "      <td>0.0</td>\n",
              "      <td>3.0</td>\n",
              "      <td>0.0</td>\n",
              "      <td>0.0</td>\n",
              "      <td>0.0</td>\n",
              "      <td>0.0</td>\n",
              "      <td>0.0</td>\n",
              "      <td>2.0</td>\n",
              "      <td>0.0</td>\n",
              "      <td>0.0</td>\n",
              "      <td>0.0</td>\n",
              "      <td>2.0</td>\n",
              "      <td>0.0</td>\n",
              "      <td>0.0</td>\n",
              "      <td>0.0</td>\n",
              "      <td>0.0</td>\n",
              "      <td>0.0</td>\n",
              "      <td>0.0</td>\n",
              "      <td>0.0</td>\n",
              "      <td>0.0</td>\n",
              "      <td>0</td>\n",
              "      <td>0</td>\n",
              "      <td>0</td>\n",
              "      <td>0</td>\n",
              "      <td>0</td>\n",
              "      <td>0</td>\n",
              "      <td>1</td>\n",
              "      <td>0</td>\n",
              "      <td>0</td>\n",
              "      <td>0</td>\n",
              "      <td>0</td>\n",
              "      <td>0</td>\n",
              "      <td>0</td>\n",
              "      <td>0</td>\n",
              "      <td>1</td>\n",
              "      <td>0</td>\n",
              "      <td>0</td>\n",
              "      <td>0</td>\n",
              "      <td>0</td>\n",
              "      <td>1</td>\n",
              "      <td>...</td>\n",
              "      <td>0.0</td>\n",
              "      <td>0.0</td>\n",
              "      <td>0.0</td>\n",
              "      <td>1.0</td>\n",
              "      <td>1.0</td>\n",
              "      <td>0.0</td>\n",
              "      <td>1.0</td>\n",
              "      <td>0.0</td>\n",
              "      <td>0.0</td>\n",
              "      <td>5.0</td>\n",
              "      <td>1.0</td>\n",
              "      <td>1.0</td>\n",
              "      <td>0.0</td>\n",
              "      <td>2.0</td>\n",
              "      <td>0.0</td>\n",
              "      <td>0.0</td>\n",
              "      <td>0.0</td>\n",
              "      <td>0.0</td>\n",
              "      <td>0.0</td>\n",
              "      <td>0.0</td>\n",
              "      <td>0.0</td>\n",
              "      <td>0.0</td>\n",
              "      <td>2.0</td>\n",
              "      <td>1.0</td>\n",
              "      <td>0.0</td>\n",
              "      <td>0.0</td>\n",
              "      <td>1.0</td>\n",
              "      <td>7.0</td>\n",
              "      <td>0.0</td>\n",
              "      <td>0.0</td>\n",
              "      <td>0.0</td>\n",
              "      <td>0.0</td>\n",
              "      <td>0.0</td>\n",
              "      <td>1.0</td>\n",
              "      <td>0.0</td>\n",
              "      <td>0.0</td>\n",
              "      <td>1.0</td>\n",
              "      <td>0.0</td>\n",
              "      <td>0.0</td>\n",
              "      <td>0.0</td>\n",
              "    </tr>\n",
              "    <tr>\n",
              "      <th>61733</th>\n",
              "      <td>0.0</td>\n",
              "      <td>0.0</td>\n",
              "      <td>0.0</td>\n",
              "      <td>18.0</td>\n",
              "      <td>1.0</td>\n",
              "      <td>0.0</td>\n",
              "      <td>0.0</td>\n",
              "      <td>0.0</td>\n",
              "      <td>15.0</td>\n",
              "      <td>0.0</td>\n",
              "      <td>0.0</td>\n",
              "      <td>0.0</td>\n",
              "      <td>23.0</td>\n",
              "      <td>16.0</td>\n",
              "      <td>0.0</td>\n",
              "      <td>0.0</td>\n",
              "      <td>0.0</td>\n",
              "      <td>6.0</td>\n",
              "      <td>0.0</td>\n",
              "      <td>2.0</td>\n",
              "      <td>1</td>\n",
              "      <td>0</td>\n",
              "      <td>0</td>\n",
              "      <td>1</td>\n",
              "      <td>0</td>\n",
              "      <td>1</td>\n",
              "      <td>0</td>\n",
              "      <td>0</td>\n",
              "      <td>0</td>\n",
              "      <td>0</td>\n",
              "      <td>1</td>\n",
              "      <td>0</td>\n",
              "      <td>0</td>\n",
              "      <td>0</td>\n",
              "      <td>0</td>\n",
              "      <td>0</td>\n",
              "      <td>0</td>\n",
              "      <td>0</td>\n",
              "      <td>1</td>\n",
              "      <td>0</td>\n",
              "      <td>...</td>\n",
              "      <td>0.0</td>\n",
              "      <td>0.0</td>\n",
              "      <td>0.0</td>\n",
              "      <td>0.0</td>\n",
              "      <td>0.0</td>\n",
              "      <td>0.0</td>\n",
              "      <td>0.0</td>\n",
              "      <td>0.0</td>\n",
              "      <td>0.0</td>\n",
              "      <td>9.0</td>\n",
              "      <td>27.0</td>\n",
              "      <td>27.0</td>\n",
              "      <td>9.0</td>\n",
              "      <td>0.0</td>\n",
              "      <td>0.0</td>\n",
              "      <td>2.0</td>\n",
              "      <td>7.0</td>\n",
              "      <td>3.0</td>\n",
              "      <td>1.0</td>\n",
              "      <td>0.0</td>\n",
              "      <td>0.0</td>\n",
              "      <td>0.0</td>\n",
              "      <td>0.0</td>\n",
              "      <td>0.0</td>\n",
              "      <td>2.0</td>\n",
              "      <td>0.0</td>\n",
              "      <td>0.0</td>\n",
              "      <td>13.0</td>\n",
              "      <td>2.0</td>\n",
              "      <td>1.0</td>\n",
              "      <td>0.0</td>\n",
              "      <td>0.0</td>\n",
              "      <td>1.0</td>\n",
              "      <td>0.0</td>\n",
              "      <td>0.0</td>\n",
              "      <td>1.0</td>\n",
              "      <td>0.0</td>\n",
              "      <td>0.0</td>\n",
              "      <td>1.0</td>\n",
              "      <td>1.0</td>\n",
              "    </tr>\n",
              "    <tr>\n",
              "      <th>61734</th>\n",
              "      <td>0.0</td>\n",
              "      <td>3.0</td>\n",
              "      <td>0.0</td>\n",
              "      <td>0.0</td>\n",
              "      <td>0.0</td>\n",
              "      <td>0.0</td>\n",
              "      <td>0.0</td>\n",
              "      <td>2.0</td>\n",
              "      <td>0.0</td>\n",
              "      <td>0.0</td>\n",
              "      <td>0.0</td>\n",
              "      <td>2.0</td>\n",
              "      <td>0.0</td>\n",
              "      <td>0.0</td>\n",
              "      <td>0.0</td>\n",
              "      <td>0.0</td>\n",
              "      <td>0.0</td>\n",
              "      <td>0.0</td>\n",
              "      <td>0.0</td>\n",
              "      <td>0.0</td>\n",
              "      <td>0</td>\n",
              "      <td>0</td>\n",
              "      <td>0</td>\n",
              "      <td>0</td>\n",
              "      <td>0</td>\n",
              "      <td>0</td>\n",
              "      <td>1</td>\n",
              "      <td>0</td>\n",
              "      <td>0</td>\n",
              "      <td>0</td>\n",
              "      <td>0</td>\n",
              "      <td>0</td>\n",
              "      <td>0</td>\n",
              "      <td>0</td>\n",
              "      <td>1</td>\n",
              "      <td>0</td>\n",
              "      <td>0</td>\n",
              "      <td>0</td>\n",
              "      <td>0</td>\n",
              "      <td>1</td>\n",
              "      <td>...</td>\n",
              "      <td>0.0</td>\n",
              "      <td>0.0</td>\n",
              "      <td>0.0</td>\n",
              "      <td>1.0</td>\n",
              "      <td>1.0</td>\n",
              "      <td>0.0</td>\n",
              "      <td>1.0</td>\n",
              "      <td>0.0</td>\n",
              "      <td>0.0</td>\n",
              "      <td>5.0</td>\n",
              "      <td>1.0</td>\n",
              "      <td>1.0</td>\n",
              "      <td>0.0</td>\n",
              "      <td>2.0</td>\n",
              "      <td>0.0</td>\n",
              "      <td>0.0</td>\n",
              "      <td>0.0</td>\n",
              "      <td>0.0</td>\n",
              "      <td>0.0</td>\n",
              "      <td>0.0</td>\n",
              "      <td>0.0</td>\n",
              "      <td>0.0</td>\n",
              "      <td>2.0</td>\n",
              "      <td>1.0</td>\n",
              "      <td>0.0</td>\n",
              "      <td>0.0</td>\n",
              "      <td>0.0</td>\n",
              "      <td>7.0</td>\n",
              "      <td>0.0</td>\n",
              "      <td>0.0</td>\n",
              "      <td>0.0</td>\n",
              "      <td>0.0</td>\n",
              "      <td>0.0</td>\n",
              "      <td>1.0</td>\n",
              "      <td>0.0</td>\n",
              "      <td>0.0</td>\n",
              "      <td>1.0</td>\n",
              "      <td>0.0</td>\n",
              "      <td>0.0</td>\n",
              "      <td>0.0</td>\n",
              "    </tr>\n",
              "    <tr>\n",
              "      <th>61735</th>\n",
              "      <td>0.0</td>\n",
              "      <td>7.0</td>\n",
              "      <td>0.0</td>\n",
              "      <td>1.0</td>\n",
              "      <td>0.0</td>\n",
              "      <td>0.0</td>\n",
              "      <td>0.0</td>\n",
              "      <td>0.0</td>\n",
              "      <td>2.0</td>\n",
              "      <td>0.0</td>\n",
              "      <td>7.0</td>\n",
              "      <td>10.0</td>\n",
              "      <td>2.0</td>\n",
              "      <td>1.0</td>\n",
              "      <td>0.0</td>\n",
              "      <td>5.0</td>\n",
              "      <td>0.0</td>\n",
              "      <td>0.0</td>\n",
              "      <td>0.0</td>\n",
              "      <td>0.0</td>\n",
              "      <td>0</td>\n",
              "      <td>0</td>\n",
              "      <td>0</td>\n",
              "      <td>1</td>\n",
              "      <td>0</td>\n",
              "      <td>0</td>\n",
              "      <td>0</td>\n",
              "      <td>1</td>\n",
              "      <td>1</td>\n",
              "      <td>0</td>\n",
              "      <td>0</td>\n",
              "      <td>0</td>\n",
              "      <td>0</td>\n",
              "      <td>0</td>\n",
              "      <td>1</td>\n",
              "      <td>0</td>\n",
              "      <td>1</td>\n",
              "      <td>0</td>\n",
              "      <td>0</td>\n",
              "      <td>0</td>\n",
              "      <td>...</td>\n",
              "      <td>1.0</td>\n",
              "      <td>0.0</td>\n",
              "      <td>1.0</td>\n",
              "      <td>0.0</td>\n",
              "      <td>0.0</td>\n",
              "      <td>1.0</td>\n",
              "      <td>1.0</td>\n",
              "      <td>1.0</td>\n",
              "      <td>1.0</td>\n",
              "      <td>8.0</td>\n",
              "      <td>8.0</td>\n",
              "      <td>8.0</td>\n",
              "      <td>3.0</td>\n",
              "      <td>6.0</td>\n",
              "      <td>1.0</td>\n",
              "      <td>0.0</td>\n",
              "      <td>6.0</td>\n",
              "      <td>0.0</td>\n",
              "      <td>0.0</td>\n",
              "      <td>0.0</td>\n",
              "      <td>0.0</td>\n",
              "      <td>0.0</td>\n",
              "      <td>6.0</td>\n",
              "      <td>5.0</td>\n",
              "      <td>1.0</td>\n",
              "      <td>0.0</td>\n",
              "      <td>1.0</td>\n",
              "      <td>17.0</td>\n",
              "      <td>0.0</td>\n",
              "      <td>1.0</td>\n",
              "      <td>1.0</td>\n",
              "      <td>0.0</td>\n",
              "      <td>0.0</td>\n",
              "      <td>1.0</td>\n",
              "      <td>0.0</td>\n",
              "      <td>1.0</td>\n",
              "      <td>1.0</td>\n",
              "      <td>0.0</td>\n",
              "      <td>0.0</td>\n",
              "      <td>0.0</td>\n",
              "    </tr>\n",
              "  </tbody>\n",
              "</table>\n",
              "<p>61736 rows × 179 columns</p>\n",
              "</div>"
            ],
            "text/plain": [
              "       APC2D2_N_O  APC2D1_C_N  APC2D1_O_S  ...  SubFP135  SubFP287  SubFP137\n",
              "0             0.0         0.0         0.0  ...       0.0       1.0       0.0\n",
              "1             4.0         3.0         0.0  ...       0.0       0.0       0.0\n",
              "2             1.0         4.0         0.0  ...       0.0       0.0       0.0\n",
              "3             0.0         3.0         0.0  ...       0.0       0.0       0.0\n",
              "4             0.0         5.0         0.0  ...       0.0       0.0       0.0\n",
              "...           ...         ...         ...  ...       ...       ...       ...\n",
              "61731         0.0         6.0         0.0  ...       0.0       0.0       0.0\n",
              "61732         0.0         3.0         0.0  ...       0.0       0.0       0.0\n",
              "61733         0.0         0.0         0.0  ...       0.0       1.0       1.0\n",
              "61734         0.0         3.0         0.0  ...       0.0       0.0       0.0\n",
              "61735         0.0         7.0         0.0  ...       0.0       0.0       0.0\n",
              "\n",
              "[61736 rows x 179 columns]"
            ]
          },
          "metadata": {},
          "execution_count": 49
        }
      ]
    },
    {
      "cell_type": "markdown",
      "metadata": {
        "id": "cHNM1DoHCFp6"
      },
      "source": [
        "### **Machine learning models**\n",
        "We testet four classifiers: \n",
        "* Logistic Regression \n",
        "* Random Forest \n",
        "* Xboost \n",
        "* Support vector machine"
      ]
    },
    {
      "cell_type": "markdown",
      "metadata": {
        "id": "P1TAZPlHQttM"
      },
      "source": [
        "#### **Individual datasets and low variance descriptors**"
      ]
    },
    {
      "cell_type": "code",
      "metadata": {
        "id": "-ogXLxrQJSv3"
      },
      "source": [
        "y = df4.pchembl_bin"
      ],
      "execution_count": 67,
      "outputs": []
    },
    {
      "cell_type": "code",
      "metadata": {
        "id": "hvbHMPElJLvX"
      },
      "source": [
        "X_train, X_test, y_train, y_test = train_test_split(corr_feat_target, y, test_size=0.2, random_state=42)"
      ],
      "execution_count": 56,
      "outputs": []
    },
    {
      "cell_type": "code",
      "metadata": {
        "colab": {
          "base_uri": "https://localhost:8080/"
        },
        "id": "FGT0SE1rKu04",
        "outputId": "2c053aab-2d33-4280-a8b9-644e2eb09b6c"
      },
      "source": [
        "model = RandomForestClassifier(n_estimators=500, random_state=42)\n",
        "model.fit(X_train, y_train)"
      ],
      "execution_count": 57,
      "outputs": [
        {
          "output_type": "execute_result",
          "data": {
            "text/plain": [
              "RandomForestClassifier(n_estimators=500, random_state=42)"
            ]
          },
          "metadata": {},
          "execution_count": 57
        }
      ]
    },
    {
      "cell_type": "code",
      "metadata": {
        "id": "ZCCxbUaxKvTV"
      },
      "source": [
        "y_train_pred = model.predict(X_train)\n",
        "y_test_pred = model.predict(X_test)"
      ],
      "execution_count": 58,
      "outputs": []
    },
    {
      "cell_type": "code",
      "metadata": {
        "colab": {
          "base_uri": "https://localhost:8080/"
        },
        "id": "MsYHO0FkK1kU",
        "outputId": "c5f097d1-53b6-4d0c-9e47-52315fd1e97b"
      },
      "source": [
        "mcc_train = matthews_corrcoef(y_train, y_train_pred)\n",
        "mcc_train"
      ],
      "execution_count": 59,
      "outputs": [
        {
          "output_type": "execute_result",
          "data": {
            "text/plain": [
              "0.9953368477237589"
            ]
          },
          "metadata": {},
          "execution_count": 59
        }
      ]
    },
    {
      "cell_type": "code",
      "metadata": {
        "colab": {
          "base_uri": "https://localhost:8080/"
        },
        "id": "hQ5WnzLlK1vk",
        "outputId": "e838c73a-a693-4a8d-d493-2086bb15a4fd"
      },
      "source": [
        "mcc_test = matthews_corrcoef(y_test, y_test_pred)\n",
        "mcc_test"
      ],
      "execution_count": 60,
      "outputs": [
        {
          "output_type": "execute_result",
          "data": {
            "text/plain": [
              "0.07386353093202347"
            ]
          },
          "metadata": {},
          "execution_count": 60
        }
      ]
    },
    {
      "cell_type": "code",
      "metadata": {
        "colab": {
          "base_uri": "https://localhost:8080/"
        },
        "id": "_ZqUNvKYJCPx",
        "outputId": "5cc3036d-50ee-44d5-9bb3-8766dc116aed"
      },
      "source": [
        "from sklearn.model_selection import cross_val_score\n",
        "rf = RandomForestClassifier(n_estimators=500, random_state=42)\n",
        "cv_scores = cross_val_score(rf, X_train, y_train, cv=5, scoring=\"accuracy\")\n",
        "cv_scores"
      ],
      "execution_count": 61,
      "outputs": [
        {
          "output_type": "execute_result",
          "data": {
            "text/plain": [
              "array([0.5372545 , 0.53533104, 0.54170885, 0.53467652, 0.53660018])"
            ]
          },
          "metadata": {},
          "execution_count": 61
        }
      ]
    },
    {
      "cell_type": "code",
      "metadata": {
        "id": "tecVhEWrOxcJ",
        "colab": {
          "base_uri": "https://localhost:8080/"
        },
        "outputId": "301decfc-2c57-4b2e-f758-4d32e27f4fb1"
      },
      "source": [
        "mcc_cv = cv_scores.mean()\n",
        "mcc_cv"
      ],
      "execution_count": 62,
      "outputs": [
        {
          "output_type": "execute_result",
          "data": {
            "text/plain": [
              "0.5371142190059416"
            ]
          },
          "metadata": {},
          "execution_count": 62
        }
      ]
    },
    {
      "cell_type": "code",
      "metadata": {
        "colab": {
          "base_uri": "https://localhost:8080/",
          "height": 81
        },
        "id": "m8ztarPHJj7z",
        "outputId": "b9e58171-8cd8-4039-a632-6aae1b49c560"
      },
      "source": [
        "model_name = pd.Series(['Random forest'], name='Name')\n",
        "mcc_train_series = pd.Series(mcc_train, name='MCC_train')\n",
        "mcc_cv_series = pd.Series(mcc_cv, name='MCC_cv')\n",
        "mcc_test_series = pd.Series(mcc_test, name='MCC_test')\n",
        "\n",
        "performance_metrics = pd.concat([model_name, mcc_train_series, mcc_cv_series, mcc_test_series], axis=1)\n",
        "performance_metrics"
      ],
      "execution_count": 81,
      "outputs": [
        {
          "output_type": "execute_result",
          "data": {
            "text/html": [
              "<div>\n",
              "<style scoped>\n",
              "    .dataframe tbody tr th:only-of-type {\n",
              "        vertical-align: middle;\n",
              "    }\n",
              "\n",
              "    .dataframe tbody tr th {\n",
              "        vertical-align: top;\n",
              "    }\n",
              "\n",
              "    .dataframe thead th {\n",
              "        text-align: right;\n",
              "    }\n",
              "</style>\n",
              "<table border=\"1\" class=\"dataframe\">\n",
              "  <thead>\n",
              "    <tr style=\"text-align: right;\">\n",
              "      <th></th>\n",
              "      <th>Name</th>\n",
              "      <th>MCC_train</th>\n",
              "      <th>MCC_cv</th>\n",
              "      <th>MCC_test</th>\n",
              "    </tr>\n",
              "  </thead>\n",
              "  <tbody>\n",
              "    <tr>\n",
              "      <th>0</th>\n",
              "      <td>Random forest</td>\n",
              "      <td>0.996594</td>\n",
              "      <td>0.53839</td>\n",
              "      <td>0.06529</td>\n",
              "    </tr>\n",
              "  </tbody>\n",
              "</table>\n",
              "</div>"
            ],
            "text/plain": [
              "            Name  MCC_train   MCC_cv  MCC_test\n",
              "0  Random forest   0.996594  0.53839   0.06529"
            ]
          },
          "metadata": {},
          "execution_count": 81
        }
      ]
    },
    {
      "cell_type": "code",
      "metadata": {
        "colab": {
          "base_uri": "https://localhost:8080/"
        },
        "id": "M35iHdVm-Jmb",
        "outputId": "ab441cd3-995a-44db-b6d2-a413e78deb78"
      },
      "source": [
        "# Logisic regression \n",
        "results = pd.DataFrame(columns=['Dataset', 'Model', 'ROC_AUC_cv', 'ROC_AUC_test',\n",
        "                                'Accuracy_cv', 'Accuracy_test', 'Precision_cv', \n",
        "                                'Precison_test', 'Recall_cv', 'Recall_test', \n",
        "                                'F1score_cv', 'F1score_test'])\n",
        "\n",
        "for i, j in low_var_descriptors.items():\n",
        "\n",
        "    # Data splitting \n",
        "    X_train, X_test, y_train, y_test = train_test_split(j, y, test_size=0.2, \n",
        "                                                        random_state=42)\n",
        "\n",
        "    # Set the parameters by cross-validation\n",
        "    tuned_parameters_log_reg = [\n",
        "        {\"penalty\": [\"l1\"], \"solver\": [\"saga\"], \"C\": [0.01, 0.1, 1, 10, 100], \n",
        "        \"max_iter\": [1000], \"n_jobs\":[-1], \"random_state\": [10]}\n",
        "    ]\n",
        "\n",
        "    print(f'# Tuning hyper-parameters Log reg {i}')\n",
        "    print()\n",
        "\n",
        "    scoring = {\"AUC\": \"roc_auc\", \"Accuracy\": \"accuracy\", \n",
        "               \"Precision\": \"precision\", \"Recall\": \"recall\", \n",
        "               \"F1score\": \"f1\"}\n",
        "\n",
        "    logreg = GridSearchCV(LogisticRegression(), tuned_parameters_log_reg, \n",
        "                          scoring=scoring, cv=3, refit=\"AUC\", \n",
        "                          return_train_score=True)\n",
        "    logreg.fit(X_train, y_train)\n",
        "\n",
        "    print(\"Best parameters set found on development set:\")\n",
        "    print()\n",
        "    print(logreg.best_params_)\n",
        "    print(logreg.best_score_)\n",
        "    \n",
        "    roc_auc_cv = max(logreg.cv_results_[\"mean_test_AUC\"])\n",
        "    \n",
        "    roc_auc_test = roc_auc_score(y_test, logreg.predict(X_test))\n",
        "\n",
        "    acc_cv = max(logreg.cv_results_[\"mean_test_Accuracy\"])\n",
        "    \n",
        "    acc_test = accuracy_score(y_test, logreg.predict(X_test))\n",
        "\n",
        "    prec_cv = max(logreg.cv_results_[\"mean_test_Precision\"])\n",
        "    \n",
        "    prec_test = precision_score(y_test, logreg.predict(X_test))\n",
        "\n",
        "    recall_cv = max(logreg.cv_results_[\"mean_test_Recall\"])\n",
        "    \n",
        "    recall_test = recall_score(y_test, logreg.predict(X_test))\n",
        "\n",
        "    f1score_cv = max(logreg.cv_results_[\"mean_test_F1score\"])\n",
        "    \n",
        "    f1score_test = f1_score(y_test, logreg.predict(X_test))\n",
        "\n",
        "    results = results.append({'Dataset': i, 'Model': 'LogReg', 'ROC_AUC_cv': roc_auc_cv_logreg,\n",
        "                              'ROC_AUC_test': roc_auc_test_logreg, 'Accuracy_cv': acc_cv, \n",
        "                              'Accuracy_test': acc_test, 'Precision_cv':prec_cv, \n",
        "                              'Precison_test': prec_test, 'Recall_cv': recall_cv, \n",
        "                              'Recall_test': recall_test, 'F1score_cv': f1score_cv, \n",
        "                              'F1score_test': f1score_test}, ignore_index=True)"
      ],
      "execution_count": null,
      "outputs": [
        {
          "output_type": "stream",
          "name": "stdout",
          "text": [
            "# Tuning hyper-parameters Log reg AtomPairs2DCount\n",
            "\n"
          ]
        }
      ]
    },
    {
      "cell_type": "code",
      "metadata": {
        "id": "cc3eXz7uY3ZQ",
        "colab": {
          "base_uri": "https://localhost:8080/"
        },
        "outputId": "f0b67ad9-c63b-43d2-de52-be175d75b628"
      },
      "source": [
        "for i, j in low_var_descriptors.items():\n",
        "\n",
        "    # Data splitting \n",
        "    X_train, X_test, y_train, y_test = train_test_split(j, y, test_size=0.2, random_state=42)\n",
        "\n",
        "    # Set the parameters by cross-validation\n",
        "    tuned_parameters_rf = [\n",
        "        {\"max_depth\": [10, 20, 30, 50], \"n_estimators\": [10, 30, 50, 100, 200], \n",
        "          \"n_jobs\":[-1], \"random_state\": [10]}\n",
        "    ]\n",
        "\n",
        "    print(f'# Tuning hyper-parameters Random Forest {i}')\n",
        "    print()\n",
        "\n",
        "    rf = GridSearchCV(RandomForestClassifier(), tuned_parameters_rf, scoring=\"roc_auc\", cv=3)\n",
        "    rf.fit(X_train, y_train)\n",
        "\n",
        "    print(\"Best parameters set found on development set:\")\n",
        "    print()\n",
        "    print(rf.best_params_)\n",
        "\n",
        "    roc_auc_cv_rf = rf.best_score_\n",
        "\n",
        "    roc_auc_test_rf = roc_auc_score(y_test, rf.predict(X_test))\n",
        "\n",
        "    results = results.append({'Dataset': i, 'Model': 'RandomForest', 'ROC_AUC_cv': round(roc_auc_cv_rf,3),\n",
        "                              'ROC_AUC_test': round(roc_auc_test_rf,3)}, ignore_index=True)"
      ],
      "execution_count": 65,
      "outputs": [
        {
          "output_type": "stream",
          "name": "stdout",
          "text": [
            "# Tuning hyper-parameters Random Forest AtomPairs2DCount\n",
            "\n",
            "Best parameters set found on development set:\n",
            "\n",
            "{'max_depth': 30, 'n_estimators': 200, 'n_jobs': -1, 'random_state': 10}\n",
            "# Tuning hyper-parameters Random Forest AtomPairs2D\n",
            "\n",
            "Best parameters set found on development set:\n",
            "\n",
            "{'max_depth': 10, 'n_estimators': 200, 'n_jobs': -1, 'random_state': 10}\n",
            "# Tuning hyper-parameters Random Forest EState\n",
            "\n",
            "Best parameters set found on development set:\n",
            "\n",
            "{'max_depth': 10, 'n_estimators': 30, 'n_jobs': -1, 'random_state': 10}\n",
            "# Tuning hyper-parameters Random Forest CDKextended\n",
            "\n",
            "Best parameters set found on development set:\n",
            "\n",
            "{'max_depth': 10, 'n_estimators': 200, 'n_jobs': -1, 'random_state': 10}\n",
            "# Tuning hyper-parameters Random Forest CDK\n",
            "\n",
            "Best parameters set found on development set:\n",
            "\n",
            "{'max_depth': 10, 'n_estimators': 200, 'n_jobs': -1, 'random_state': 10}\n",
            "# Tuning hyper-parameters Random Forest CDKgraphonly\n",
            "\n",
            "Best parameters set found on development set:\n",
            "\n",
            "{'max_depth': 10, 'n_estimators': 200, 'n_jobs': -1, 'random_state': 10}\n",
            "# Tuning hyper-parameters Random Forest MACCS\n",
            "\n",
            "Best parameters set found on development set:\n",
            "\n",
            "{'max_depth': 10, 'n_estimators': 200, 'n_jobs': -1, 'random_state': 10}\n",
            "# Tuning hyper-parameters Random Forest PubChem\n",
            "\n",
            "Best parameters set found on development set:\n",
            "\n",
            "{'max_depth': 10, 'n_estimators': 200, 'n_jobs': -1, 'random_state': 10}\n",
            "# Tuning hyper-parameters Random Forest SubstructureCount\n",
            "\n",
            "Best parameters set found on development set:\n",
            "\n",
            "{'max_depth': 20, 'n_estimators': 200, 'n_jobs': -1, 'random_state': 10}\n",
            "# Tuning hyper-parameters Random Forest Substructure\n",
            "\n",
            "Best parameters set found on development set:\n",
            "\n",
            "{'max_depth': 10, 'n_estimators': 30, 'n_jobs': -1, 'random_state': 10}\n"
          ]
        }
      ]
    },
    {
      "cell_type": "code",
      "metadata": {
        "colab": {
          "base_uri": "https://localhost:8080/",
          "height": 168
        },
        "id": "X25xKohB3nnw",
        "outputId": "1af3d4c0-0316-4d76-b2ac-6b9fef9978f7"
      },
      "source": [
        "results"
      ],
      "execution_count": 65,
      "outputs": [
        {
          "output_type": "error",
          "ename": "NameError",
          "evalue": "ignored",
          "traceback": [
            "\u001b[0;31m---------------------------------------------------------------------------\u001b[0m",
            "\u001b[0;31mNameError\u001b[0m                                 Traceback (most recent call last)",
            "\u001b[0;32m<ipython-input-65-100f62972f2f>\u001b[0m in \u001b[0;36m<module>\u001b[0;34m()\u001b[0m\n\u001b[0;32m----> 1\u001b[0;31m \u001b[0mresults\u001b[0m\u001b[0;34m\u001b[0m\u001b[0;34m\u001b[0m\u001b[0m\n\u001b[0m",
            "\u001b[0;31mNameError\u001b[0m: name 'results' is not defined"
          ]
        }
      ]
    },
    {
      "cell_type": "code",
      "metadata": {
        "id": "e5RxRZboRZ2Y"
      },
      "source": [
        "for i, j in low_var_descriptors.items():\n",
        "\n",
        "    # Data splitting \n",
        "    X_train, X_test, y_train, y_test = train_test_split(j, y, test_size=0.2, random_state=42)\n",
        "\n",
        "    # Set the parameters by cross-validation\n",
        "    tuned_parameters = [\n",
        "        {\"penalty\": [\"l1\"], \"solver\": [\"saga\"], \"C\": [0.01, 0.1, 1, 10], \n",
        "        \"max_iter\": [1000], \"n_jobs\":[-1], \"random_state\": [10]}\n",
        "    ]\n",
        "\n",
        "    print(\"# Tuning hyper-parameters\")\n",
        "    print()\n",
        "\n",
        "    clf = GridSearchCV(LogisticRegression(), tuned_parameters, scoring=\"roc_auc\", cv=3)\n",
        "    clf.fit(X_train, y_train)\n",
        "\n",
        "    print(\"Best parameters set found on development set:\")\n",
        "    print()\n",
        "    print(clf.best_params_)\n",
        "    \n",
        "    roc_auc_cv = clf.best_score_\n",
        "\n",
        "    roc_auc_test = roc_auc_score(y_test, clf.predict(X_test))\n",
        "\n",
        "    dataset = pd.Series([], name=i)\n",
        "    model_name = pd.Series(['Logistic regression'], name='Name')\n",
        "    mcc_cv_series = pd.Series(clf.best_score_, name='ROC_AUC_cv')\n",
        "    mcc_test_series = pd.Series(roc_auc_test, name='ROC_AUC_test')\n",
        "\n",
        "    performance_metrics = pd.concat([dataset, model_name, mcc_train_series, mcc_cv_series, mcc_test_series], axis=1)"
      ],
      "execution_count": null,
      "outputs": []
    },
    {
      "cell_type": "code",
      "metadata": {
        "colab": {
          "base_uri": "https://localhost:8080/"
        },
        "id": "8aWJz-KXLyKt",
        "outputId": "1f66e3e4-88b0-4b7e-dea3-e99709123f38"
      },
      "source": [
        "clf.best_score_"
      ],
      "execution_count": null,
      "outputs": [
        {
          "output_type": "execute_result",
          "data": {
            "text/plain": [
              "0.5237671211196194"
            ]
          },
          "metadata": {},
          "execution_count": 52
        }
      ]
    },
    {
      "cell_type": "code",
      "metadata": {
        "id": "14UxEuKGB4yD"
      },
      "source": [
        ""
      ],
      "execution_count": null,
      "outputs": []
    },
    {
      "cell_type": "code",
      "metadata": {
        "id": "hKl58VK_B45x"
      },
      "source": [
        ""
      ],
      "execution_count": null,
      "outputs": []
    },
    {
      "cell_type": "code",
      "metadata": {
        "id": "HNTk6hsv33X2"
      },
      "source": [
        ""
      ],
      "execution_count": null,
      "outputs": []
    },
    {
      "cell_type": "markdown",
      "metadata": {
        "id": "iR8AHuQMOuUT"
      },
      "source": [
        "Some ideas:\n",
        "\n",
        "* Create a jupyter notebook with EDA of these dataset, then apply paddle software to calculate molecular fingerprints \n",
        "* Explore stratification of the dataset by the bioactivity class, take the pCHEMBL values, apply a threshold, assign categories based on activity, and perform EDA comparing the three groups in terms of molecular fingerprints distribution of histogram of pCHEMBL values, molecular weights, solubility, among others.\n",
        "* The ML models can be regression, multitask classification or binary classification\n",
        "* It is possible to convert molecules to a graph and apply DL algorithms "
      ]
    }
  ]
}