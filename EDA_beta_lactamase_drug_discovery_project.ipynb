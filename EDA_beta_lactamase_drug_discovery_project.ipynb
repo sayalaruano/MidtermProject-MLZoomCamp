{
  "cells": [
    {
      "cell_type": "markdown",
      "metadata": {
        "id": "uOXYIR2P5bUi"
      },
      "source": [
        "# **EDA of Beta-Lactamases drug discovery project**\n",
        "\n",
        "Sebastián Ayala Ruano\n",
        "\n",
        "This [video](https://youtu.be/_GtEgiWWyK4) has more information about the project and how to collaborate in it."
      ]
    },
    {
      "cell_type": "markdown",
      "metadata": {},
      "source": [
        "## **Imports and data obtention**"
      ]
    },
    {
      "cell_type": "code",
      "execution_count": 115,
      "metadata": {},
      "outputs": [],
      "source": [
        "# Import libraries\n",
        "import zipfile\n",
        "import pandas as pd\n",
        "import numpy as np\n",
        "import matplotlib.pyplot as plt\n",
        "import glob\n",
        "from padelpy import padeldescriptor\n",
        "from scipy.stats import mannwhitneyu\n",
        "from sklearn.feature_selection import VarianceThreshold"
      ]
    },
    {
      "cell_type": "code",
      "execution_count": 5,
      "metadata": {
        "colab": {
          "base_uri": "https://localhost:8080/"
        },
        "id": "qsH_hHB45UCK",
        "outputId": "5be383fe-fb41-4038-ac70-dd2e56248de1"
      },
      "outputs": [
        {
          "name": "stdout",
          "output_type": "stream",
          "text": [
            "--2021-10-22 16:49:42--  https://github.com/dataprofessor/beta-lactamase/raw/main/beta_lactamase_CHEMBL29.zip\n",
            "Resolving github.com (github.com)... 140.82.114.4\n",
            "Connecting to github.com (github.com)|140.82.114.4|:443... connected.\n",
            "HTTP request sent, awaiting response... 302 Found\n",
            "Location: https://raw.githubusercontent.com/dataprofessor/beta-lactamase/main/beta_lactamase_CHEMBL29.zip [following]\n",
            "--2021-10-22 16:49:43--  https://raw.githubusercontent.com/dataprofessor/beta-lactamase/main/beta_lactamase_CHEMBL29.zip\n",
            "Resolving raw.githubusercontent.com (raw.githubusercontent.com)... 185.199.108.133, 185.199.109.133, 185.199.110.133, ...\n",
            "Connecting to raw.githubusercontent.com (raw.githubusercontent.com)|185.199.108.133|:443... connected.\n",
            "HTTP request sent, awaiting response... 200 OK\n",
            "Length: 1416390 (1.4M) [application/zip]\n",
            "Saving to: ‘./Data/beta_lactamase_CHEMBL29.zip’\n",
            "\n",
            "beta_lactamase_CHEM 100%[===================>]   1.35M  3.69MB/s    in 0.4s    \n",
            "\n",
            "2021-10-22 16:49:43 (3.69 MB/s) - ‘./Data/beta_lactamase_CHEMBL29.zip’ saved [1416390/1416390]\n",
            "\n"
          ]
        }
      ],
      "source": [
        "# Download data\n",
        "! mkdir Data \n",
        "! wget https://github.com/dataprofessor/beta-lactamase/raw/main/beta_lactamase_CHEMBL29.zip --directory ./Data"
      ]
    },
    {
      "cell_type": "code",
      "execution_count": 3,
      "metadata": {
        "id": "rcSbHGZf96Er"
      },
      "outputs": [],
      "source": [
        "# Concatenate all cv files from zip file into a single unified dataframe\n",
        "zf = zipfile.ZipFile(\"Data/beta_lactamase_CHEMBL29.zip\", \"r\")\n",
        "df = pd.concat( (pd.read_csv( zf.open(f) ) for f in zf.namelist() ) )"
      ]
    },
    {
      "cell_type": "code",
      "execution_count": 4,
      "metadata": {
        "colab": {
          "base_uri": "https://localhost:8080/",
          "height": 694
        },
        "id": "IOKQXs0H7MkY",
        "outputId": "3de694bf-ef50-4bf3-aaab-a7ab67e25b43"
      },
      "outputs": [
        {
          "data": {
            "text/html": [
              "<div>\n",
              "<style scoped>\n",
              "    .dataframe tbody tr th:only-of-type {\n",
              "        vertical-align: middle;\n",
              "    }\n",
              "\n",
              "    .dataframe tbody tr th {\n",
              "        vertical-align: top;\n",
              "    }\n",
              "\n",
              "    .dataframe thead th {\n",
              "        text-align: right;\n",
              "    }\n",
              "</style>\n",
              "<table border=\"1\" class=\"dataframe\">\n",
              "  <thead>\n",
              "    <tr style=\"text-align: right;\">\n",
              "      <th></th>\n",
              "      <th>molecule_chembl_id</th>\n",
              "      <th>canonical_smiles</th>\n",
              "      <th>standard_relation</th>\n",
              "      <th>standard_value</th>\n",
              "      <th>standard_units</th>\n",
              "      <th>standard_type</th>\n",
              "      <th>pchembl_value</th>\n",
              "      <th>target_pref_name</th>\n",
              "      <th>bao_label</th>\n",
              "    </tr>\n",
              "  </thead>\n",
              "  <tbody>\n",
              "    <tr>\n",
              "      <th>0</th>\n",
              "      <td>CHEMBL1730</td>\n",
              "      <td>CO/N=C(\\C(=O)N[C@@H]1C(=O)N2C(C(=O)O)=C(COC(C)...</td>\n",
              "      <td>=</td>\n",
              "      <td>10.0</td>\n",
              "      <td>/mM/s</td>\n",
              "      <td>Kcat/Km</td>\n",
              "      <td>NaN</td>\n",
              "      <td>Gil1</td>\n",
              "      <td>assay format</td>\n",
              "    </tr>\n",
              "    <tr>\n",
              "      <th>1</th>\n",
              "      <td>CHEMBL996</td>\n",
              "      <td>CO[C@@]1(NC(=O)Cc2cccs2)C(=O)N2C(C(=O)O)=C(COC...</td>\n",
              "      <td>NaN</td>\n",
              "      <td>NaN</td>\n",
              "      <td>NaN</td>\n",
              "      <td>Kcat/Km</td>\n",
              "      <td>NaN</td>\n",
              "      <td>Gil1</td>\n",
              "      <td>assay format</td>\n",
              "    </tr>\n",
              "    <tr>\n",
              "      <th>2</th>\n",
              "      <td>CHEMBL617</td>\n",
              "      <td>CC(=O)OCC1=C(C(=O)O)N2C(=O)[C@@H](NC(=O)Cc3ccc...</td>\n",
              "      <td>=</td>\n",
              "      <td>598.0</td>\n",
              "      <td>/mM/s</td>\n",
              "      <td>Kcat/Km</td>\n",
              "      <td>NaN</td>\n",
              "      <td>Gil1</td>\n",
              "      <td>assay format</td>\n",
              "    </tr>\n",
              "    <tr>\n",
              "      <th>3</th>\n",
              "      <td>CHEMBL702</td>\n",
              "      <td>CCN1CCN(C(=O)N[C@@H](C(=O)N[C@@H]2C(=O)N3[C@@H...</td>\n",
              "      <td>=</td>\n",
              "      <td>3400.0</td>\n",
              "      <td>/mM/s</td>\n",
              "      <td>Kcat/Km</td>\n",
              "      <td>NaN</td>\n",
              "      <td>Gil1</td>\n",
              "      <td>assay format</td>\n",
              "    </tr>\n",
              "    <tr>\n",
              "      <th>4</th>\n",
              "      <td>CHEMBL1449</td>\n",
              "      <td>CC1(C)S[C@@H]2[C@H](NC(=O)[C@H](C(=O)O)c3ccsc3...</td>\n",
              "      <td>=</td>\n",
              "      <td>10000.0</td>\n",
              "      <td>/mM/s</td>\n",
              "      <td>Kcat/Km</td>\n",
              "      <td>NaN</td>\n",
              "      <td>Gil1</td>\n",
              "      <td>assay format</td>\n",
              "    </tr>\n",
              "    <tr>\n",
              "      <th>...</th>\n",
              "      <td>...</td>\n",
              "      <td>...</td>\n",
              "      <td>...</td>\n",
              "      <td>...</td>\n",
              "      <td>...</td>\n",
              "      <td>...</td>\n",
              "      <td>...</td>\n",
              "      <td>...</td>\n",
              "      <td>...</td>\n",
              "    </tr>\n",
              "    <tr>\n",
              "      <th>13</th>\n",
              "      <td>CHEMBL561555</td>\n",
              "      <td>COC(=O)CC(N)(CC(=O)OC)C(=O)OCc1ccccc1</td>\n",
              "      <td>NaN</td>\n",
              "      <td>NaN</td>\n",
              "      <td>NaN</td>\n",
              "      <td>Inhibition</td>\n",
              "      <td>NaN</td>\n",
              "      <td>Beta-lactamase VIM-4</td>\n",
              "      <td>single protein format</td>\n",
              "    </tr>\n",
              "    <tr>\n",
              "      <th>14</th>\n",
              "      <td>CHEMBL561821</td>\n",
              "      <td>NC(CC(=O)OCc1ccccc1)(CC(=O)OCc1ccccc1)C(=O)OCc...</td>\n",
              "      <td>NaN</td>\n",
              "      <td>NaN</td>\n",
              "      <td>NaN</td>\n",
              "      <td>Inhibition</td>\n",
              "      <td>NaN</td>\n",
              "      <td>Beta-lactamase VIM-4</td>\n",
              "      <td>single protein format</td>\n",
              "    </tr>\n",
              "    <tr>\n",
              "      <th>15</th>\n",
              "      <td>CHEMBL561896</td>\n",
              "      <td>COC(=O)CC(CC(=O)OC)(NC(=O)Cc1ccccc1)C(=O)OC</td>\n",
              "      <td>NaN</td>\n",
              "      <td>NaN</td>\n",
              "      <td>NaN</td>\n",
              "      <td>Inhibition</td>\n",
              "      <td>NaN</td>\n",
              "      <td>Beta-lactamase VIM-4</td>\n",
              "      <td>single protein format</td>\n",
              "    </tr>\n",
              "    <tr>\n",
              "      <th>16</th>\n",
              "      <td>CHEMBL563044</td>\n",
              "      <td>COC(=O)C(CC(=O)OCc1ccccc1)(CC(=O)OCc1ccccc1)NC...</td>\n",
              "      <td>NaN</td>\n",
              "      <td>NaN</td>\n",
              "      <td>NaN</td>\n",
              "      <td>Inhibition</td>\n",
              "      <td>NaN</td>\n",
              "      <td>Beta-lactamase VIM-4</td>\n",
              "      <td>single protein format</td>\n",
              "    </tr>\n",
              "    <tr>\n",
              "      <th>17</th>\n",
              "      <td>CHEMBL553476</td>\n",
              "      <td>O=C(COc1ccccc1)NC(CC(=O)OCc1ccccc1)(CC(=O)OCc1...</td>\n",
              "      <td>NaN</td>\n",
              "      <td>NaN</td>\n",
              "      <td>NaN</td>\n",
              "      <td>Inhibition</td>\n",
              "      <td>NaN</td>\n",
              "      <td>Beta-lactamase VIM-4</td>\n",
              "      <td>single protein format</td>\n",
              "    </tr>\n",
              "  </tbody>\n",
              "</table>\n",
              "<p>71973 rows × 9 columns</p>\n",
              "</div>"
            ],
            "text/plain": [
              "   molecule_chembl_id                                   canonical_smiles  \\\n",
              "0          CHEMBL1730  CO/N=C(\\C(=O)N[C@@H]1C(=O)N2C(C(=O)O)=C(COC(C)...   \n",
              "1           CHEMBL996  CO[C@@]1(NC(=O)Cc2cccs2)C(=O)N2C(C(=O)O)=C(COC...   \n",
              "2           CHEMBL617  CC(=O)OCC1=C(C(=O)O)N2C(=O)[C@@H](NC(=O)Cc3ccc...   \n",
              "3           CHEMBL702  CCN1CCN(C(=O)N[C@@H](C(=O)N[C@@H]2C(=O)N3[C@@H...   \n",
              "4          CHEMBL1449  CC1(C)S[C@@H]2[C@H](NC(=O)[C@H](C(=O)O)c3ccsc3...   \n",
              "..                ...                                                ...   \n",
              "13       CHEMBL561555              COC(=O)CC(N)(CC(=O)OC)C(=O)OCc1ccccc1   \n",
              "14       CHEMBL561821  NC(CC(=O)OCc1ccccc1)(CC(=O)OCc1ccccc1)C(=O)OCc...   \n",
              "15       CHEMBL561896        COC(=O)CC(CC(=O)OC)(NC(=O)Cc1ccccc1)C(=O)OC   \n",
              "16       CHEMBL563044  COC(=O)C(CC(=O)OCc1ccccc1)(CC(=O)OCc1ccccc1)NC...   \n",
              "17       CHEMBL553476  O=C(COc1ccccc1)NC(CC(=O)OCc1ccccc1)(CC(=O)OCc1...   \n",
              "\n",
              "   standard_relation  standard_value standard_units standard_type  \\\n",
              "0                  =            10.0          /mM/s       Kcat/Km   \n",
              "1                NaN             NaN            NaN       Kcat/Km   \n",
              "2                  =           598.0          /mM/s       Kcat/Km   \n",
              "3                  =          3400.0          /mM/s       Kcat/Km   \n",
              "4                  =         10000.0          /mM/s       Kcat/Km   \n",
              "..               ...             ...            ...           ...   \n",
              "13               NaN             NaN            NaN    Inhibition   \n",
              "14               NaN             NaN            NaN    Inhibition   \n",
              "15               NaN             NaN            NaN    Inhibition   \n",
              "16               NaN             NaN            NaN    Inhibition   \n",
              "17               NaN             NaN            NaN    Inhibition   \n",
              "\n",
              "    pchembl_value      target_pref_name              bao_label  \n",
              "0             NaN                  Gil1           assay format  \n",
              "1             NaN                  Gil1           assay format  \n",
              "2             NaN                  Gil1           assay format  \n",
              "3             NaN                  Gil1           assay format  \n",
              "4             NaN                  Gil1           assay format  \n",
              "..            ...                   ...                    ...  \n",
              "13            NaN  Beta-lactamase VIM-4  single protein format  \n",
              "14            NaN  Beta-lactamase VIM-4  single protein format  \n",
              "15            NaN  Beta-lactamase VIM-4  single protein format  \n",
              "16            NaN  Beta-lactamase VIM-4  single protein format  \n",
              "17            NaN  Beta-lactamase VIM-4  single protein format  \n",
              "\n",
              "[71973 rows x 9 columns]"
            ]
          },
          "execution_count": 4,
          "metadata": {},
          "output_type": "execute_result"
        }
      ],
      "source": [
        "# Take a look at the dataframe\n",
        "df"
      ]
    },
    {
      "cell_type": "markdown",
      "metadata": {},
      "source": [
        "## **Exploratory Data Analysis**"
      ]
    },
    {
      "cell_type": "code",
      "execution_count": 26,
      "metadata": {},
      "outputs": [
        {
          "name": "stdout",
          "output_type": "stream",
          "text": [
            "<class 'pandas.core.frame.DataFrame'>\n",
            "Int64Index: 71973 entries, 0 to 17\n",
            "Data columns (total 9 columns):\n",
            " #   Column              Non-Null Count  Dtype  \n",
            "---  ------              --------------  -----  \n",
            " 0   molecule_chembl_id  71973 non-null  object \n",
            " 1   canonical_smiles    71937 non-null  object \n",
            " 2   standard_relation   70934 non-null  object \n",
            " 3   standard_value      71185 non-null  float64\n",
            " 4   standard_units      70521 non-null  object \n",
            " 5   standard_type       71969 non-null  object \n",
            " 6   pchembl_value       64424 non-null  float64\n",
            " 7   target_pref_name    71973 non-null  object \n",
            " 8   bao_label           71973 non-null  object \n",
            "dtypes: float64(2), object(7)\n",
            "memory usage: 5.5+ MB\n"
          ]
        }
      ],
      "source": [
        "# General measurements of the dataset \n",
        "df.info()"
      ]
    },
    {
      "cell_type": "markdown",
      "metadata": {},
      "source": [
        "### **Target variable: pCHEMBL value**"
      ]
    },
    {
      "cell_type": "code",
      "execution_count": 27,
      "metadata": {
        "colab": {
          "base_uri": "https://localhost:8080/",
          "height": 323
        },
        "id": "loeDWobu_crw",
        "outputId": "eb3f5dde-86a6-46ca-c2ce-b2eeaadb583e"
      },
      "outputs": [
        {
          "data": {
            "image/png": "[encoded data removed]",
            "text/plain": [
              "<Figure size 360x324 with 1 Axes>"
            ]
          },
          "metadata": {
            "needs_background": "light"
          },
          "output_type": "display_data"
        }
      ],
      "source": [
        "# Bar plot of Missing vs Non-Missing Data of pCHEMBL values\n",
        "\n",
        "# Data\n",
        "missing = df.pchembl_value.isnull().sum()\n",
        "nonmissing = df.pchembl_value.notnull().sum()\n",
        "\n",
        "x = ['Missing', 'Non-Missing']\n",
        "y = [missing, nonmissing]\n",
        "\n",
        "# Setup plot\n",
        "fig, ax = plt.subplots()\n",
        "\n",
        "# Make bar plot\n",
        "p = ax.bar(x, y, color = ['#F8766D', '#00BFC4'], ec = 'black')\n",
        "\n",
        "ax.set_title('pChEMBL Missing Data', fontsize=14, fontweight='bold', pad=15)\n",
        "#ax.set_xticklabels(x, fontweight='bold')\n",
        "\n",
        "ax.set_ylim(0,70000)\n",
        "plt.xticks(fontsize=14)\n",
        "plt.yticks(fontsize=14)\n",
        "\n",
        "# Label above bar\n",
        "for index, data in enumerate(y):\n",
        "    plt.text(x=index-0.1 , y =data+1000 , s=f\"{data}\" , fontdict=dict(fontsize=14))\n",
        "\n",
        "fig.set_size_inches(5,4.5)\n",
        "plt.show()"
      ]
    },
    {
      "cell_type": "code",
      "execution_count": 28,
      "metadata": {
        "colab": {
          "base_uri": "https://localhost:8080/",
          "height": 745
        },
        "id": "y1D_ifqDIRjS",
        "outputId": "3f2f39a8-b1b6-48f0-c870-78fd7366cfa4"
      },
      "outputs": [],
      "source": [
        "# Dataset with non-missing pChEMBL values\n",
        "df2 = df[df.pchembl_value.notnull()]"
      ]
    },
    {
      "cell_type": "code",
      "execution_count": 29,
      "metadata": {},
      "outputs": [
        {
          "name": "stdout",
          "output_type": "stream",
          "text": [
            "<class 'pandas.core.frame.DataFrame'>\n",
            "Int64Index: 64424 entries, 47 to 109\n",
            "Data columns (total 9 columns):\n",
            " #   Column              Non-Null Count  Dtype  \n",
            "---  ------              --------------  -----  \n",
            " 0   molecule_chembl_id  64424 non-null  object \n",
            " 1   canonical_smiles    64408 non-null  object \n",
            " 2   standard_relation   64424 non-null  object \n",
            " 3   standard_value      64424 non-null  float64\n",
            " 4   standard_units      64424 non-null  object \n",
            " 5   standard_type       64424 non-null  object \n",
            " 6   pchembl_value       64424 non-null  float64\n",
            " 7   target_pref_name    64424 non-null  object \n",
            " 8   bao_label           64424 non-null  object \n",
            "dtypes: float64(2), object(7)\n",
            "memory usage: 4.9+ MB\n"
          ]
        }
      ],
      "source": [
        "df2.info()"
      ]
    },
    {
      "cell_type": "code",
      "execution_count": 45,
      "metadata": {},
      "outputs": [
        {
          "name": "stdout",
          "output_type": "stream",
          "text": [
            "Number of unique ChEMBL ID: 63038\n",
            "Total number of ChEMBL ID:  64424\n"
          ]
        }
      ],
      "source": [
        "# Verify duplicated molecules by ChEMBL ID\n",
        "print('Number of unique ChEMBL ID:', str(len(df2.molecule_chembl_id.unique()) )  )\n",
        "print('Total number of ChEMBL ID: ', str(len(df2)))"
      ]
    },
    {
      "cell_type": "markdown",
      "metadata": {},
      "source": [
        "I will use a function to replace duplicated molecules by one single row with mean of standard_value and pchembl_value of duplicated rows. The replacement is applied only if standard deviation of pchembl_value is lower than 2."
      ]
    },
    {
      "cell_type": "code",
      "execution_count": 46,
      "metadata": {},
      "outputs": [],
      "source": [
        "def combine_molecule_duplicates(dataset):\n",
        "    '''\n",
        "    Function to replace duplicated molecules by one single row with mean of standard_value and \n",
        "    pchembl_value of duplicated rows. The replacement is applied only if standard deviation of \n",
        "    pchembl_value is lower than 2.\n",
        "\n",
        "        Parameters:\n",
        "            dataset (DataFrame): A pandas DataFrame with duplicated molecules\n",
        "        \n",
        "        Returns: \n",
        "            dataset (DataFrame): A pandas DataFrame without duplicated molecules\n",
        "    '''\n",
        "    # Calculate standard deviation of all molecules\n",
        "    std_by_uniqueID = dataset.groupby(\"molecule_chembl_id\").std()\n",
        "\n",
        "    # Filter standard deviation of duplicated molecules lower than 2\n",
        "    std_by_uniqueID = std_by_uniqueID[std_by_uniqueID.pchembl_value < 2]\n",
        "\n",
        "    # Calculate mean of all molecules\n",
        "    mean_by_uniqueID = dataset.groupby(\"molecule_chembl_id\").mean()\n",
        "    \n",
        "    # Filter mean of duplicated molecules that have standard deviation lower than 2\n",
        "    mean_by_uniqueID = mean_by_uniqueID.filter(items = std_by_uniqueID.index, axis=0)\n",
        "\n",
        "    # Create a dictionary of rows with mean values of standard_value and pchembl_value\n",
        "    new_rows = {}\n",
        "\n",
        "    for i in mean_by_uniqueID.index:\n",
        "        rows = dataset.loc[dataset.molecule_chembl_id == i].copy()\n",
        "        row = rows.iloc[0].copy()\n",
        "        row.standard_value = mean_by_uniqueID.loc[i].standard_value\n",
        "        row.pchembl_value = mean_by_uniqueID.loc[i].pchembl_value\n",
        "        new_rows[i] = row\n",
        "    \n",
        "    # Convert dictionary to dataframa\n",
        "    df_new_rows = pd.DataFrame(new_rows).T\n",
        "    \n",
        "    # Delete duplicated molecules from the original dataset\n",
        "    dataset = dataset.drop_duplicates(subset=[\"molecule_chembl_id\"], keep=False)\n",
        "\n",
        "    # Add new rows to the original dataset\n",
        "    dataset = pd.concat([dataset, df_new_rows], axis=0).reset_index(drop=True)\n",
        "\n",
        "    return dataset"
      ]
    },
    {
      "cell_type": "code",
      "execution_count": 47,
      "metadata": {},
      "outputs": [],
      "source": [
        "# Replace duplicated molecules by mean of their standard_value and pchembl_value\n",
        "df2_non_duplic = combine_molecule_duplicates(df2)"
      ]
    },
    {
      "cell_type": "code",
      "execution_count": 61,
      "metadata": {},
      "outputs": [],
      "source": [
        "# Cast pchembl and standard values from object to float \n",
        "cast_types = {'standard_value': np.float, 'pchembl_value': np.float}\n",
        "\n",
        "df2_non_duplic = df2_non_duplic.astype(cast_types)"
      ]
    },
    {
      "cell_type": "code",
      "execution_count": 62,
      "metadata": {},
      "outputs": [
        {
          "name": "stdout",
          "output_type": "stream",
          "text": [
            "<class 'pandas.core.frame.DataFrame'>\n",
            "RangeIndex: 63030 entries, 0 to 63029\n",
            "Data columns (total 10 columns):\n",
            " #   Column              Non-Null Count  Dtype  \n",
            "---  ------              --------------  -----  \n",
            " 0   molecule_chembl_id  63030 non-null  object \n",
            " 1   canonical_smiles    63014 non-null  object \n",
            " 2   standard_relation   63030 non-null  object \n",
            " 3   standard_value      63030 non-null  float64\n",
            " 4   standard_units      63030 non-null  object \n",
            " 5   standard_type       63030 non-null  object \n",
            " 6   pchembl_value       63030 non-null  float64\n",
            " 7   target_pref_name    63030 non-null  object \n",
            " 8   bao_label           63030 non-null  object \n",
            " 9   pchembl_bin         63030 non-null  int64  \n",
            "dtypes: float64(2), int64(1), object(7)\n",
            "memory usage: 4.8+ MB\n"
          ]
        }
      ],
      "source": [
        "df2_non_duplic.info()"
      ]
    },
    {
      "cell_type": "code",
      "execution_count": 63,
      "metadata": {},
      "outputs": [
        {
          "name": "stdout",
          "output_type": "stream",
          "text": [
            "Number of unique ChEMBL ID: 63030\n",
            "Total number of ChEMBL ID:  63030\n"
          ]
        }
      ],
      "source": [
        "# Verify that duplicates were deleted \n",
        "print('Number of unique ChEMBL ID:', str(len(df2_non_duplic.molecule_chembl_id.unique()) )  )\n",
        "print('Total number of ChEMBL ID: ', str(len(df2_non_duplic)) )"
      ]
    },
    {
      "cell_type": "code",
      "execution_count": 64,
      "metadata": {},
      "outputs": [
        {
          "data": {
            "image/png": "[encoded data removed]",
            "text/plain": [
              "<Figure size 576x288 with 1 Axes>"
            ]
          },
          "metadata": {
            "needs_background": "light"
          },
          "output_type": "display_data"
        }
      ],
      "source": [
        "# Distribution of pchembl_values\n",
        "df2_non_duplic.pchembl_value.hist(bins=40, figsize=(8,4), color='#00BFC4', ec='black')\n",
        "\n",
        "plt.title('Histogram of pChEMBL values', fontsize=14, fontweight='black', pad=15)\n",
        "plt.xticks(fontsize=12)\n",
        "plt.yticks(fontsize=12)\n",
        "plt.show()"
      ]
    },
    {
      "cell_type": "markdown",
      "metadata": {},
      "source": [
        "The histogram shows that distribution of this variable has a normal shape, which is because the formula of this coefficient includes log10, so there is no need to apply a transformation in this feature."
      ]
    },
    {
      "cell_type": "code",
      "execution_count": 65,
      "metadata": {},
      "outputs": [],
      "source": [
        "# Convert pchembl values to binary \n",
        "# 0 means that molecules are inactive and 1 that they are active \n",
        "df2_non_duplic[\"pchembl_bin\"] = (df2_non_duplic[\"pchembl_value\"] >= 5).astype(int)"
      ]
    },
    {
      "cell_type": "code",
      "execution_count": 66,
      "metadata": {},
      "outputs": [
        {
          "data": {
            "image/png": "[encoded data removed]",
            "text/plain": [
              "<Figure size 360x324 with 1 Axes>"
            ]
          },
          "metadata": {
            "needs_background": "light"
          },
          "output_type": "display_data"
        }
      ],
      "source": [
        "# Bar plot of active and inactive molecules considering pCHEMBL values\n",
        "\n",
        "# Data\n",
        "active = len(df2_non_duplic[df2_non_duplic.pchembl_bin == 1])\n",
        "inactive = len(df2_non_duplic[df2_non_duplic.pchembl_bin == 0])\n",
        "\n",
        "x = ['Active', 'Inactive']\n",
        "y = [active, inactive]\n",
        "\n",
        "# Setup plot\n",
        "fig, ax = plt.subplots()\n",
        "\n",
        "# Make bar plot\n",
        "p = ax.bar(x, y, color = ['#F8766D', '#00BFC4'], ec = 'black')\n",
        "\n",
        "ax.set_title('pChEMBL activity', fontsize=14, fontweight='bold', pad=15)\n",
        "#ax.set_xticklabels(x, fontweight='bold')\n",
        "\n",
        "ax.set_ylim(0,70000)\n",
        "plt.xticks(fontsize=14)\n",
        "plt.yticks(fontsize=14)\n",
        "\n",
        "# Label above bar\n",
        "for index, data in enumerate(y):\n",
        "    plt.text(x=index-0.1 , y =data+1000 , s=f\"{data}\" , fontdict=dict(fontsize=14))\n",
        "\n",
        "fig.set_size_inches(5,4.5)\n",
        "plt.show()"
      ]
    },
    {
      "cell_type": "markdown",
      "metadata": {},
      "source": [
        "We observed that the dataset is not unbalanced regarding pchemb_bin values\n",
        "\n",
        "Also, I will use a modified version of the function to calculate Mann-Whitney U Test provided by data professor in [this notebook](https://github.com/dataprofessor/code/blob/master/python/CDD_ML_Part_2_Exploratory_Data_Analysis.ipynb). This test will be used for calculating if there are statistical significance differences between active and inactive categories regarding pchembl value."
      ]
    },
    {
      "cell_type": "code",
      "execution_count": 67,
      "metadata": {},
      "outputs": [],
      "source": [
        "# Statistical analysis | Mann-Whitney U Test\n",
        "def mannwhitney(descriptors, dataset, verbose=False):\n",
        "  # https://machinelearningmastery.com/nonparametric-statistical-significance-tests-in-python/\n",
        "\n",
        "# seed the random number generator\n",
        "  np.random.seed(1)\n",
        "\n",
        "# actives and inactives\n",
        "  selection = [descriptors, 'pchembl_bin']\n",
        "  df = dataset[selection]\n",
        "  active = df[df.pchembl_bin == 1]\n",
        "  active = active[descriptors]\n",
        "\n",
        "  selection = [descriptors, 'pchembl_bin']\n",
        "  df = dataset[selection]\n",
        "  inactive = df[df.pchembl_bin == 0]\n",
        "  inactive = inactive[descriptors]\n",
        "\n",
        "# compare samples\n",
        "  stat, p = mannwhitneyu(active, inactive)\n",
        "  #print('Statistics=%.3f, p=%.3f' % (stat, p))\n",
        "\n",
        "# interpret\n",
        "  alpha = 0.05\n",
        "  if p > alpha:\n",
        "    interpretation = 'Same distribution (fail to reject H0)'\n",
        "  else:\n",
        "    interpretation = 'Different distribution (reject H0)'\n",
        "  \n",
        "  results = pd.DataFrame({'Descriptor':descriptors,\n",
        "                          'Statistics':stat,\n",
        "                          'p':p,\n",
        "                          'alpha':alpha,\n",
        "                          'Interpretation':interpretation}, index=[0])\n",
        "\n",
        "  return results"
      ]
    },
    {
      "cell_type": "code",
      "execution_count": 68,
      "metadata": {},
      "outputs": [
        {
          "data": {
            "text/html": [
              "<div>\n",
              "<style scoped>\n",
              "    .dataframe tbody tr th:only-of-type {\n",
              "        vertical-align: middle;\n",
              "    }\n",
              "\n",
              "    .dataframe tbody tr th {\n",
              "        vertical-align: top;\n",
              "    }\n",
              "\n",
              "    .dataframe thead th {\n",
              "        text-align: right;\n",
              "    }\n",
              "</style>\n",
              "<table border=\"1\" class=\"dataframe\">\n",
              "  <thead>\n",
              "    <tr style=\"text-align: right;\">\n",
              "      <th></th>\n",
              "      <th>Descriptor</th>\n",
              "      <th>Statistics</th>\n",
              "      <th>p</th>\n",
              "      <th>alpha</th>\n",
              "      <th>Interpretation</th>\n",
              "    </tr>\n",
              "  </thead>\n",
              "  <tbody>\n",
              "    <tr>\n",
              "      <th>0</th>\n",
              "      <td>pchembl_value</td>\n",
              "      <td>991254776.0</td>\n",
              "      <td>0.0</td>\n",
              "      <td>0.05</td>\n",
              "      <td>Different distribution (reject H0)</td>\n",
              "    </tr>\n",
              "  </tbody>\n",
              "</table>\n",
              "</div>"
            ],
            "text/plain": [
              "      Descriptor   Statistics    p  alpha                      Interpretation\n",
              "0  pchembl_value  991254776.0  0.0   0.05  Different distribution (reject H0)"
            ]
          },
          "execution_count": 68,
          "metadata": {},
          "output_type": "execute_result"
        }
      ],
      "source": [
        "mannwhitney('pchembl_value', df2_non_duplic)"
      ]
    },
    {
      "cell_type": "markdown",
      "metadata": {},
      "source": [
        "We observed that distributions of active and inactive compounds in terms of pchembl value are statistically different."
      ]
    },
    {
      "cell_type": "markdown",
      "metadata": {},
      "source": [
        "### **Other features**"
      ]
    },
    {
      "cell_type": "code",
      "execution_count": 69,
      "metadata": {},
      "outputs": [],
      "source": [
        "# Get rid of molecules without canonical simles \n",
        "df3 = df2_non_duplic[df2_non_duplic.canonical_smiles.notnull()]"
      ]
    },
    {
      "cell_type": "code",
      "execution_count": 71,
      "metadata": {},
      "outputs": [
        {
          "name": "stdout",
          "output_type": "stream",
          "text": [
            "<class 'pandas.core.frame.DataFrame'>\n",
            "Int64Index: 63014 entries, 0 to 63029\n",
            "Data columns (total 10 columns):\n",
            " #   Column              Non-Null Count  Dtype  \n",
            "---  ------              --------------  -----  \n",
            " 0   molecule_chembl_id  63014 non-null  object \n",
            " 1   canonical_smiles    63014 non-null  object \n",
            " 2   standard_relation   63014 non-null  object \n",
            " 3   standard_value      63014 non-null  float64\n",
            " 4   standard_units      63014 non-null  object \n",
            " 5   standard_type       63014 non-null  object \n",
            " 6   pchembl_value       63014 non-null  float64\n",
            " 7   target_pref_name    63014 non-null  object \n",
            " 8   bao_label           63014 non-null  object \n",
            " 9   pchembl_bin         63014 non-null  int64  \n",
            "dtypes: float64(2), int64(1), object(7)\n",
            "memory usage: 5.3+ MB\n"
          ]
        }
      ],
      "source": [
        "df3.info()"
      ]
    },
    {
      "cell_type": "code",
      "execution_count": 72,
      "metadata": {},
      "outputs": [
        {
          "data": {
            "image/png": "[encoded data removed]",
            "text/plain": [
              "<Figure size 1728x288 with 1 Axes>"
            ]
          },
          "metadata": {
            "needs_background": "light"
          },
          "output_type": "display_data"
        }
      ],
      "source": [
        "# Distribution of target proteins  \n",
        "df3.target_pref_name.value_counts()[0:50].plot.bar(figsize=(24,4), color='#00BFC4', ec='black')\n",
        "\n",
        "plt.title('Top 50 Targets', fontsize=14, fontweight='black', pad=15)\n",
        "plt.show()"
      ]
    },
    {
      "cell_type": "code",
      "execution_count": 73,
      "metadata": {},
      "outputs": [],
      "source": [
        "# Filter only molecules tested on Beta-lactamase AmpC\n",
        "df4 = df3[df3.target_pref_name == \"Beta-lactamase AmpC\"]"
      ]
    },
    {
      "cell_type": "code",
      "execution_count": 74,
      "metadata": {},
      "outputs": [
        {
          "name": "stdout",
          "output_type": "stream",
          "text": [
            "<class 'pandas.core.frame.DataFrame'>\n",
            "Int64Index: 61737 entries, 295 to 63020\n",
            "Data columns (total 10 columns):\n",
            " #   Column              Non-Null Count  Dtype  \n",
            "---  ------              --------------  -----  \n",
            " 0   molecule_chembl_id  61737 non-null  object \n",
            " 1   canonical_smiles    61737 non-null  object \n",
            " 2   standard_relation   61737 non-null  object \n",
            " 3   standard_value      61737 non-null  float64\n",
            " 4   standard_units      61737 non-null  object \n",
            " 5   standard_type       61737 non-null  object \n",
            " 6   pchembl_value       61737 non-null  float64\n",
            " 7   target_pref_name    61737 non-null  object \n",
            " 8   bao_label           61737 non-null  object \n",
            " 9   pchembl_bin         61737 non-null  int64  \n",
            "dtypes: float64(2), int64(1), object(7)\n",
            "memory usage: 5.2+ MB\n"
          ]
        }
      ],
      "source": [
        "df4.info()"
      ]
    },
    {
      "cell_type": "markdown",
      "metadata": {},
      "source": [
        "We observed that there are not null values in any feature of the dataset"
      ]
    },
    {
      "cell_type": "code",
      "execution_count": 75,
      "metadata": {},
      "outputs": [
        {
          "data": {
            "image/png": "[encoded data removed]",
            "text/plain": [
              "<Figure size 360x324 with 1 Axes>"
            ]
          },
          "metadata": {
            "needs_background": "light"
          },
          "output_type": "display_data"
        }
      ],
      "source": [
        "# Bar plot of active and inactive molecules considering pCHEMBL values of Beta-lactamase AmpC target\n",
        "\n",
        "# Data\n",
        "active = len(df4[df4.pchembl_bin == 1])\n",
        "inactive = len(df4[df4.pchembl_bin == 0])\n",
        "\n",
        "x = ['Active', 'Inactive']\n",
        "y = [active, inactive]\n",
        "\n",
        "# Setup plot\n",
        "fig, ax = plt.subplots()\n",
        "\n",
        "# Make bar plot\n",
        "p = ax.bar(x, y, color = ['#F8766D', '#00BFC4'], ec = 'black')\n",
        "\n",
        "ax.set_title('pChEMBL activity', fontsize=14, fontweight='bold', pad=15)\n",
        "#ax.set_xticklabels(x, fontweight='bold')\n",
        "\n",
        "ax.set_ylim(0,70000)\n",
        "plt.xticks(fontsize=14)\n",
        "plt.yticks(fontsize=14)\n",
        "\n",
        "# Label above bar\n",
        "for index, data in enumerate(y):\n",
        "    plt.text(x=index-0.1 , y =data+1000 , s=f\"{data}\" , fontdict=dict(fontsize=14))\n",
        "\n",
        "fig.set_size_inches(5,4.5)\n",
        "plt.show()"
      ]
    },
    {
      "cell_type": "markdown",
      "metadata": {},
      "source": [
        "We observed that the balance proportion was maintained after filtering molecules that bind to Beta-lactamase AmpC"
      ]
    },
    {
      "cell_type": "code",
      "execution_count": 76,
      "metadata": {
        "colab": {
          "base_uri": "https://localhost:8080/",
          "height": 321
        },
        "id": "fl1ykWbNKOJz",
        "outputId": "92a15a84-abe2-4bb3-ad46-743fd91a221d"
      },
      "outputs": [
        {
          "data": {
            "image/png": "[encoded data removed]",
            "text/plain": [
              "<Figure size 576x288 with 1 Axes>"
            ]
          },
          "metadata": {
            "needs_background": "light"
          },
          "output_type": "display_data"
        }
      ],
      "source": [
        "# Top 10 activity types \n",
        "df4.standard_type.value_counts()[:10].plot.bar(figsize=(8,4), color='#00BFC4', ec='black')\n",
        "\n",
        "plt.title('Top 10 activity types ', fontsize=14, fontweight='black', pad=15)\n",
        "plt.show()"
      ]
    },
    {
      "cell_type": "code",
      "execution_count": 77,
      "metadata": {
        "colab": {
          "base_uri": "https://localhost:8080/",
          "height": 408
        },
        "id": "pQ2fxUGVSeNn",
        "outputId": "d96e5e4c-ce9d-40f3-bc0e-31b10a1c7d53"
      },
      "outputs": [
        {
          "data": {
            "image/png": "[encoded data removed]",
            "text/plain": [
              "<Figure size 576x288 with 1 Axes>"
            ]
          },
          "metadata": {
            "needs_background": "light"
          },
          "output_type": "display_data"
        }
      ],
      "source": [
        "# Histogram of BioAssay Ontology\n",
        "bao_labels = df4.bao_label.value_counts()\n",
        "bao_labels.plot.bar(figsize=(8,4), color='#00BFC4', ec='black')\n",
        "\n",
        "plt.title('Histogram of BioAssay Ontology', fontsize=14, fontweight='black', pad=15)\n",
        "plt.xticks(fontsize=12)\n",
        "plt.yticks(fontsize=12)\n",
        "plt.show()"
      ]
    },
    {
      "cell_type": "markdown",
      "metadata": {},
      "source": [
        "### **Calculation of molecular descriptors from SMILES with PaDEL**"
      ]
    },
    {
      "cell_type": "markdown",
      "metadata": {},
      "source": [
        "#### **Preparation of files to calculate molecular descriptors**\n",
        "To make this step yo need to install Padelpy library with pip, as follows: \n",
        "\n",
        "```python\n",
        "pip install padelpy\n",
        "\n",
        "```"
      ]
    },
    {
      "cell_type": "code",
      "execution_count": 276,
      "metadata": {},
      "outputs": [
        {
          "name": "stdout",
          "output_type": "stream",
          "text": [
            "mkdir: cannot create directory ‘Data/MolFingerprints’: File exists\n",
            "--2021-10-23 15:12:56--  https://github.com/dataprofessor/padel/raw/main/fingerprints_xml.zip\n",
            "Resolving github.com (github.com)... 140.82.112.3\n",
            "Connecting to github.com (github.com)|140.82.112.3|:443... connected.\n",
            "HTTP request sent, awaiting response... 302 Found\n",
            "Location: https://raw.githubusercontent.com/dataprofessor/padel/main/fingerprints_xml.zip [following]\n",
            "--2021-10-23 15:12:57--  https://raw.githubusercontent.com/dataprofessor/padel/main/fingerprints_xml.zip\n",
            "Resolving raw.githubusercontent.com (raw.githubusercontent.com)... 185.199.108.133, 185.199.109.133, 185.199.110.133, ...\n",
            "Connecting to raw.githubusercontent.com (raw.githubusercontent.com)|185.199.108.133|:443... connected.\n",
            "HTTP request sent, awaiting response... 200 OK\n",
            "Length: 10871 (11K) [application/zip]\n",
            "Saving to: ‘./Data/MolFingerprints/fingerprints_xml.zip.1’\n",
            "\n",
            "fingerprints_xml.zi 100%[===================>]  10.62K  --.-KB/s    in 0.002s  \n",
            "\n",
            "2021-10-23 15:12:57 (5.43 MB/s) - ‘./Data/MolFingerprints/fingerprints_xml.zip.1’ saved [10871/10871]\n",
            "\n",
            "Archive:  Data/MolFingerprints/fingerprints_xml.zip\n",
            "  inflating: Data/MolFingerprints/AtomPairs2DFingerprintCount.xml  \n",
            "  inflating: Data/MolFingerprints/AtomPairs2DFingerprinter.xml  \n",
            "  inflating: Data/MolFingerprints/EStateFingerprinter.xml  \n",
            "  inflating: Data/MolFingerprints/ExtendedFingerprinter.xml  \n",
            "  inflating: Data/MolFingerprints/Fingerprinter.xml  \n",
            "  inflating: Data/MolFingerprints/GraphOnlyFingerprinter.xml  \n",
            "  inflating: Data/MolFingerprints/KlekotaRothFingerprintCount.xml  \n",
            "  inflating: Data/MolFingerprints/KlekotaRothFingerprinter.xml  \n",
            "  inflating: Data/MolFingerprints/MACCSFingerprinter.xml  \n",
            "  inflating: Data/MolFingerprints/PubchemFingerprinter.xml  \n",
            "  inflating: Data/MolFingerprints/SubstructureFingerprintCount.xml  \n",
            "  inflating: Data/MolFingerprints/SubstructureFingerprinter.xml  \n"
          ]
        }
      ],
      "source": [
        "# Download and unzip fingerprint XML files\n",
        "! mkdir Data/MolFingerprints\n",
        "! wget https://github.com/dataprofessor/padel/raw/main/fingerprints_xml.zip --directory ./Data/MolFingerprints\n",
        "! unzip Data/MolFingerprints/fingerprints_xml.zip -d Data/MolFingerprints"
      ]
    },
    {
      "cell_type": "code",
      "execution_count": 103,
      "metadata": {},
      "outputs": [
        {
          "data": {
            "text/plain": [
              "['Data/MolFingerprints/AtomPairs2DFingerprintCount.xml',\n",
              " 'Data/MolFingerprints/AtomPairs2DFingerprinter.xml',\n",
              " 'Data/MolFingerprints/EStateFingerprinter.xml',\n",
              " 'Data/MolFingerprints/ExtendedFingerprinter.xml',\n",
              " 'Data/MolFingerprints/Fingerprinter.xml',\n",
              " 'Data/MolFingerprints/GraphOnlyFingerprinter.xml',\n",
              " 'Data/MolFingerprints/MACCSFingerprinter.xml',\n",
              " 'Data/MolFingerprints/PubchemFingerprinter.xml',\n",
              " 'Data/MolFingerprints/SubstructureFingerprintCount.xml',\n",
              " 'Data/MolFingerprints/SubstructureFingerprinter.xml']"
            ]
          },
          "execution_count": 103,
          "metadata": {},
          "output_type": "execute_result"
        }
      ],
      "source": [
        "# List and sort fingerprint XML files\n",
        "xml_files = glob.glob(\"Data/MolFingerprints/*.xml\")\n",
        "xml_files.sort()\n",
        "xml_files.remove(\"Data/MolFingerprints/KlekotaRothFingerprintCount.xml\")\n",
        "xml_files.remove(\"Data/MolFingerprints/KlekotaRothFingerprinter.xml\")\n",
        "xml_files"
      ]
    },
    {
      "cell_type": "code",
      "execution_count": 104,
      "metadata": {},
      "outputs": [],
      "source": [
        "# Create a list with shorten names of xml files\n",
        "FP_list = ['AtomPairs2DCount',\n",
        " 'AtomPairs2D',\n",
        " 'EState',\n",
        " 'CDKextended',\n",
        " 'CDK',\n",
        " 'CDKgraphonly',\n",
        " 'MACCS',\n",
        " 'PubChem',\n",
        " 'SubstructureCount',\n",
        " 'Substructure']"
      ]
    },
    {
      "cell_type": "code",
      "execution_count": 101,
      "metadata": {},
      "outputs": [
        {
          "data": {
            "text/plain": [
              "{'AtomPairs2DCount': 'Data/MolFingerprints/AtomPairs2DFingerprintCount.xml',\n",
              " 'AtomPairs2D': 'Data/MolFingerprints/AtomPairs2DFingerprinter.xml',\n",
              " 'EState': 'Data/MolFingerprints/EStateFingerprinter.xml',\n",
              " 'CDKextended': 'Data/MolFingerprints/ExtendedFingerprinter.xml',\n",
              " 'CDK': 'Data/MolFingerprints/Fingerprinter.xml',\n",
              " 'CDKgraphonly': 'Data/MolFingerprints/GraphOnlyFingerprinter.xml',\n",
              " 'KlekotaRothCount': 'Data/MolFingerprints/KlekotaRothFingerprintCount.xml',\n",
              " 'KlekotaRoth': 'Data/MolFingerprints/KlekotaRothFingerprinter.xml',\n",
              " 'MACCS': 'Data/MolFingerprints/MACCSFingerprinter.xml',\n",
              " 'PubChem': 'Data/MolFingerprints/PubchemFingerprinter.xml',\n",
              " 'SubstructureCount': 'Data/MolFingerprints/SubstructureFingerprintCount.xml',\n",
              " 'Substructure': 'Data/MolFingerprints/SubstructureFingerprinter.xml'}"
            ]
          },
          "execution_count": 101,
          "metadata": {},
          "output_type": "execute_result"
        }
      ],
      "source": [
        "# Create a dictionary with shorten names as keys and xml file names as values\n",
        "fp = dict(zip(FP_list, xml_files))\n",
        "fp"
      ]
    },
    {
      "cell_type": "code",
      "execution_count": 102,
      "metadata": {},
      "outputs": [
        {
          "data": {
            "text/html": [
              "<div>\n",
              "<style scoped>\n",
              "    .dataframe tbody tr th:only-of-type {\n",
              "        vertical-align: middle;\n",
              "    }\n",
              "\n",
              "    .dataframe tbody tr th {\n",
              "        vertical-align: top;\n",
              "    }\n",
              "\n",
              "    .dataframe thead th {\n",
              "        text-align: right;\n",
              "    }\n",
              "</style>\n",
              "<table border=\"1\" class=\"dataframe\">\n",
              "  <thead>\n",
              "    <tr style=\"text-align: right;\">\n",
              "      <th></th>\n",
              "      <th>canonical_smiles</th>\n",
              "      <th>molecule_chembl_id</th>\n",
              "    </tr>\n",
              "  </thead>\n",
              "  <tbody>\n",
              "    <tr>\n",
              "      <th>295</th>\n",
              "      <td>COC1=CC2CC(=O)N(C2)C1C(=O)OCc1ccc([N+](=O)[O-]...</td>\n",
              "      <td>CHEMBL606647</td>\n",
              "    </tr>\n",
              "    <tr>\n",
              "      <th>296</th>\n",
              "      <td>CC1(C)S[C@@H]2[C@@H](CO)C(=O)N2[C@H]1C(=O)O</td>\n",
              "      <td>CHEMBL277857</td>\n",
              "    </tr>\n",
              "    <tr>\n",
              "      <th>297</th>\n",
              "      <td>CC[C@@H]1C(=O)N2C[C@@H]1CC(OC)=C2C(=O)O</td>\n",
              "      <td>CHEMBL84953</td>\n",
              "    </tr>\n",
              "    <tr>\n",
              "      <th>298</th>\n",
              "      <td>C[C@H](O)[C@H]1C(=O)N2[C@@H](C(=O)[O-])C(C)(C)...</td>\n",
              "      <td>CHEMBL177772</td>\n",
              "    </tr>\n",
              "    <tr>\n",
              "      <th>299</th>\n",
              "      <td>C[C@H](O)[C@@H]1C(=O)N2[C@@H](C(=O)[O-])C(C)(C...</td>\n",
              "      <td>CHEMBL175189</td>\n",
              "    </tr>\n",
              "    <tr>\n",
              "      <th>...</th>\n",
              "      <td>...</td>\n",
              "      <td>...</td>\n",
              "    </tr>\n",
              "    <tr>\n",
              "      <th>63006</th>\n",
              "      <td>C[C@]1(Cn2ccnn2)[C@H](C(=O)[O-])N2C(=O)[C@@H](...</td>\n",
              "      <td>CHEMBL6533</td>\n",
              "    </tr>\n",
              "    <tr>\n",
              "      <th>63007</th>\n",
              "      <td>CO/N=C/[C@@]1(C)[C@H](C(=O)[O-])N2C(=O)[C@@H](...</td>\n",
              "      <td>CHEMBL6678</td>\n",
              "    </tr>\n",
              "    <tr>\n",
              "      <th>63013</th>\n",
              "      <td>O=C(O)c1ccccn1</td>\n",
              "      <td>CHEMBL72628</td>\n",
              "    </tr>\n",
              "    <tr>\n",
              "      <th>63017</th>\n",
              "      <td>O=C(O)c1ccc(B(O)O)cc1</td>\n",
              "      <td>CHEMBL82324</td>\n",
              "    </tr>\n",
              "    <tr>\n",
              "      <th>63020</th>\n",
              "      <td>C[C@]12CC[C@H]3[C@@H](CC[C@@H]4C[C@H](O)CC[C@]...</td>\n",
              "      <td>CHEMBL85799</td>\n",
              "    </tr>\n",
              "  </tbody>\n",
              "</table>\n",
              "<p>61737 rows × 2 columns</p>\n",
              "</div>"
            ],
            "text/plain": [
              "                                        canonical_smiles molecule_chembl_id\n",
              "295    COC1=CC2CC(=O)N(C2)C1C(=O)OCc1ccc([N+](=O)[O-]...       CHEMBL606647\n",
              "296          CC1(C)S[C@@H]2[C@@H](CO)C(=O)N2[C@H]1C(=O)O       CHEMBL277857\n",
              "297              CC[C@@H]1C(=O)N2C[C@@H]1CC(OC)=C2C(=O)O        CHEMBL84953\n",
              "298    C[C@H](O)[C@H]1C(=O)N2[C@@H](C(=O)[O-])C(C)(C)...       CHEMBL177772\n",
              "299    C[C@H](O)[C@@H]1C(=O)N2[C@@H](C(=O)[O-])C(C)(C...       CHEMBL175189\n",
              "...                                                  ...                ...\n",
              "63006  C[C@]1(Cn2ccnn2)[C@H](C(=O)[O-])N2C(=O)[C@@H](...         CHEMBL6533\n",
              "63007  CO/N=C/[C@@]1(C)[C@H](C(=O)[O-])N2C(=O)[C@@H](...         CHEMBL6678\n",
              "63013                                     O=C(O)c1ccccn1        CHEMBL72628\n",
              "63017                              O=C(O)c1ccc(B(O)O)cc1        CHEMBL82324\n",
              "63020  C[C@]12CC[C@H]3[C@@H](CC[C@@H]4C[C@H](O)CC[C@]...        CHEMBL85799\n",
              "\n",
              "[61737 rows x 2 columns]"
            ]
          },
          "execution_count": 102,
          "metadata": {},
          "output_type": "execute_result"
        }
      ],
      "source": [
        "# Prepare data subset as input to PaDELpy\n",
        "df_padelpy = pd.concat( [df4['canonical_smiles'], df4['molecule_chembl_id']], axis=1 )\n",
        "df_padelpy.to_csv('molecule.smi', sep='\\t', index=False, header=False)\n",
        "df_padelpy"
      ]
    },
    {
      "cell_type": "markdown",
      "metadata": {},
      "source": [
        "#### **Calculate descriptors**\n",
        "We calculated only 10 descriptors. KlekotaRoth and KlekotaRothCount fingerprints were excluded because they required a long time to be obtained. The output data si available at `Data/MolFingerprints/Results/` folder."
      ]
    },
    {
      "cell_type": "code",
      "execution_count": 100,
      "metadata": {},
      "outputs": [
        {
          "ename": "KeyboardInterrupt",
          "evalue": "",
          "output_type": "error",
          "traceback": [
            "\u001b[0;31m---------------------------------------------------------------------------\u001b[0m",
            "\u001b[0;31mKeyboardInterrupt\u001b[0m                         Traceback (most recent call last)",
            "\u001b[0;32m/tmp/ipykernel_20388/2832425780.py\u001b[0m in \u001b[0;36m<module>\u001b[0;34m\u001b[0m\n\u001b[1;32m      6\u001b[0m     \u001b[0mfingerprint_descriptortypes\u001b[0m \u001b[0;34m=\u001b[0m \u001b[0mfp\u001b[0m\u001b[0;34m[\u001b[0m\u001b[0mfingerprint\u001b[0m\u001b[0;34m]\u001b[0m\u001b[0;34m\u001b[0m\u001b[0;34m\u001b[0m\u001b[0m\n\u001b[1;32m      7\u001b[0m \u001b[0;34m\u001b[0m\u001b[0m\n\u001b[0;32m----> 8\u001b[0;31m     padeldescriptor(mol_dir='molecule.smi', \n\u001b[0m\u001b[1;32m      9\u001b[0m                     \u001b[0md_file\u001b[0m\u001b[0;34m=\u001b[0m\u001b[0mfingerprint_output_file\u001b[0m\u001b[0;34m,\u001b[0m\u001b[0;34m\u001b[0m\u001b[0;34m\u001b[0m\u001b[0m\n\u001b[1;32m     10\u001b[0m                     \u001b[0mdescriptortypes\u001b[0m\u001b[0;34m=\u001b[0m \u001b[0mfingerprint_descriptortypes\u001b[0m\u001b[0;34m,\u001b[0m\u001b[0;34m\u001b[0m\u001b[0;34m\u001b[0m\u001b[0m\n",
            "\u001b[0;32m~/anaconda3/envs/ml-zoomcamp/lib/python3.8/site-packages/padelpy/wrapper.py\u001b[0m in \u001b[0;36mpadeldescriptor\u001b[0;34m(maxruntime, waitingjobs, threads, d_2d, d_3d, config, convert3d, descriptortypes, detectaromaticity, mol_dir, d_file, fingerprints, log, maxcpdperfile, removesalt, retain3d, retainorder, standardizenitro, standardizetautomers, tautomerlist, usefilenameasmolname, sp_timeout, headless)\u001b[0m\n\u001b[1;32m    149\u001b[0m         \u001b[0mcommand\u001b[0m \u001b[0;34m+=\u001b[0m \u001b[0;34m' -usefilenameasmolname'\u001b[0m\u001b[0;34m\u001b[0m\u001b[0;34m\u001b[0m\u001b[0m\n\u001b[1;32m    150\u001b[0m \u001b[0;34m\u001b[0m\u001b[0m\n\u001b[0;32m--> 151\u001b[0;31m     \u001b[0m_\u001b[0m\u001b[0;34m,\u001b[0m \u001b[0merr\u001b[0m \u001b[0;34m=\u001b[0m \u001b[0m_popen_timeout\u001b[0m\u001b[0;34m(\u001b[0m\u001b[0mcommand\u001b[0m\u001b[0;34m,\u001b[0m \u001b[0msp_timeout\u001b[0m\u001b[0;34m)\u001b[0m\u001b[0;34m\u001b[0m\u001b[0;34m\u001b[0m\u001b[0m\n\u001b[0m\u001b[1;32m    152\u001b[0m     \u001b[0;32mif\u001b[0m \u001b[0merr\u001b[0m \u001b[0;34m!=\u001b[0m \u001b[0;34mb''\u001b[0m\u001b[0;34m:\u001b[0m\u001b[0;34m\u001b[0m\u001b[0;34m\u001b[0m\u001b[0m\n\u001b[1;32m    153\u001b[0m         raise RuntimeError('PaDEL-Descriptor encountered an error: {}'.format(\n",
            "\u001b[0;32m~/anaconda3/envs/ml-zoomcamp/lib/python3.8/site-packages/padelpy/wrapper.py\u001b[0m in \u001b[0;36m_popen_timeout\u001b[0;34m(command, timeout)\u001b[0m\n\u001b[1;32m     43\u001b[0m         \u001b[0;32mreturn\u001b[0m \u001b[0;34m(\u001b[0m\u001b[0;34m-\u001b[0m\u001b[0;36m1\u001b[0m\u001b[0;34m,\u001b[0m \u001b[0;34mb'PaDEL-Descriptor timed out during subprocess call'\u001b[0m\u001b[0;34m)\u001b[0m\u001b[0;34m\u001b[0m\u001b[0;34m\u001b[0m\u001b[0m\n\u001b[1;32m     44\u001b[0m     \u001b[0;32melse\u001b[0m\u001b[0;34m:\u001b[0m\u001b[0;34m\u001b[0m\u001b[0;34m\u001b[0m\u001b[0m\n\u001b[0;32m---> 45\u001b[0;31m         \u001b[0;32mreturn\u001b[0m \u001b[0mp\u001b[0m\u001b[0;34m.\u001b[0m\u001b[0mcommunicate\u001b[0m\u001b[0;34m(\u001b[0m\u001b[0;34m)\u001b[0m\u001b[0;34m\u001b[0m\u001b[0;34m\u001b[0m\u001b[0m\n\u001b[0m\u001b[1;32m     46\u001b[0m \u001b[0;34m\u001b[0m\u001b[0m\n\u001b[1;32m     47\u001b[0m \u001b[0;34m\u001b[0m\u001b[0m\n",
            "\u001b[0;32m~/anaconda3/envs/ml-zoomcamp/lib/python3.8/subprocess.py\u001b[0m in \u001b[0;36mcommunicate\u001b[0;34m(self, input, timeout)\u001b[0m\n\u001b[1;32m   1026\u001b[0m \u001b[0;34m\u001b[0m\u001b[0m\n\u001b[1;32m   1027\u001b[0m             \u001b[0;32mtry\u001b[0m\u001b[0;34m:\u001b[0m\u001b[0;34m\u001b[0m\u001b[0;34m\u001b[0m\u001b[0m\n\u001b[0;32m-> 1028\u001b[0;31m                 \u001b[0mstdout\u001b[0m\u001b[0;34m,\u001b[0m \u001b[0mstderr\u001b[0m \u001b[0;34m=\u001b[0m \u001b[0mself\u001b[0m\u001b[0;34m.\u001b[0m\u001b[0m_communicate\u001b[0m\u001b[0;34m(\u001b[0m\u001b[0minput\u001b[0m\u001b[0;34m,\u001b[0m \u001b[0mendtime\u001b[0m\u001b[0;34m,\u001b[0m \u001b[0mtimeout\u001b[0m\u001b[0;34m)\u001b[0m\u001b[0;34m\u001b[0m\u001b[0;34m\u001b[0m\u001b[0m\n\u001b[0m\u001b[1;32m   1029\u001b[0m             \u001b[0;32mexcept\u001b[0m \u001b[0mKeyboardInterrupt\u001b[0m\u001b[0;34m:\u001b[0m\u001b[0;34m\u001b[0m\u001b[0;34m\u001b[0m\u001b[0m\n\u001b[1;32m   1030\u001b[0m                 \u001b[0;31m# https://bugs.python.org/issue25942\u001b[0m\u001b[0;34m\u001b[0m\u001b[0;34m\u001b[0m\u001b[0;34m\u001b[0m\u001b[0m\n",
            "\u001b[0;32m~/anaconda3/envs/ml-zoomcamp/lib/python3.8/subprocess.py\u001b[0m in \u001b[0;36m_communicate\u001b[0;34m(self, input, endtime, orig_timeout)\u001b[0m\n\u001b[1;32m   1866\u001b[0m                             'failed to raise TimeoutExpired.')\n\u001b[1;32m   1867\u001b[0m \u001b[0;34m\u001b[0m\u001b[0m\n\u001b[0;32m-> 1868\u001b[0;31m                     \u001b[0mready\u001b[0m \u001b[0;34m=\u001b[0m \u001b[0mselector\u001b[0m\u001b[0;34m.\u001b[0m\u001b[0mselect\u001b[0m\u001b[0;34m(\u001b[0m\u001b[0mtimeout\u001b[0m\u001b[0;34m)\u001b[0m\u001b[0;34m\u001b[0m\u001b[0;34m\u001b[0m\u001b[0m\n\u001b[0m\u001b[1;32m   1869\u001b[0m                     \u001b[0mself\u001b[0m\u001b[0;34m.\u001b[0m\u001b[0m_check_timeout\u001b[0m\u001b[0;34m(\u001b[0m\u001b[0mendtime\u001b[0m\u001b[0;34m,\u001b[0m \u001b[0morig_timeout\u001b[0m\u001b[0;34m,\u001b[0m \u001b[0mstdout\u001b[0m\u001b[0;34m,\u001b[0m \u001b[0mstderr\u001b[0m\u001b[0;34m)\u001b[0m\u001b[0;34m\u001b[0m\u001b[0;34m\u001b[0m\u001b[0m\n\u001b[1;32m   1870\u001b[0m \u001b[0;34m\u001b[0m\u001b[0m\n",
            "\u001b[0;32m~/anaconda3/envs/ml-zoomcamp/lib/python3.8/selectors.py\u001b[0m in \u001b[0;36mselect\u001b[0;34m(self, timeout)\u001b[0m\n\u001b[1;32m    413\u001b[0m         \u001b[0mready\u001b[0m \u001b[0;34m=\u001b[0m \u001b[0;34m[\u001b[0m\u001b[0;34m]\u001b[0m\u001b[0;34m\u001b[0m\u001b[0;34m\u001b[0m\u001b[0m\n\u001b[1;32m    414\u001b[0m         \u001b[0;32mtry\u001b[0m\u001b[0;34m:\u001b[0m\u001b[0;34m\u001b[0m\u001b[0;34m\u001b[0m\u001b[0m\n\u001b[0;32m--> 415\u001b[0;31m             \u001b[0mfd_event_list\u001b[0m \u001b[0;34m=\u001b[0m \u001b[0mself\u001b[0m\u001b[0;34m.\u001b[0m\u001b[0m_selector\u001b[0m\u001b[0;34m.\u001b[0m\u001b[0mpoll\u001b[0m\u001b[0;34m(\u001b[0m\u001b[0mtimeout\u001b[0m\u001b[0;34m)\u001b[0m\u001b[0;34m\u001b[0m\u001b[0;34m\u001b[0m\u001b[0m\n\u001b[0m\u001b[1;32m    416\u001b[0m         \u001b[0;32mexcept\u001b[0m \u001b[0mInterruptedError\u001b[0m\u001b[0;34m:\u001b[0m\u001b[0;34m\u001b[0m\u001b[0;34m\u001b[0m\u001b[0m\n\u001b[1;32m    417\u001b[0m             \u001b[0;32mreturn\u001b[0m \u001b[0mready\u001b[0m\u001b[0;34m\u001b[0m\u001b[0;34m\u001b[0m\u001b[0m\n",
            "\u001b[0;31mKeyboardInterrupt\u001b[0m: "
          ]
        }
      ],
      "source": [
        "for i in fp:\n",
        "    path = \"Data/MolFingerprints/Results/\"\n",
        "    fingerprint = i\n",
        "    fingerprint_output_file_path = ''.join([path,fingerprint]) \n",
        "    fingerprint_output_file = ''.join([fingerprint_output_file_path,'.csv']) \n",
        "    fingerprint_descriptortypes = fp[fingerprint]\n",
        "\n",
        "    padeldescriptor(mol_dir='molecule.smi', \n",
        "                    d_file=fingerprint_output_file, \n",
        "                    descriptortypes= fingerprint_descriptortypes,\n",
        "                    detectaromaticity=True,\n",
        "                    standardizenitro=True,\n",
        "                    standardizetautomers=True,\n",
        "                    threads=2,\n",
        "                    removesalt=True,\n",
        "                    log=True,\n",
        "                    fingerprints=True)"
      ]
    },
    {
      "cell_type": "markdown",
      "metadata": {},
      "source": [
        "#### **Load molecular descriptors and remove low variance features**"
      ]
    },
    {
      "cell_type": "code",
      "execution_count": 105,
      "metadata": {},
      "outputs": [],
      "source": [
        "# Load data \n",
        "descriptors = {}\n",
        "\n",
        "for i in FP_list:\n",
        "    path = \"Data/MolFingerprints/Results/\"\n",
        "    fingerprint_file_path = ''.join([path,i])\n",
        "    \n",
        "    descriptor_name_csv = ''.join([fingerprint_file_path,'.csv'])\n",
        "\n",
        "    descriptors[str(i)] = pd.read_csv(descriptor_name_csv)"
      ]
    },
    {
      "cell_type": "code",
      "execution_count": 117,
      "metadata": {},
      "outputs": [
        {
          "data": {
            "text/plain": [
              "['AtomPairs2DCount',\n",
              " 'AtomPairs2D',\n",
              " 'EState',\n",
              " 'CDKextended',\n",
              " 'CDK',\n",
              " 'CDKgraphonly',\n",
              " 'MACCS',\n",
              " 'PubChem',\n",
              " 'SubstructureCount',\n",
              " 'Substructure']"
            ]
          },
          "execution_count": 117,
          "metadata": {},
          "output_type": "execute_result"
        }
      ],
      "source": [
        "FP_list"
      ]
    },
    {
      "cell_type": "code",
      "execution_count": 116,
      "metadata": {},
      "outputs": [],
      "source": [
        "# Function to remove low variance features\n",
        "def remove_low_variance(input_data, threshold=0.1):\n",
        "    selection = VarianceThreshold(threshold)\n",
        "    selection.fit(input_data)\n",
        "    return input_data[input_data.columns[selection.get_support(indices=True)]]"
      ]
    },
    {
      "cell_type": "code",
      "execution_count": 119,
      "metadata": {},
      "outputs": [
        {
          "ename": "ValueError",
          "evalue": "could not convert string to float: 'CHEMBL606647'",
          "output_type": "error",
          "traceback": [
            "\u001b[0;31m---------------------------------------------------------------------------\u001b[0m",
            "\u001b[0;31mValueError\u001b[0m                                Traceback (most recent call last)",
            "\u001b[0;32m/tmp/ipykernel_20388/2379262238.py\u001b[0m in \u001b[0;36m<module>\u001b[0;34m\u001b[0m\n\u001b[1;32m      1\u001b[0m \u001b[0mX\u001b[0m \u001b[0;34m=\u001b[0m \u001b[0mdescriptors\u001b[0m\u001b[0;34m[\u001b[0m\u001b[0;34m\"AtomPairs2DCount\"\u001b[0m\u001b[0;34m]\u001b[0m\u001b[0;34m.\u001b[0m\u001b[0mdrop\u001b[0m\u001b[0;34m(\u001b[0m\u001b[0;34m'Name'\u001b[0m\u001b[0;34m,\u001b[0m \u001b[0maxis\u001b[0m\u001b[0;34m=\u001b[0m\u001b[0;36m1\u001b[0m\u001b[0;34m)\u001b[0m\u001b[0;34m\u001b[0m\u001b[0;34m\u001b[0m\u001b[0m\n\u001b[0;32m----> 2\u001b[0;31m \u001b[0mX\u001b[0m \u001b[0;34m=\u001b[0m \u001b[0mremove_low_variance\u001b[0m\u001b[0;34m(\u001b[0m\u001b[0mdescriptors\u001b[0m\u001b[0;34m[\u001b[0m\u001b[0;34m\"AtomPairs2DCount\"\u001b[0m\u001b[0;34m]\u001b[0m\u001b[0;34m,\u001b[0m \u001b[0mthreshold\u001b[0m\u001b[0;34m=\u001b[0m\u001b[0;36m0.1\u001b[0m\u001b[0;34m)\u001b[0m\u001b[0;34m\u001b[0m\u001b[0;34m\u001b[0m\u001b[0m\n\u001b[0m\u001b[1;32m      3\u001b[0m \u001b[0mX\u001b[0m\u001b[0;34m\u001b[0m\u001b[0;34m\u001b[0m\u001b[0m\n",
            "\u001b[0;32m/tmp/ipykernel_20388/1605990164.py\u001b[0m in \u001b[0;36mremove_low_variance\u001b[0;34m(input_data, threshold)\u001b[0m\n\u001b[1;32m      2\u001b[0m \u001b[0;32mdef\u001b[0m \u001b[0mremove_low_variance\u001b[0m\u001b[0;34m(\u001b[0m\u001b[0minput_data\u001b[0m\u001b[0;34m,\u001b[0m \u001b[0mthreshold\u001b[0m\u001b[0;34m=\u001b[0m\u001b[0;36m0.1\u001b[0m\u001b[0;34m)\u001b[0m\u001b[0;34m:\u001b[0m\u001b[0;34m\u001b[0m\u001b[0;34m\u001b[0m\u001b[0m\n\u001b[1;32m      3\u001b[0m     \u001b[0mselection\u001b[0m \u001b[0;34m=\u001b[0m \u001b[0mVarianceThreshold\u001b[0m\u001b[0;34m(\u001b[0m\u001b[0mthreshold\u001b[0m\u001b[0;34m)\u001b[0m\u001b[0;34m\u001b[0m\u001b[0;34m\u001b[0m\u001b[0m\n\u001b[0;32m----> 4\u001b[0;31m     \u001b[0mselection\u001b[0m\u001b[0;34m.\u001b[0m\u001b[0mfit\u001b[0m\u001b[0;34m(\u001b[0m\u001b[0minput_data\u001b[0m\u001b[0;34m)\u001b[0m\u001b[0;34m\u001b[0m\u001b[0;34m\u001b[0m\u001b[0m\n\u001b[0m\u001b[1;32m      5\u001b[0m     \u001b[0;32mreturn\u001b[0m \u001b[0minput_data\u001b[0m\u001b[0;34m[\u001b[0m\u001b[0minput_data\u001b[0m\u001b[0;34m.\u001b[0m\u001b[0mcolumns\u001b[0m\u001b[0;34m[\u001b[0m\u001b[0mselection\u001b[0m\u001b[0;34m.\u001b[0m\u001b[0mget_support\u001b[0m\u001b[0;34m(\u001b[0m\u001b[0mindices\u001b[0m\u001b[0;34m=\u001b[0m\u001b[0;32mTrue\u001b[0m\u001b[0;34m)\u001b[0m\u001b[0;34m]\u001b[0m\u001b[0;34m]\u001b[0m\u001b[0;34m\u001b[0m\u001b[0;34m\u001b[0m\u001b[0m\n",
            "\u001b[0;32m~/anaconda3/envs/ml-zoomcamp/lib/python3.8/site-packages/sklearn/feature_selection/_variance_threshold.py\u001b[0m in \u001b[0;36mfit\u001b[0;34m(self, X, y)\u001b[0m\n\u001b[1;32m     66\u001b[0m         \u001b[0mself\u001b[0m\u001b[0;34m\u001b[0m\u001b[0;34m\u001b[0m\u001b[0m\n\u001b[1;32m     67\u001b[0m         \"\"\"\n\u001b[0;32m---> 68\u001b[0;31m         X = self._validate_data(X, accept_sparse=('csr', 'csc'),\n\u001b[0m\u001b[1;32m     69\u001b[0m                                 \u001b[0mdtype\u001b[0m\u001b[0;34m=\u001b[0m\u001b[0mnp\u001b[0m\u001b[0;34m.\u001b[0m\u001b[0mfloat64\u001b[0m\u001b[0;34m,\u001b[0m\u001b[0;34m\u001b[0m\u001b[0;34m\u001b[0m\u001b[0m\n\u001b[1;32m     70\u001b[0m                                 force_all_finite='allow-nan')\n",
            "\u001b[0;32m~/anaconda3/envs/ml-zoomcamp/lib/python3.8/site-packages/sklearn/base.py\u001b[0m in \u001b[0;36m_validate_data\u001b[0;34m(self, X, y, reset, validate_separately, **check_params)\u001b[0m\n\u001b[1;32m    419\u001b[0m             \u001b[0mout\u001b[0m \u001b[0;34m=\u001b[0m \u001b[0mX\u001b[0m\u001b[0;34m\u001b[0m\u001b[0;34m\u001b[0m\u001b[0m\n\u001b[1;32m    420\u001b[0m         \u001b[0;32melif\u001b[0m \u001b[0misinstance\u001b[0m\u001b[0;34m(\u001b[0m\u001b[0my\u001b[0m\u001b[0;34m,\u001b[0m \u001b[0mstr\u001b[0m\u001b[0;34m)\u001b[0m \u001b[0;32mand\u001b[0m \u001b[0my\u001b[0m \u001b[0;34m==\u001b[0m \u001b[0;34m'no_validation'\u001b[0m\u001b[0;34m:\u001b[0m\u001b[0;34m\u001b[0m\u001b[0;34m\u001b[0m\u001b[0m\n\u001b[0;32m--> 421\u001b[0;31m             \u001b[0mX\u001b[0m \u001b[0;34m=\u001b[0m \u001b[0mcheck_array\u001b[0m\u001b[0;34m(\u001b[0m\u001b[0mX\u001b[0m\u001b[0;34m,\u001b[0m \u001b[0;34m**\u001b[0m\u001b[0mcheck_params\u001b[0m\u001b[0;34m)\u001b[0m\u001b[0;34m\u001b[0m\u001b[0;34m\u001b[0m\u001b[0m\n\u001b[0m\u001b[1;32m    422\u001b[0m             \u001b[0mout\u001b[0m \u001b[0;34m=\u001b[0m \u001b[0mX\u001b[0m\u001b[0;34m\u001b[0m\u001b[0;34m\u001b[0m\u001b[0m\n\u001b[1;32m    423\u001b[0m         \u001b[0;32melse\u001b[0m\u001b[0;34m:\u001b[0m\u001b[0;34m\u001b[0m\u001b[0;34m\u001b[0m\u001b[0m\n",
            "\u001b[0;32m~/anaconda3/envs/ml-zoomcamp/lib/python3.8/site-packages/sklearn/utils/validation.py\u001b[0m in \u001b[0;36minner_f\u001b[0;34m(*args, **kwargs)\u001b[0m\n\u001b[1;32m     61\u001b[0m             \u001b[0mextra_args\u001b[0m \u001b[0;34m=\u001b[0m \u001b[0mlen\u001b[0m\u001b[0;34m(\u001b[0m\u001b[0margs\u001b[0m\u001b[0;34m)\u001b[0m \u001b[0;34m-\u001b[0m \u001b[0mlen\u001b[0m\u001b[0;34m(\u001b[0m\u001b[0mall_args\u001b[0m\u001b[0;34m)\u001b[0m\u001b[0;34m\u001b[0m\u001b[0;34m\u001b[0m\u001b[0m\n\u001b[1;32m     62\u001b[0m             \u001b[0;32mif\u001b[0m \u001b[0mextra_args\u001b[0m \u001b[0;34m<=\u001b[0m \u001b[0;36m0\u001b[0m\u001b[0;34m:\u001b[0m\u001b[0;34m\u001b[0m\u001b[0;34m\u001b[0m\u001b[0m\n\u001b[0;32m---> 63\u001b[0;31m                 \u001b[0;32mreturn\u001b[0m \u001b[0mf\u001b[0m\u001b[0;34m(\u001b[0m\u001b[0;34m*\u001b[0m\u001b[0margs\u001b[0m\u001b[0;34m,\u001b[0m \u001b[0;34m**\u001b[0m\u001b[0mkwargs\u001b[0m\u001b[0;34m)\u001b[0m\u001b[0;34m\u001b[0m\u001b[0;34m\u001b[0m\u001b[0m\n\u001b[0m\u001b[1;32m     64\u001b[0m \u001b[0;34m\u001b[0m\u001b[0m\n\u001b[1;32m     65\u001b[0m             \u001b[0;31m# extra_args > 0\u001b[0m\u001b[0;34m\u001b[0m\u001b[0;34m\u001b[0m\u001b[0;34m\u001b[0m\u001b[0m\n",
            "\u001b[0;32m~/anaconda3/envs/ml-zoomcamp/lib/python3.8/site-packages/sklearn/utils/validation.py\u001b[0m in \u001b[0;36mcheck_array\u001b[0;34m(array, accept_sparse, accept_large_sparse, dtype, order, copy, force_all_finite, ensure_2d, allow_nd, ensure_min_samples, ensure_min_features, estimator)\u001b[0m\n\u001b[1;32m    671\u001b[0m                     \u001b[0marray\u001b[0m \u001b[0;34m=\u001b[0m \u001b[0marray\u001b[0m\u001b[0;34m.\u001b[0m\u001b[0mastype\u001b[0m\u001b[0;34m(\u001b[0m\u001b[0mdtype\u001b[0m\u001b[0;34m,\u001b[0m \u001b[0mcasting\u001b[0m\u001b[0;34m=\u001b[0m\u001b[0;34m\"unsafe\"\u001b[0m\u001b[0;34m,\u001b[0m \u001b[0mcopy\u001b[0m\u001b[0;34m=\u001b[0m\u001b[0;32mFalse\u001b[0m\u001b[0;34m)\u001b[0m\u001b[0;34m\u001b[0m\u001b[0;34m\u001b[0m\u001b[0m\n\u001b[1;32m    672\u001b[0m                 \u001b[0;32melse\u001b[0m\u001b[0;34m:\u001b[0m\u001b[0;34m\u001b[0m\u001b[0;34m\u001b[0m\u001b[0m\n\u001b[0;32m--> 673\u001b[0;31m                     \u001b[0marray\u001b[0m \u001b[0;34m=\u001b[0m \u001b[0mnp\u001b[0m\u001b[0;34m.\u001b[0m\u001b[0masarray\u001b[0m\u001b[0;34m(\u001b[0m\u001b[0marray\u001b[0m\u001b[0;34m,\u001b[0m \u001b[0morder\u001b[0m\u001b[0;34m=\u001b[0m\u001b[0morder\u001b[0m\u001b[0;34m,\u001b[0m \u001b[0mdtype\u001b[0m\u001b[0;34m=\u001b[0m\u001b[0mdtype\u001b[0m\u001b[0;34m)\u001b[0m\u001b[0;34m\u001b[0m\u001b[0;34m\u001b[0m\u001b[0m\n\u001b[0m\u001b[1;32m    674\u001b[0m             \u001b[0;32mexcept\u001b[0m \u001b[0mComplexWarning\u001b[0m \u001b[0;32mas\u001b[0m \u001b[0mcomplex_warning\u001b[0m\u001b[0;34m:\u001b[0m\u001b[0;34m\u001b[0m\u001b[0;34m\u001b[0m\u001b[0m\n\u001b[1;32m    675\u001b[0m                 raise ValueError(\"Complex data not supported\\n\"\n",
            "\u001b[0;32m~/anaconda3/envs/ml-zoomcamp/lib/python3.8/site-packages/numpy/core/_asarray.py\u001b[0m in \u001b[0;36masarray\u001b[0;34m(a, dtype, order)\u001b[0m\n\u001b[1;32m     81\u001b[0m \u001b[0;34m\u001b[0m\u001b[0m\n\u001b[1;32m     82\u001b[0m     \"\"\"\n\u001b[0;32m---> 83\u001b[0;31m     \u001b[0;32mreturn\u001b[0m \u001b[0marray\u001b[0m\u001b[0;34m(\u001b[0m\u001b[0ma\u001b[0m\u001b[0;34m,\u001b[0m \u001b[0mdtype\u001b[0m\u001b[0;34m,\u001b[0m \u001b[0mcopy\u001b[0m\u001b[0;34m=\u001b[0m\u001b[0;32mFalse\u001b[0m\u001b[0;34m,\u001b[0m \u001b[0morder\u001b[0m\u001b[0;34m=\u001b[0m\u001b[0morder\u001b[0m\u001b[0;34m)\u001b[0m\u001b[0;34m\u001b[0m\u001b[0;34m\u001b[0m\u001b[0m\n\u001b[0m\u001b[1;32m     84\u001b[0m \u001b[0;34m\u001b[0m\u001b[0m\n\u001b[1;32m     85\u001b[0m \u001b[0;34m\u001b[0m\u001b[0m\n",
            "\u001b[0;32m~/anaconda3/envs/ml-zoomcamp/lib/python3.8/site-packages/pandas/core/generic.py\u001b[0m in \u001b[0;36m__array__\u001b[0;34m(self, dtype)\u001b[0m\n\u001b[1;32m   1991\u001b[0m \u001b[0;34m\u001b[0m\u001b[0m\n\u001b[1;32m   1992\u001b[0m     \u001b[0;32mdef\u001b[0m \u001b[0m__array__\u001b[0m\u001b[0;34m(\u001b[0m\u001b[0mself\u001b[0m\u001b[0;34m,\u001b[0m \u001b[0mdtype\u001b[0m\u001b[0;34m:\u001b[0m \u001b[0mNpDtype\u001b[0m \u001b[0;34m|\u001b[0m \u001b[0;32mNone\u001b[0m \u001b[0;34m=\u001b[0m \u001b[0;32mNone\u001b[0m\u001b[0;34m)\u001b[0m \u001b[0;34m->\u001b[0m \u001b[0mnp\u001b[0m\u001b[0;34m.\u001b[0m\u001b[0mndarray\u001b[0m\u001b[0;34m:\u001b[0m\u001b[0;34m\u001b[0m\u001b[0;34m\u001b[0m\u001b[0m\n\u001b[0;32m-> 1993\u001b[0;31m         \u001b[0;32mreturn\u001b[0m \u001b[0mnp\u001b[0m\u001b[0;34m.\u001b[0m\u001b[0masarray\u001b[0m\u001b[0;34m(\u001b[0m\u001b[0mself\u001b[0m\u001b[0;34m.\u001b[0m\u001b[0m_values\u001b[0m\u001b[0;34m,\u001b[0m \u001b[0mdtype\u001b[0m\u001b[0;34m=\u001b[0m\u001b[0mdtype\u001b[0m\u001b[0;34m)\u001b[0m\u001b[0;34m\u001b[0m\u001b[0;34m\u001b[0m\u001b[0m\n\u001b[0m\u001b[1;32m   1994\u001b[0m \u001b[0;34m\u001b[0m\u001b[0m\n\u001b[1;32m   1995\u001b[0m     def __array_wrap__(\n",
            "\u001b[0;32m~/anaconda3/envs/ml-zoomcamp/lib/python3.8/site-packages/numpy/core/_asarray.py\u001b[0m in \u001b[0;36masarray\u001b[0;34m(a, dtype, order)\u001b[0m\n\u001b[1;32m     81\u001b[0m \u001b[0;34m\u001b[0m\u001b[0m\n\u001b[1;32m     82\u001b[0m     \"\"\"\n\u001b[0;32m---> 83\u001b[0;31m     \u001b[0;32mreturn\u001b[0m \u001b[0marray\u001b[0m\u001b[0;34m(\u001b[0m\u001b[0ma\u001b[0m\u001b[0;34m,\u001b[0m \u001b[0mdtype\u001b[0m\u001b[0;34m,\u001b[0m \u001b[0mcopy\u001b[0m\u001b[0;34m=\u001b[0m\u001b[0;32mFalse\u001b[0m\u001b[0;34m,\u001b[0m \u001b[0morder\u001b[0m\u001b[0;34m=\u001b[0m\u001b[0morder\u001b[0m\u001b[0;34m)\u001b[0m\u001b[0;34m\u001b[0m\u001b[0;34m\u001b[0m\u001b[0m\n\u001b[0m\u001b[1;32m     84\u001b[0m \u001b[0;34m\u001b[0m\u001b[0m\n\u001b[1;32m     85\u001b[0m \u001b[0;34m\u001b[0m\u001b[0m\n",
            "\u001b[0;31mValueError\u001b[0m: could not convert string to float: 'CHEMBL606647'"
          ]
        }
      ],
      "source": [
        "X = descriptors[\"AtomPairs2DCount\"].drop('Name', axis=1)\n",
        "X = remove_low_variance(descriptors[\"AtomPairs2DCount\"], threshold=0.1)\n",
        "X"
      ]
    },
    {
      "cell_type": "markdown",
      "metadata": {},
      "source": [
        "Some ideas:\n",
        "\n",
        "* Create a jupyter notebook with EDA of these dataset, then apply paddle software to calculate molecular fingerprints \n",
        "* Explore stratification of the dataset by the bioactivity class, take the pCHEMBL values, apply a threshold, assign categories based on activity, and perform EDA comparing the three groups in terms of molecular fingerprints distribution of histogram of pCHEMBL values, molecular weights, solubility, among others.\n",
        "* The ML models can be regression, multitask classification or binary classification\n",
        "* It is possible to convert molecules to a graph and apply DL algorithms "
      ]
    }
  ],
  "metadata": {
    "colab": {
      "collapsed_sections": [],
      "name": "beta-lactamase-data.ipynb",
      "provenance": []
    },
    "interpreter": {
      "hash": "e20e3b0b51f3143b7c97dbfc5299eec6802759c0a1249a4161be00143a606520"
    },
    "kernelspec": {
      "display_name": "Python 3.8.11 64-bit ('ml-zoomcamp': conda)",
      "name": "python3"
    },
    "language_info": {
      "codemirror_mode": {
        "name": "ipython",
        "version": 3
      },
      "file_extension": ".py",
      "mimetype": "text/x-python",
      "name": "python",
      "nbconvert_exporter": "python",
      "pygments_lexer": "ipython3",
      "version": "3.8.11"
    }
  },
  "nbformat": 4,
  "nbformat_minor": 0
}
