{
  "cells": [
    {
      "cell_type": "markdown",
      "metadata": {
        "id": "uOXYIR2P5bUi"
      },
      "source": [
        "# **EDA of Beta-Lactamases drug discovery project**\n",
        "\n",
        "Sebastián Ayala Ruano\n",
        "\n",
        "This [video](https://youtu.be/_GtEgiWWyK4) has more information about the project and how to collaborate in it."
      ]
    },
    {
      "cell_type": "markdown",
      "metadata": {},
      "source": [
        "## **Imports and data obtention**"
      ]
    },
    {
      "cell_type": "code",
      "execution_count": 36,
      "metadata": {},
      "outputs": [],
      "source": [
        "# Import libraries\n",
        "import zipfile\n",
        "import pandas as pd\n",
        "import numpy as np\n",
        "import matplotlib.pyplot as plt\n",
        "import glob\n",
        "from padelpy import padeldescriptor\n",
        "from scipy.stats import mannwhitneyu"
      ]
    },
    {
      "cell_type": "code",
      "execution_count": 5,
      "metadata": {
        "colab": {
          "base_uri": "https://localhost:8080/"
        },
        "id": "qsH_hHB45UCK",
        "outputId": "5be383fe-fb41-4038-ac70-dd2e56248de1"
      },
      "outputs": [
        {
          "name": "stdout",
          "output_type": "stream",
          "text": [
            "--2021-10-22 16:49:42--  https://github.com/dataprofessor/beta-lactamase/raw/main/beta_lactamase_CHEMBL29.zip\n",
            "Resolving github.com (github.com)... 140.82.114.4\n",
            "Connecting to github.com (github.com)|140.82.114.4|:443... connected.\n",
            "HTTP request sent, awaiting response... 302 Found\n",
            "Location: https://raw.githubusercontent.com/dataprofessor/beta-lactamase/main/beta_lactamase_CHEMBL29.zip [following]\n",
            "--2021-10-22 16:49:43--  https://raw.githubusercontent.com/dataprofessor/beta-lactamase/main/beta_lactamase_CHEMBL29.zip\n",
            "Resolving raw.githubusercontent.com (raw.githubusercontent.com)... 185.199.108.133, 185.199.109.133, 185.199.110.133, ...\n",
            "Connecting to raw.githubusercontent.com (raw.githubusercontent.com)|185.199.108.133|:443... connected.\n",
            "HTTP request sent, awaiting response... 200 OK\n",
            "Length: 1416390 (1.4M) [application/zip]\n",
            "Saving to: ‘./Data/beta_lactamase_CHEMBL29.zip’\n",
            "\n",
            "beta_lactamase_CHEM 100%[===================>]   1.35M  3.69MB/s    in 0.4s    \n",
            "\n",
            "2021-10-22 16:49:43 (3.69 MB/s) - ‘./Data/beta_lactamase_CHEMBL29.zip’ saved [1416390/1416390]\n",
            "\n"
          ]
        }
      ],
      "source": [
        "# Download data\n",
        "! mkdir Data \n",
        "! wget https://github.com/dataprofessor/beta-lactamase/raw/main/beta_lactamase_CHEMBL29.zip --directory ./Data"
      ]
    },
    {
      "cell_type": "code",
      "execution_count": 2,
      "metadata": {
        "id": "rcSbHGZf96Er"
      },
      "outputs": [],
      "source": [
        "# Concatenate all cv files from zip file into a single unified dataframe\n",
        "zf = zipfile.ZipFile(\"Data/beta_lactamase_CHEMBL29.zip\", \"r\")\n",
        "df = pd.concat( (pd.read_csv( zf.open(f) ) for f in zf.namelist() ) )"
      ]
    },
    {
      "cell_type": "code",
      "execution_count": 3,
      "metadata": {
        "colab": {
          "base_uri": "https://localhost:8080/",
          "height": 694
        },
        "id": "IOKQXs0H7MkY",
        "outputId": "3de694bf-ef50-4bf3-aaab-a7ab67e25b43"
      },
      "outputs": [
        {
          "data": {
            "text/html": [
              "<div>\n",
              "<style scoped>\n",
              "    .dataframe tbody tr th:only-of-type {\n",
              "        vertical-align: middle;\n",
              "    }\n",
              "\n",
              "    .dataframe tbody tr th {\n",
              "        vertical-align: top;\n",
              "    }\n",
              "\n",
              "    .dataframe thead th {\n",
              "        text-align: right;\n",
              "    }\n",
              "</style>\n",
              "<table border=\"1\" class=\"dataframe\">\n",
              "  <thead>\n",
              "    <tr style=\"text-align: right;\">\n",
              "      <th></th>\n",
              "      <th>molecule_chembl_id</th>\n",
              "      <th>canonical_smiles</th>\n",
              "      <th>standard_relation</th>\n",
              "      <th>standard_value</th>\n",
              "      <th>standard_units</th>\n",
              "      <th>standard_type</th>\n",
              "      <th>pchembl_value</th>\n",
              "      <th>target_pref_name</th>\n",
              "      <th>bao_label</th>\n",
              "    </tr>\n",
              "  </thead>\n",
              "  <tbody>\n",
              "    <tr>\n",
              "      <th>0</th>\n",
              "      <td>CHEMBL1730</td>\n",
              "      <td>CO/N=C(\\C(=O)N[C@@H]1C(=O)N2C(C(=O)O)=C(COC(C)...</td>\n",
              "      <td>=</td>\n",
              "      <td>10.0</td>\n",
              "      <td>/mM/s</td>\n",
              "      <td>Kcat/Km</td>\n",
              "      <td>NaN</td>\n",
              "      <td>Gil1</td>\n",
              "      <td>assay format</td>\n",
              "    </tr>\n",
              "    <tr>\n",
              "      <th>1</th>\n",
              "      <td>CHEMBL996</td>\n",
              "      <td>CO[C@@]1(NC(=O)Cc2cccs2)C(=O)N2C(C(=O)O)=C(COC...</td>\n",
              "      <td>NaN</td>\n",
              "      <td>NaN</td>\n",
              "      <td>NaN</td>\n",
              "      <td>Kcat/Km</td>\n",
              "      <td>NaN</td>\n",
              "      <td>Gil1</td>\n",
              "      <td>assay format</td>\n",
              "    </tr>\n",
              "    <tr>\n",
              "      <th>2</th>\n",
              "      <td>CHEMBL617</td>\n",
              "      <td>CC(=O)OCC1=C(C(=O)O)N2C(=O)[C@@H](NC(=O)Cc3ccc...</td>\n",
              "      <td>=</td>\n",
              "      <td>598.0</td>\n",
              "      <td>/mM/s</td>\n",
              "      <td>Kcat/Km</td>\n",
              "      <td>NaN</td>\n",
              "      <td>Gil1</td>\n",
              "      <td>assay format</td>\n",
              "    </tr>\n",
              "    <tr>\n",
              "      <th>3</th>\n",
              "      <td>CHEMBL702</td>\n",
              "      <td>CCN1CCN(C(=O)N[C@@H](C(=O)N[C@@H]2C(=O)N3[C@@H...</td>\n",
              "      <td>=</td>\n",
              "      <td>3400.0</td>\n",
              "      <td>/mM/s</td>\n",
              "      <td>Kcat/Km</td>\n",
              "      <td>NaN</td>\n",
              "      <td>Gil1</td>\n",
              "      <td>assay format</td>\n",
              "    </tr>\n",
              "    <tr>\n",
              "      <th>4</th>\n",
              "      <td>CHEMBL1449</td>\n",
              "      <td>CC1(C)S[C@@H]2[C@H](NC(=O)[C@H](C(=O)O)c3ccsc3...</td>\n",
              "      <td>=</td>\n",
              "      <td>10000.0</td>\n",
              "      <td>/mM/s</td>\n",
              "      <td>Kcat/Km</td>\n",
              "      <td>NaN</td>\n",
              "      <td>Gil1</td>\n",
              "      <td>assay format</td>\n",
              "    </tr>\n",
              "    <tr>\n",
              "      <th>...</th>\n",
              "      <td>...</td>\n",
              "      <td>...</td>\n",
              "      <td>...</td>\n",
              "      <td>...</td>\n",
              "      <td>...</td>\n",
              "      <td>...</td>\n",
              "      <td>...</td>\n",
              "      <td>...</td>\n",
              "      <td>...</td>\n",
              "    </tr>\n",
              "    <tr>\n",
              "      <th>13</th>\n",
              "      <td>CHEMBL561555</td>\n",
              "      <td>COC(=O)CC(N)(CC(=O)OC)C(=O)OCc1ccccc1</td>\n",
              "      <td>NaN</td>\n",
              "      <td>NaN</td>\n",
              "      <td>NaN</td>\n",
              "      <td>Inhibition</td>\n",
              "      <td>NaN</td>\n",
              "      <td>Beta-lactamase VIM-4</td>\n",
              "      <td>single protein format</td>\n",
              "    </tr>\n",
              "    <tr>\n",
              "      <th>14</th>\n",
              "      <td>CHEMBL561821</td>\n",
              "      <td>NC(CC(=O)OCc1ccccc1)(CC(=O)OCc1ccccc1)C(=O)OCc...</td>\n",
              "      <td>NaN</td>\n",
              "      <td>NaN</td>\n",
              "      <td>NaN</td>\n",
              "      <td>Inhibition</td>\n",
              "      <td>NaN</td>\n",
              "      <td>Beta-lactamase VIM-4</td>\n",
              "      <td>single protein format</td>\n",
              "    </tr>\n",
              "    <tr>\n",
              "      <th>15</th>\n",
              "      <td>CHEMBL561896</td>\n",
              "      <td>COC(=O)CC(CC(=O)OC)(NC(=O)Cc1ccccc1)C(=O)OC</td>\n",
              "      <td>NaN</td>\n",
              "      <td>NaN</td>\n",
              "      <td>NaN</td>\n",
              "      <td>Inhibition</td>\n",
              "      <td>NaN</td>\n",
              "      <td>Beta-lactamase VIM-4</td>\n",
              "      <td>single protein format</td>\n",
              "    </tr>\n",
              "    <tr>\n",
              "      <th>16</th>\n",
              "      <td>CHEMBL563044</td>\n",
              "      <td>COC(=O)C(CC(=O)OCc1ccccc1)(CC(=O)OCc1ccccc1)NC...</td>\n",
              "      <td>NaN</td>\n",
              "      <td>NaN</td>\n",
              "      <td>NaN</td>\n",
              "      <td>Inhibition</td>\n",
              "      <td>NaN</td>\n",
              "      <td>Beta-lactamase VIM-4</td>\n",
              "      <td>single protein format</td>\n",
              "    </tr>\n",
              "    <tr>\n",
              "      <th>17</th>\n",
              "      <td>CHEMBL553476</td>\n",
              "      <td>O=C(COc1ccccc1)NC(CC(=O)OCc1ccccc1)(CC(=O)OCc1...</td>\n",
              "      <td>NaN</td>\n",
              "      <td>NaN</td>\n",
              "      <td>NaN</td>\n",
              "      <td>Inhibition</td>\n",
              "      <td>NaN</td>\n",
              "      <td>Beta-lactamase VIM-4</td>\n",
              "      <td>single protein format</td>\n",
              "    </tr>\n",
              "  </tbody>\n",
              "</table>\n",
              "<p>71973 rows × 9 columns</p>\n",
              "</div>"
            ],
            "text/plain": [
              "   molecule_chembl_id                                   canonical_smiles  \\\n",
              "0          CHEMBL1730  CO/N=C(\\C(=O)N[C@@H]1C(=O)N2C(C(=O)O)=C(COC(C)...   \n",
              "1           CHEMBL996  CO[C@@]1(NC(=O)Cc2cccs2)C(=O)N2C(C(=O)O)=C(COC...   \n",
              "2           CHEMBL617  CC(=O)OCC1=C(C(=O)O)N2C(=O)[C@@H](NC(=O)Cc3ccc...   \n",
              "3           CHEMBL702  CCN1CCN(C(=O)N[C@@H](C(=O)N[C@@H]2C(=O)N3[C@@H...   \n",
              "4          CHEMBL1449  CC1(C)S[C@@H]2[C@H](NC(=O)[C@H](C(=O)O)c3ccsc3...   \n",
              "..                ...                                                ...   \n",
              "13       CHEMBL561555              COC(=O)CC(N)(CC(=O)OC)C(=O)OCc1ccccc1   \n",
              "14       CHEMBL561821  NC(CC(=O)OCc1ccccc1)(CC(=O)OCc1ccccc1)C(=O)OCc...   \n",
              "15       CHEMBL561896        COC(=O)CC(CC(=O)OC)(NC(=O)Cc1ccccc1)C(=O)OC   \n",
              "16       CHEMBL563044  COC(=O)C(CC(=O)OCc1ccccc1)(CC(=O)OCc1ccccc1)NC...   \n",
              "17       CHEMBL553476  O=C(COc1ccccc1)NC(CC(=O)OCc1ccccc1)(CC(=O)OCc1...   \n",
              "\n",
              "   standard_relation  standard_value standard_units standard_type  \\\n",
              "0                  =            10.0          /mM/s       Kcat/Km   \n",
              "1                NaN             NaN            NaN       Kcat/Km   \n",
              "2                  =           598.0          /mM/s       Kcat/Km   \n",
              "3                  =          3400.0          /mM/s       Kcat/Km   \n",
              "4                  =         10000.0          /mM/s       Kcat/Km   \n",
              "..               ...             ...            ...           ...   \n",
              "13               NaN             NaN            NaN    Inhibition   \n",
              "14               NaN             NaN            NaN    Inhibition   \n",
              "15               NaN             NaN            NaN    Inhibition   \n",
              "16               NaN             NaN            NaN    Inhibition   \n",
              "17               NaN             NaN            NaN    Inhibition   \n",
              "\n",
              "    pchembl_value      target_pref_name              bao_label  \n",
              "0             NaN                  Gil1           assay format  \n",
              "1             NaN                  Gil1           assay format  \n",
              "2             NaN                  Gil1           assay format  \n",
              "3             NaN                  Gil1           assay format  \n",
              "4             NaN                  Gil1           assay format  \n",
              "..            ...                   ...                    ...  \n",
              "13            NaN  Beta-lactamase VIM-4  single protein format  \n",
              "14            NaN  Beta-lactamase VIM-4  single protein format  \n",
              "15            NaN  Beta-lactamase VIM-4  single protein format  \n",
              "16            NaN  Beta-lactamase VIM-4  single protein format  \n",
              "17            NaN  Beta-lactamase VIM-4  single protein format  \n",
              "\n",
              "[71973 rows x 9 columns]"
            ]
          },
          "execution_count": 3,
          "metadata": {},
          "output_type": "execute_result"
        }
      ],
      "source": [
        "# Take a look at the dataframe\n",
        "df"
      ]
    },
    {
      "cell_type": "markdown",
      "metadata": {},
      "source": [
        "## **Exploratory Data Analysis**"
      ]
    },
    {
      "cell_type": "code",
      "execution_count": 4,
      "metadata": {},
      "outputs": [
        {
          "name": "stdout",
          "output_type": "stream",
          "text": [
            "<class 'pandas.core.frame.DataFrame'>\n",
            "Int64Index: 71973 entries, 0 to 17\n",
            "Data columns (total 9 columns):\n",
            " #   Column              Non-Null Count  Dtype  \n",
            "---  ------              --------------  -----  \n",
            " 0   molecule_chembl_id  71973 non-null  object \n",
            " 1   canonical_smiles    71937 non-null  object \n",
            " 2   standard_relation   70934 non-null  object \n",
            " 3   standard_value      71185 non-null  float64\n",
            " 4   standard_units      70521 non-null  object \n",
            " 5   standard_type       71969 non-null  object \n",
            " 6   pchembl_value       64424 non-null  float64\n",
            " 7   target_pref_name    71973 non-null  object \n",
            " 8   bao_label           71973 non-null  object \n",
            "dtypes: float64(2), object(7)\n",
            "memory usage: 5.5+ MB\n"
          ]
        }
      ],
      "source": [
        "# General measurements of the dataset \n",
        "df.info()"
      ]
    },
    {
      "cell_type": "markdown",
      "metadata": {},
      "source": [
        "### **Target variable: pCHEMBL value**"
      ]
    },
    {
      "cell_type": "code",
      "execution_count": 5,
      "metadata": {
        "colab": {
          "base_uri": "https://localhost:8080/",
          "height": 323
        },
        "id": "loeDWobu_crw",
        "outputId": "eb3f5dde-86a6-46ca-c2ce-b2eeaadb583e"
      },
      "outputs": [
        {
          "data": {
            "image/png": "[encoded data removed]",
            "text/plain": [
              "<Figure size 360x324 with 1 Axes>"
            ]
          },
          "metadata": {
            "needs_background": "light"
          },
          "output_type": "display_data"
        }
      ],
      "source": [
        "# Bar plot of Missing vs Non-Missing Data of pCHEMBL values\n",
        "\n",
        "# Data\n",
        "missing = df.pchembl_value.isnull().sum()\n",
        "nonmissing = df.pchembl_value.notnull().sum()\n",
        "\n",
        "x = ['Missing', 'Non-Missing']\n",
        "y = [missing, nonmissing]\n",
        "\n",
        "# Setup plot\n",
        "fig, ax = plt.subplots()\n",
        "\n",
        "# Make bar plot\n",
        "p = ax.bar(x, y, color = ['#F8766D', '#00BFC4'], ec = 'black')\n",
        "\n",
        "ax.set_title('pChEMBL Missing Data', fontsize=14, fontweight='bold', pad=15)\n",
        "#ax.set_xticklabels(x, fontweight='bold')\n",
        "\n",
        "ax.set_ylim(0,70000)\n",
        "plt.xticks(fontsize=14)\n",
        "plt.yticks(fontsize=14)\n",
        "\n",
        "# Label above bar\n",
        "for index, data in enumerate(y):\n",
        "    plt.text(x=index-0.1 , y =data+1000 , s=f\"{data}\" , fontdict=dict(fontsize=14))\n",
        "\n",
        "fig.set_size_inches(5,4.5)\n",
        "plt.show()"
      ]
    },
    {
      "cell_type": "code",
      "execution_count": 6,
      "metadata": {
        "colab": {
          "base_uri": "https://localhost:8080/",
          "height": 745
        },
        "id": "y1D_ifqDIRjS",
        "outputId": "3f2f39a8-b1b6-48f0-c870-78fd7366cfa4"
      },
      "outputs": [],
      "source": [
        "# Dataset with non-missing pChEMBL values\n",
        "df2 = df[df.pchembl_value.notnull()]"
      ]
    },
    {
      "cell_type": "code",
      "execution_count": 7,
      "metadata": {},
      "outputs": [
        {
          "name": "stdout",
          "output_type": "stream",
          "text": [
            "Number of unique ChEMBL ID: 63038\n",
            "Total number of ChEMBL ID:  64424\n"
          ]
        }
      ],
      "source": [
        "# Verify duplicated molecules by ChEMBL ID\n",
        "print('Number of unique ChEMBL ID:', str(len(df2.molecule_chembl_id.unique()) )  )\n",
        "print('Total number of ChEMBL ID: ', str(len(df2)))"
      ]
    },
    {
      "cell_type": "markdown",
      "metadata": {},
      "source": [
        "I will use a function to replace duplicated molecules by one single row with mean of standard_value and pchembl_value of duplicated rows. The replacement is applied only if standard deviation of pchembl_value is lower than 2."
      ]
    },
    {
      "cell_type": "code",
      "execution_count": 10,
      "metadata": {},
      "outputs": [],
      "source": [
        "def combine_molecule_duplicates(dataset):\n",
        "    '''\n",
        "    Function to replace duplicated molecules by one single row with mean of standard_value and \n",
        "    pchembl_value of duplicated rows. The replacement is applied only if standard deviation of \n",
        "    pchembl_value is lower than 2.\n",
        "\n",
        "        Parameters:\n",
        "            dataset (DataFrame): A pandas DataFrame with duplicated molecules\n",
        "        \n",
        "        Returns: \n",
        "            dataset (DataFrame): A pandas DataFrame without duplicated molecules\n",
        "    '''\n",
        "    # Calculate standard deviation of all molecules\n",
        "    std_by_uniqueID = dataset.groupby(\"molecule_chembl_id\").std()\n",
        "\n",
        "    # Filter standard deviation of duplicated molecules lower than 2\n",
        "    std_by_uniqueID = std_by_uniqueID[std_by_uniqueID.pchembl_value < 2]\n",
        "\n",
        "    # Calculate mean of all molecules\n",
        "    mean_by_uniqueID = dataset.groupby(\"molecule_chembl_id\").mean()\n",
        "    \n",
        "    # Filter mean of duplicated molecules that have standard deviation lower than 2\n",
        "    mean_by_uniqueID = mean_by_uniqueID.filter(items = std_by_uniqueID.index, axis=0)\n",
        "\n",
        "    # Create a dictionary of rows with mean values of standard_value and pchembl_value\n",
        "    new_rows = {}\n",
        "\n",
        "    for i in mean_by_uniqueID.index:\n",
        "        rows = dataset.loc[dataset.molecule_chembl_id == i].copy()\n",
        "        row = rows.iloc[0].copy()\n",
        "        row.standard_value = mean_by_uniqueID.loc[i].standard_value\n",
        "        row.pchembl_value = mean_by_uniqueID.loc[i].pchembl_value\n",
        "        new_rows[i] = row\n",
        "    \n",
        "    # Convert dictionary to dataframa\n",
        "    df_new_rows = pd.DataFrame(new_rows).T\n",
        "    \n",
        "    # Delete duplicated molecules from the original dataset\n",
        "    dataset = dataset.drop_duplicates(subset=[\"molecule_chembl_id\"], keep=False)\n",
        "\n",
        "    # Add new rows to the original dataset\n",
        "    dataset = pd.concat([dataset, df_new_rows], axis=0).reset_index(drop=True)\n",
        "\n",
        "    return dataset"
      ]
    },
    {
      "cell_type": "code",
      "execution_count": 11,
      "metadata": {},
      "outputs": [],
      "source": [
        "# Replace duplicated molecules by mean of their standard_value and pchembl_value\n",
        "df2_non_duplic = combine_molecule_duplicates(df2)"
      ]
    },
    {
      "cell_type": "code",
      "execution_count": 12,
      "metadata": {},
      "outputs": [
        {
          "name": "stdout",
          "output_type": "stream",
          "text": [
            "Number of unique ChEMBL ID: 63030\n",
            "Total number of ChEMBL ID:  63030\n"
          ]
        }
      ],
      "source": [
        "# Verify that duplicates were deleted \n",
        "print('Number of unique ChEMBL ID:', str(len(df2_non_duplic.molecule_chembl_id.unique()) )  )\n",
        "print('Total number of ChEMBL ID: ', str(len(df2_non_duplic)) )"
      ]
    },
    {
      "cell_type": "code",
      "execution_count": 13,
      "metadata": {},
      "outputs": [
        {
          "data": {
            "image/png": "[encoded data removed]",
            "text/plain": [
              "<Figure size 576x288 with 1 Axes>"
            ]
          },
          "metadata": {
            "needs_background": "light"
          },
          "output_type": "display_data"
        }
      ],
      "source": [
        "# Distribution of pchembl_values\n",
        "df2_non_duplic.pchembl_value.hist(bins=40, figsize=(8,4), color='#00BFC4', ec='black')\n",
        "\n",
        "plt.title('Histogram of pChEMBL values', fontsize=14, fontweight='black', pad=15)\n",
        "plt.xticks(fontsize=12)\n",
        "plt.yticks(fontsize=12)\n",
        "plt.show()"
      ]
    },
    {
      "cell_type": "markdown",
      "metadata": {},
      "source": [
        "The histogram shows that distribution of this variable has a normal shape, which is because the formula of this coefficient includes log10, so there is no need to apply a transformation in this feature."
      ]
    },
    {
      "cell_type": "code",
      "execution_count": 14,
      "metadata": {},
      "outputs": [
        {
          "name": "stderr",
          "output_type": "stream",
          "text": [
            "/tmp/ipykernel_3209/317397268.py:3: SettingWithCopyWarning: \n",
            "A value is trying to be set on a copy of a slice from a DataFrame.\n",
            "Try using .loc[row_indexer,col_indexer] = value instead\n",
            "\n",
            "See the caveats in the documentation: https://pandas.pydata.org/pandas-docs/stable/user_guide/indexing.html#returning-a-view-versus-a-copy\n",
            "  df2[\"pchembl_bin\"] = (df2[\"pchembl_value\"] >= 5).astype(int)\n"
          ]
        }
      ],
      "source": [
        "# Convert pchembl values to binary \n",
        "# 0 means that molecules are inactive and 1 that they are active \n",
        "df2[\"pchembl_bin\"] = (df2[\"pchembl_value\"] >= 5).astype(int)"
      ]
    },
    {
      "cell_type": "code",
      "execution_count": 15,
      "metadata": {},
      "outputs": [
        {
          "data": {
            "image/png": "[encoded data removed]",
            "text/plain": [
              "<Figure size 360x324 with 1 Axes>"
            ]
          },
          "metadata": {
            "needs_background": "light"
          },
          "output_type": "display_data"
        }
      ],
      "source": [
        "# Bar plot of active and inactive molecules considering pCHEMBL values\n",
        "\n",
        "# Data\n",
        "active = len(df2[df2.pchembl_bin == 1])\n",
        "inactive = len(df2[df2.pchembl_bin == 0])\n",
        "\n",
        "x = ['Active', 'Inactive']\n",
        "y = [active, inactive]\n",
        "\n",
        "# Setup plot\n",
        "fig, ax = plt.subplots()\n",
        "\n",
        "# Make bar plot\n",
        "p = ax.bar(x, y, color = ['#F8766D', '#00BFC4'], ec = 'black')\n",
        "\n",
        "ax.set_title('pChEMBL activity', fontsize=14, fontweight='bold', pad=15)\n",
        "#ax.set_xticklabels(x, fontweight='bold')\n",
        "\n",
        "ax.set_ylim(0,70000)\n",
        "plt.xticks(fontsize=14)\n",
        "plt.yticks(fontsize=14)\n",
        "\n",
        "# Label above bar\n",
        "for index, data in enumerate(y):\n",
        "    plt.text(x=index-0.1 , y =data+1000 , s=f\"{data}\" , fontdict=dict(fontsize=14))\n",
        "\n",
        "fig.set_size_inches(5,4.5)\n",
        "plt.show()"
      ]
    },
    {
      "cell_type": "markdown",
      "metadata": {},
      "source": [
        "We observed that the dataset is not unbalanced regarding pchemb_bin values\n",
        "\n",
        "Also, I will use a modified version of the function to calculate Mann-Whitney U Test provided by data professor in [this notebook](https://github.com/dataprofessor/code/blob/master/python/CDD_ML_Part_2_Exploratory_Data_Analysis.ipynb). This test will be used for calculating if there are statistical significance differences between active and inactive categories regarding pchembl value."
      ]
    },
    {
      "cell_type": "code",
      "execution_count": 41,
      "metadata": {},
      "outputs": [],
      "source": [
        "# Statistical analysis | Mann-Whitney U Test\n",
        "def mannwhitney(descriptors, dataset, verbose=False):\n",
        "  # https://machinelearningmastery.com/nonparametric-statistical-significance-tests-in-python/\n",
        "\n",
        "# seed the random number generator\n",
        "  np.random.seed(1)\n",
        "\n",
        "# actives and inactives\n",
        "  selection = [descriptors, 'pchembl_bin']\n",
        "  df = dataset[selection]\n",
        "  active = df[df.pchembl_bin == 1]\n",
        "  active = active[descriptors]\n",
        "\n",
        "  selection = [descriptors, 'pchembl_bin']\n",
        "  df = dataset[selection]\n",
        "  inactive = df[df.pchembl_bin == 0]\n",
        "  inactive = inactive[descriptors]\n",
        "\n",
        "# compare samples\n",
        "  stat, p = mannwhitneyu(active, inactive)\n",
        "  #print('Statistics=%.3f, p=%.3f' % (stat, p))\n",
        "\n",
        "# interpret\n",
        "  alpha = 0.05\n",
        "  if p > alpha:\n",
        "    interpretation = 'Same distribution (fail to reject H0)'\n",
        "  else:\n",
        "    interpretation = 'Different distribution (reject H0)'\n",
        "  \n",
        "  results = pd.DataFrame({'Descriptor':descriptors,\n",
        "                          'Statistics':stat,\n",
        "                          'p':p,\n",
        "                          'alpha':alpha,\n",
        "                          'Interpretation':interpretation}, index=[0])\n",
        "\n",
        "  return results"
      ]
    },
    {
      "cell_type": "code",
      "execution_count": 42,
      "metadata": {},
      "outputs": [
        {
          "data": {
            "text/html": [
              "<div>\n",
              "<style scoped>\n",
              "    .dataframe tbody tr th:only-of-type {\n",
              "        vertical-align: middle;\n",
              "    }\n",
              "\n",
              "    .dataframe tbody tr th {\n",
              "        vertical-align: top;\n",
              "    }\n",
              "\n",
              "    .dataframe thead th {\n",
              "        text-align: right;\n",
              "    }\n",
              "</style>\n",
              "<table border=\"1\" class=\"dataframe\">\n",
              "  <thead>\n",
              "    <tr style=\"text-align: right;\">\n",
              "      <th></th>\n",
              "      <th>Descriptor</th>\n",
              "      <th>Statistics</th>\n",
              "      <th>p</th>\n",
              "      <th>alpha</th>\n",
              "      <th>Interpretation</th>\n",
              "    </tr>\n",
              "  </thead>\n",
              "  <tbody>\n",
              "    <tr>\n",
              "      <th>0</th>\n",
              "      <td>pchembl_value</td>\n",
              "      <td>961318525.0</td>\n",
              "      <td>0.0</td>\n",
              "      <td>0.05</td>\n",
              "      <td>Different distribution (reject H0)</td>\n",
              "    </tr>\n",
              "  </tbody>\n",
              "</table>\n",
              "</div>"
            ],
            "text/plain": [
              "      Descriptor   Statistics    p  alpha                      Interpretation\n",
              "0  pchembl_value  961318525.0  0.0   0.05  Different distribution (reject H0)"
            ]
          },
          "execution_count": 42,
          "metadata": {},
          "output_type": "execute_result"
        }
      ],
      "source": [
        "mannwhitney('pchembl_value', df3)"
      ]
    },
    {
      "cell_type": "markdown",
      "metadata": {},
      "source": [
        "We observed that distributions of active and inactive compounds in terms of pchembl value are statistically different."
      ]
    },
    {
      "cell_type": "markdown",
      "metadata": {},
      "source": [
        "### **Other features**"
      ]
    },
    {
      "cell_type": "code",
      "execution_count": 16,
      "metadata": {},
      "outputs": [
        {
          "data": {
            "image/png": "[encoded data removed]",
            "text/plain": [
              "<Figure size 1728x288 with 1 Axes>"
            ]
          },
          "metadata": {
            "needs_background": "light"
          },
          "output_type": "display_data"
        }
      ],
      "source": [
        "# Distribution of target proteins  \n",
        "df2.target_pref_name.value_counts()[0:50].plot.bar(figsize=(24,4), color='#00BFC4', ec='black')\n",
        "\n",
        "plt.title('Top 50 Targets', fontsize=14, fontweight='black', pad=15)\n",
        "plt.show()"
      ]
    },
    {
      "cell_type": "code",
      "execution_count": 17,
      "metadata": {},
      "outputs": [],
      "source": [
        "# Filter only molecules tested on Beta-lactamase AmpC\n",
        "df3 = df2[df2.target_pref_name == \"Beta-lactamase AmpC\"]"
      ]
    },
    {
      "cell_type": "code",
      "execution_count": 18,
      "metadata": {},
      "outputs": [
        {
          "name": "stdout",
          "output_type": "stream",
          "text": [
            "<class 'pandas.core.frame.DataFrame'>\n",
            "Int64Index: 62050 entries, 1 to 62457\n",
            "Data columns (total 10 columns):\n",
            " #   Column              Non-Null Count  Dtype  \n",
            "---  ------              --------------  -----  \n",
            " 0   molecule_chembl_id  62050 non-null  object \n",
            " 1   canonical_smiles    62035 non-null  object \n",
            " 2   standard_relation   62050 non-null  object \n",
            " 3   standard_value      62050 non-null  float64\n",
            " 4   standard_units      62050 non-null  object \n",
            " 5   standard_type       62050 non-null  object \n",
            " 6   pchembl_value       62050 non-null  float64\n",
            " 7   target_pref_name    62050 non-null  object \n",
            " 8   bao_label           62050 non-null  object \n",
            " 9   pchembl_bin         62050 non-null  int64  \n",
            "dtypes: float64(2), int64(1), object(7)\n",
            "memory usage: 5.2+ MB\n"
          ]
        }
      ],
      "source": [
        "df3.info()"
      ]
    },
    {
      "cell_type": "markdown",
      "metadata": {},
      "source": [
        "We observed that there are not null values in any feature of the dataset"
      ]
    },
    {
      "cell_type": "code",
      "execution_count": 19,
      "metadata": {},
      "outputs": [
        {
          "data": {
            "image/png": "[encoded data removed]",
            "text/plain": [
              "<Figure size 360x324 with 1 Axes>"
            ]
          },
          "metadata": {
            "needs_background": "light"
          },
          "output_type": "display_data"
        }
      ],
      "source": [
        "# Bar plot of active and inactive molecules considering pCHEMBL values of Beta-lactamase AmpC target\n",
        "\n",
        "# Data\n",
        "active = len(df3[df3.pchembl_bin == 1])\n",
        "inactive = len(df3[df3.pchembl_bin == 0])\n",
        "\n",
        "x = ['Active', 'Inactive']\n",
        "y = [active, inactive]\n",
        "\n",
        "# Setup plot\n",
        "fig, ax = plt.subplots()\n",
        "\n",
        "# Make bar plot\n",
        "p = ax.bar(x, y, color = ['#F8766D', '#00BFC4'], ec = 'black')\n",
        "\n",
        "ax.set_title('pChEMBL activity', fontsize=14, fontweight='bold', pad=15)\n",
        "#ax.set_xticklabels(x, fontweight='bold')\n",
        "\n",
        "ax.set_ylim(0,70000)\n",
        "plt.xticks(fontsize=14)\n",
        "plt.yticks(fontsize=14)\n",
        "\n",
        "# Label above bar\n",
        "for index, data in enumerate(y):\n",
        "    plt.text(x=index-0.1 , y =data+1000 , s=f\"{data}\" , fontdict=dict(fontsize=14))\n",
        "\n",
        "fig.set_size_inches(5,4.5)\n",
        "plt.show()"
      ]
    },
    {
      "cell_type": "markdown",
      "metadata": {},
      "source": [
        "We observed that the balance proportion was maintained after filtering molecules that bind to Beta-lactamase AmpC"
      ]
    },
    {
      "cell_type": "code",
      "execution_count": 20,
      "metadata": {
        "colab": {
          "base_uri": "https://localhost:8080/",
          "height": 321
        },
        "id": "fl1ykWbNKOJz",
        "outputId": "92a15a84-abe2-4bb3-ad46-743fd91a221d"
      },
      "outputs": [
        {
          "data": {
            "image/png": "[encoded data removed]",
            "text/plain": [
              "<Figure size 576x288 with 1 Axes>"
            ]
          },
          "metadata": {
            "needs_background": "light"
          },
          "output_type": "display_data"
        }
      ],
      "source": [
        "# Top 10 activity types \n",
        "df3.standard_type.value_counts()[:10].plot.bar(figsize=(8,4), color='#00BFC4', ec='black')\n",
        "\n",
        "plt.title('Top 10 activity types ', fontsize=14, fontweight='black', pad=15)\n",
        "plt.show()"
      ]
    },
    {
      "cell_type": "code",
      "execution_count": 21,
      "metadata": {
        "colab": {
          "base_uri": "https://localhost:8080/",
          "height": 408
        },
        "id": "pQ2fxUGVSeNn",
        "outputId": "d96e5e4c-ce9d-40f3-bc0e-31b10a1c7d53"
      },
      "outputs": [
        {
          "data": {
            "image/png": "[encoded data removed]",
            "text/plain": [
              "<Figure size 576x288 with 1 Axes>"
            ]
          },
          "metadata": {
            "needs_background": "light"
          },
          "output_type": "display_data"
        }
      ],
      "source": [
        "# Histogram of BioAssay Ontology\n",
        "bao_labels = df3.bao_label.value_counts()\n",
        "bao_labels.plot.bar(figsize=(8,4), color='#00BFC4', ec='black')\n",
        "\n",
        "plt.title('Histogram of BioAssay Ontology', fontsize=14, fontweight='black', pad=15)\n",
        "plt.xticks(fontsize=12)\n",
        "plt.yticks(fontsize=12)\n",
        "plt.show()"
      ]
    },
    {
      "cell_type": "markdown",
      "metadata": {},
      "source": [
        "### **Calculation of molecular descriptors from SMILES with PaDEL**"
      ]
    },
    {
      "cell_type": "markdown",
      "metadata": {},
      "source": [
        "#### **Preparation of files to calculate molecular descriptors**\n",
        "To make this step yo need to install Padelpy library with pip, as follows: \n",
        "\n",
        "```python\n",
        "pip install padelpy\n",
        "\n",
        "```"
      ]
    },
    {
      "cell_type": "code",
      "execution_count": 276,
      "metadata": {},
      "outputs": [
        {
          "name": "stdout",
          "output_type": "stream",
          "text": [
            "mkdir: cannot create directory ‘Data/MolFingerprints’: File exists\n",
            "--2021-10-23 15:12:56--  https://github.com/dataprofessor/padel/raw/main/fingerprints_xml.zip\n",
            "Resolving github.com (github.com)... 140.82.112.3\n",
            "Connecting to github.com (github.com)|140.82.112.3|:443... connected.\n",
            "HTTP request sent, awaiting response... 302 Found\n",
            "Location: https://raw.githubusercontent.com/dataprofessor/padel/main/fingerprints_xml.zip [following]\n",
            "--2021-10-23 15:12:57--  https://raw.githubusercontent.com/dataprofessor/padel/main/fingerprints_xml.zip\n",
            "Resolving raw.githubusercontent.com (raw.githubusercontent.com)... 185.199.108.133, 185.199.109.133, 185.199.110.133, ...\n",
            "Connecting to raw.githubusercontent.com (raw.githubusercontent.com)|185.199.108.133|:443... connected.\n",
            "HTTP request sent, awaiting response... 200 OK\n",
            "Length: 10871 (11K) [application/zip]\n",
            "Saving to: ‘./Data/MolFingerprints/fingerprints_xml.zip.1’\n",
            "\n",
            "fingerprints_xml.zi 100%[===================>]  10.62K  --.-KB/s    in 0.002s  \n",
            "\n",
            "2021-10-23 15:12:57 (5.43 MB/s) - ‘./Data/MolFingerprints/fingerprints_xml.zip.1’ saved [10871/10871]\n",
            "\n",
            "Archive:  Data/MolFingerprints/fingerprints_xml.zip\n",
            "  inflating: Data/MolFingerprints/AtomPairs2DFingerprintCount.xml  \n",
            "  inflating: Data/MolFingerprints/AtomPairs2DFingerprinter.xml  \n",
            "  inflating: Data/MolFingerprints/EStateFingerprinter.xml  \n",
            "  inflating: Data/MolFingerprints/ExtendedFingerprinter.xml  \n",
            "  inflating: Data/MolFingerprints/Fingerprinter.xml  \n",
            "  inflating: Data/MolFingerprints/GraphOnlyFingerprinter.xml  \n",
            "  inflating: Data/MolFingerprints/KlekotaRothFingerprintCount.xml  \n",
            "  inflating: Data/MolFingerprints/KlekotaRothFingerprinter.xml  \n",
            "  inflating: Data/MolFingerprints/MACCSFingerprinter.xml  \n",
            "  inflating: Data/MolFingerprints/PubchemFingerprinter.xml  \n",
            "  inflating: Data/MolFingerprints/SubstructureFingerprintCount.xml  \n",
            "  inflating: Data/MolFingerprints/SubstructureFingerprinter.xml  \n"
          ]
        }
      ],
      "source": [
        "# Download and unzip fingerprint XML files\n",
        "! mkdir Data/MolFingerprints\n",
        "! wget https://github.com/dataprofessor/padel/raw/main/fingerprints_xml.zip --directory ./Data/MolFingerprints\n",
        "! unzip Data/MolFingerprints/fingerprints_xml.zip -d Data/MolFingerprints"
      ]
    },
    {
      "cell_type": "code",
      "execution_count": 22,
      "metadata": {},
      "outputs": [
        {
          "data": {
            "text/plain": [
              "['Data/MolFingerprints/AtomPairs2DFingerprintCount.xml',\n",
              " 'Data/MolFingerprints/AtomPairs2DFingerprinter.xml',\n",
              " 'Data/MolFingerprints/EStateFingerprinter.xml',\n",
              " 'Data/MolFingerprints/ExtendedFingerprinter.xml',\n",
              " 'Data/MolFingerprints/Fingerprinter.xml',\n",
              " 'Data/MolFingerprints/GraphOnlyFingerprinter.xml',\n",
              " 'Data/MolFingerprints/KlekotaRothFingerprintCount.xml',\n",
              " 'Data/MolFingerprints/KlekotaRothFingerprinter.xml',\n",
              " 'Data/MolFingerprints/MACCSFingerprinter.xml',\n",
              " 'Data/MolFingerprints/PubchemFingerprinter.xml',\n",
              " 'Data/MolFingerprints/SubstructureFingerprintCount.xml',\n",
              " 'Data/MolFingerprints/SubstructureFingerprinter.xml']"
            ]
          },
          "execution_count": 22,
          "metadata": {},
          "output_type": "execute_result"
        }
      ],
      "source": [
        "# List and sort fingerprint XML files\n",
        "xml_files = glob.glob(\"Data/MolFingerprints/*.xml\")\n",
        "xml_files.sort()\n",
        "xml_files"
      ]
    },
    {
      "cell_type": "code",
      "execution_count": 23,
      "metadata": {},
      "outputs": [],
      "source": [
        "# Create a list with shorten names of xml files\n",
        "FP_list = ['AtomPairs2DCount',\n",
        " 'AtomPairs2D',\n",
        " 'EState',\n",
        " 'CDKextended',\n",
        " 'CDK',\n",
        " 'CDKgraphonly',\n",
        " 'KlekotaRothCount',\n",
        " 'KlekotaRoth',\n",
        " 'MACCS',\n",
        " 'PubChem',\n",
        " 'SubstructureCount',\n",
        " 'Substructure']"
      ]
    },
    {
      "cell_type": "code",
      "execution_count": 24,
      "metadata": {},
      "outputs": [
        {
          "data": {
            "text/plain": [
              "{'AtomPairs2DCount': 'Data/MolFingerprints/AtomPairs2DFingerprintCount.xml',\n",
              " 'AtomPairs2D': 'Data/MolFingerprints/AtomPairs2DFingerprinter.xml',\n",
              " 'EState': 'Data/MolFingerprints/EStateFingerprinter.xml',\n",
              " 'CDKextended': 'Data/MolFingerprints/ExtendedFingerprinter.xml',\n",
              " 'CDK': 'Data/MolFingerprints/Fingerprinter.xml',\n",
              " 'CDKgraphonly': 'Data/MolFingerprints/GraphOnlyFingerprinter.xml',\n",
              " 'KlekotaRothCount': 'Data/MolFingerprints/KlekotaRothFingerprintCount.xml',\n",
              " 'KlekotaRoth': 'Data/MolFingerprints/KlekotaRothFingerprinter.xml',\n",
              " 'MACCS': 'Data/MolFingerprints/MACCSFingerprinter.xml',\n",
              " 'PubChem': 'Data/MolFingerprints/PubchemFingerprinter.xml',\n",
              " 'SubstructureCount': 'Data/MolFingerprints/SubstructureFingerprintCount.xml',\n",
              " 'Substructure': 'Data/MolFingerprints/SubstructureFingerprinter.xml'}"
            ]
          },
          "execution_count": 24,
          "metadata": {},
          "output_type": "execute_result"
        }
      ],
      "source": [
        "# Create a dictionary with shorten names as keys and xml file names as values\n",
        "fp = dict(zip(FP_list, xml_files))\n",
        "fp"
      ]
    },
    {
      "cell_type": "code",
      "execution_count": 25,
      "metadata": {},
      "outputs": [
        {
          "data": {
            "text/html": [
              "<div>\n",
              "<style scoped>\n",
              "    .dataframe tbody tr th:only-of-type {\n",
              "        vertical-align: middle;\n",
              "    }\n",
              "\n",
              "    .dataframe tbody tr th {\n",
              "        vertical-align: top;\n",
              "    }\n",
              "\n",
              "    .dataframe thead th {\n",
              "        text-align: right;\n",
              "    }\n",
              "</style>\n",
              "<table border=\"1\" class=\"dataframe\">\n",
              "  <thead>\n",
              "    <tr style=\"text-align: right;\">\n",
              "      <th></th>\n",
              "      <th>canonical_smiles</th>\n",
              "      <th>molecule_chembl_id</th>\n",
              "    </tr>\n",
              "  </thead>\n",
              "  <tbody>\n",
              "    <tr>\n",
              "      <th>1</th>\n",
              "      <td>O=C([O-])C1=CS[C@@H]2/C(=C\\c3cnc4n3CCOC4)C(=O)...</td>\n",
              "      <td>CHEMBL263746</td>\n",
              "    </tr>\n",
              "    <tr>\n",
              "      <th>2</th>\n",
              "      <td>O=C([O-])C1=CS[C@@H]2/C(=C\\c3cnc4n3CCNC4)C(=O)...</td>\n",
              "      <td>CHEMBL331090</td>\n",
              "    </tr>\n",
              "    <tr>\n",
              "      <th>3</th>\n",
              "      <td>O=C([O-])C1=CS[C@@H]2/C(=C\\c3cc4n(n3)CCC4)C(=O...</td>\n",
              "      <td>CHEMBL124416</td>\n",
              "    </tr>\n",
              "    <tr>\n",
              "      <th>4</th>\n",
              "      <td>C[C@]1(Cn2ccnn2)[C@H](C(=O)O)N2C(=O)C[C@H]2S1(...</td>\n",
              "      <td>CHEMBL404</td>\n",
              "    </tr>\n",
              "    <tr>\n",
              "      <th>5</th>\n",
              "      <td>O=C([O-])C1=CS[C@@H]2/C(=C\\c3cn4c5c(sc4n3)CCC5...</td>\n",
              "      <td>CHEMBL122450</td>\n",
              "    </tr>\n",
              "    <tr>\n",
              "      <th>...</th>\n",
              "      <td>...</td>\n",
              "      <td>...</td>\n",
              "    </tr>\n",
              "    <tr>\n",
              "      <th>62394</th>\n",
              "      <td>CCCC1(C(=O)O)/C(=C/CO)O[C@@H]2CC(=O)N21</td>\n",
              "      <td>CHEMBL4114789</td>\n",
              "    </tr>\n",
              "    <tr>\n",
              "      <th>62395</th>\n",
              "      <td>COC(=O)/C(CCCc1ccccc1)=C1/O[C@@H]2CC(=O)N2C1C(...</td>\n",
              "      <td>CHEMBL4114672</td>\n",
              "    </tr>\n",
              "    <tr>\n",
              "      <th>62396</th>\n",
              "      <td>O=C(O)/C(C/C=C/CN(Cc1ccccc1)C(=O)OCc1ccccc1)=C...</td>\n",
              "      <td>CHEMBL4114749</td>\n",
              "    </tr>\n",
              "    <tr>\n",
              "      <th>62397</th>\n",
              "      <td>O=C(OCc1ccccc1)C1/C(=C2\\COC(CI)C2)O[C@@H]2CC(=...</td>\n",
              "      <td>CHEMBL4114687</td>\n",
              "    </tr>\n",
              "    <tr>\n",
              "      <th>62457</th>\n",
              "      <td>O=S(=O)(NCB(O)O)c1ccc(-c2nnn[nH]2)cc1C(F)(F)F</td>\n",
              "      <td>CHEMBL3613796</td>\n",
              "    </tr>\n",
              "  </tbody>\n",
              "</table>\n",
              "<p>62050 rows × 2 columns</p>\n",
              "</div>"
            ],
            "text/plain": [
              "                                        canonical_smiles molecule_chembl_id\n",
              "1      O=C([O-])C1=CS[C@@H]2/C(=C\\c3cnc4n3CCOC4)C(=O)...       CHEMBL263746\n",
              "2      O=C([O-])C1=CS[C@@H]2/C(=C\\c3cnc4n3CCNC4)C(=O)...       CHEMBL331090\n",
              "3      O=C([O-])C1=CS[C@@H]2/C(=C\\c3cc4n(n3)CCC4)C(=O...       CHEMBL124416\n",
              "4      C[C@]1(Cn2ccnn2)[C@H](C(=O)O)N2C(=O)C[C@H]2S1(...          CHEMBL404\n",
              "5      O=C([O-])C1=CS[C@@H]2/C(=C\\c3cn4c5c(sc4n3)CCC5...       CHEMBL122450\n",
              "...                                                  ...                ...\n",
              "62394            CCCC1(C(=O)O)/C(=C/CO)O[C@@H]2CC(=O)N21      CHEMBL4114789\n",
              "62395  COC(=O)/C(CCCc1ccccc1)=C1/O[C@@H]2CC(=O)N2C1C(...      CHEMBL4114672\n",
              "62396  O=C(O)/C(C/C=C/CN(Cc1ccccc1)C(=O)OCc1ccccc1)=C...      CHEMBL4114749\n",
              "62397  O=C(OCc1ccccc1)C1/C(=C2\\COC(CI)C2)O[C@@H]2CC(=...      CHEMBL4114687\n",
              "62457      O=S(=O)(NCB(O)O)c1ccc(-c2nnn[nH]2)cc1C(F)(F)F      CHEMBL3613796\n",
              "\n",
              "[62050 rows x 2 columns]"
            ]
          },
          "execution_count": 25,
          "metadata": {},
          "output_type": "execute_result"
        }
      ],
      "source": [
        "# Prepare data subset as input to PaDELpy\n",
        "df_padelpy = pd.concat( [df3['canonical_smiles'], df3['molecule_chembl_id']], axis=1 )\n",
        "df_padelpy.to_csv('molecule.smi', sep='\\t', index=False, header=False)\n",
        "df_padelpy"
      ]
    },
    {
      "cell_type": "markdown",
      "metadata": {},
      "source": [
        "#### **Calculate descriptors**\n",
        "There are 12 fingerprint types in PaDEL. To calculate all 12, make sure to make adjustments to the descriptor types input argument to any of the ones in the fp dictionary variable as shown above, e.g. SubstructureFingerprintCount.xml"
      ]
    },
    {
      "cell_type": "code",
      "execution_count": 35,
      "metadata": {},
      "outputs": [],
      "source": [
        "for i in fp:\n",
        "    path = \"Data/MolFingerprints/Results/\"\n",
        "    fingerprint = i\n",
        "    fingerprint_output_file_path = ''.join([path,fingerprint]) \n",
        "    fingerprint_output_file = ''.join([fingerprint_output_file_path,'.csv']) \n",
        "    fingerprint_descriptortypes = fp[fingerprint]\n",
        "\n",
        "    padeldescriptor(mol_dir='molecule.smi', \n",
        "                    d_file=fingerprint_output_file, \n",
        "                    descriptortypes= fingerprint_descriptortypes,\n",
        "                    detectaromaticity=True,\n",
        "                    standardizenitro=True,\n",
        "                    standardizetautomers=True,\n",
        "                    threads=2,\n",
        "                    removesalt=True,\n",
        "                    log=True,\n",
        "                    fingerprints=True)"
      ]
    },
    {
      "cell_type": "markdown",
      "metadata": {},
      "source": [
        "Some ideas:\n",
        "\n",
        "* Create a jupyter notebook with EDA of these dataset, then apply paddle software to calculate molecular fingerprints \n",
        "* Explore stratification of the dataset by the bioactivity class, take the pCHEMBL values, apply a threshold, assign categories based on activity, and perform EDA comparing the three groups in terms of molecular fingerprints distribution of histogram of pCHEMBL values, molecular weights, solubility, among others.\n",
        "* The ML models can be regression, multitask classification or binary classification\n",
        "* It is possible to convert molecules to a graph and apply DL algorithms "
      ]
    }
  ],
  "metadata": {
    "colab": {
      "collapsed_sections": [],
      "name": "beta-lactamase-data.ipynb",
      "provenance": []
    },
    "interpreter": {
      "hash": "e20e3b0b51f3143b7c97dbfc5299eec6802759c0a1249a4161be00143a606520"
    },
    "kernelspec": {
      "display_name": "Python 3.8.11 64-bit ('ml-zoomcamp': conda)",
      "name": "python3"
    },
    "language_info": {
      "codemirror_mode": {
        "name": "ipython",
        "version": 3
      },
      "file_extension": ".py",
      "mimetype": "text/x-python",
      "name": "python",
      "nbconvert_exporter": "python",
      "pygments_lexer": "ipython3",
      "version": "3.8.11"
    }
  },
  "nbformat": 4,
  "nbformat_minor": 0
}
